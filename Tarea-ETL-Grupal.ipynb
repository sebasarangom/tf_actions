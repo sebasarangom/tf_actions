{
 "cells": [
  {
   "cell_type": "markdown",
   "metadata": {
    "id": "IcY9y56n86vn"
   },
   "source": [
    "# Tutorial: creación de ETLs con PySpark"
   ]
  },
  {
   "cell_type": "markdown",
   "metadata": {
    "id": "gcg5UCbU86vp"
   },
   "source": [
    "## 1. Introducción\t\n",
    "    ¿Qué aprenderá?\n",
    "\tEn este tutorial aprenderá cómo puede utilizar PySpark para crear un proceso de ETL básico.\n",
    "\n",
    "\t¿Qué construirá?     \n",
    "        Construirá un ETL que toma los datos desde la base de datos transacional de WideWorldImporters (WWImportersTransactional), los transforma  a una representación cercana al análisis y los  almacena en la base de datos relacional WWImportersDWH.\n",
    "    \n",
    "\t¿Para qué?\n",
    "\tLa construcción de ETLs que se ajusten a modelos multidimensionales es un paso necesario dentro de un proceso de analìtica 1.0 , pues permite tomar los datos crudos de una fuente, generalmente transaccional, para transformarlos en datos limpios que puedan utilizarse para la toma de decisiones.\n",
    "    \n",
    "    ¿Qué necesita?\n",
    "    1. Python 3 con pip instalado\n",
    "    2. Jupyter notebook\n",
    "    3. Paquetes: Pyspark (3.0.1) y pandas (1.2.1)\n",
    "    4. Controlador Connector J de MySQL (ya se encuentra instalado)\n",
    "    5. Servidor SQL con base de datos relacional \"WWImportersTransactional\" y base de datos relacional que corresponde a la bodega de WWI \"Estudiante_i\"\n",
    "\t"
   ]
  },
  {
   "cell_type": "markdown",
   "metadata": {
    "id": "LqQVz5s686vq"
   },
   "source": [
    "## 2. Proceso de ETL para una dimensión."
   ]
  },
  {
   "cell_type": "code",
   "execution_count": 1,
   "metadata": {
    "id": "os1iJYmu86vt"
   },
   "outputs": [],
   "source": [
    "# Configuración servidor base de datos transaccional\n",
    "# Recuerde usar Estudiante_i como usuario y la contraseña asigana en el excel de conexión a maquina virtual como contraseña\n",
    "db_user = 'Estudiante_8_202413'\n",
    "db_psswd = 'MISO_aabb1122'\n",
    "source_db_connection_string = 'jdbc:mysql://157.253.236.116:8080/ProyectoTransaccional'\n",
    "\n",
    "dest_db_connection_string = 'jdbc:mysql://157.253.236.116:8080/Proyecto_G7_202413'\n",
    "\n",
    "# Driver de conexion\n",
    "path_jar_driver = 'C:\\Program Files (x86)\\MySQL\\Connector J 8.0\\mysql-connector-java-8.0.28.jar'"
   ]
  },
  {
   "cell_type": "code",
   "execution_count": 2,
   "metadata": {
    "id": "HAGk_V1986vu"
   },
   "outputs": [],
   "source": [
    "import os \n",
    "from pyspark.sql import functions as f, SparkSession, types as t\n",
    "from pyspark import SparkContext, SparkConf, SQLContext\n",
    "from pyspark.sql.functions import udf, col, length, isnan, when, count, regexp_replace,date_format,substring,dayofweek, expr, concat, lit\n",
    "from pyspark.sql.window import Window\n",
    "from datetime import datetime, date"
   ]
  },
  {
   "cell_type": "code",
   "execution_count": 3,
   "metadata": {
    "id": "TQ3DM_Xf86vv",
    "outputId": "f2cdb157-a92d-4edc-a174-6f3bd09b9885"
   },
   "outputs": [
    {
     "name": "stderr",
     "output_type": "stream",
     "text": [
      "C:\\Users\\estudiante\\anaconda3\\envs\\Tutoriales\\lib\\site-packages\\pyspark\\sql\\context.py:79: FutureWarning: Deprecated in 3.0.0. Use SparkSession.builder.getOrCreate() instead.\n",
      "  FutureWarning\n"
     ]
    }
   ],
   "source": [
    "#Configuración de la sesión\n",
    "conf=SparkConf() \\\n",
    "    .set('spark.driver.extraClassPath', path_jar_driver)\n",
    "\n",
    "spark_context = SparkContext(conf=conf)\n",
    "sql_context = SQLContext(spark_context)\n",
    "spark = sql_context.sparkSession"
   ]
  },
  {
   "cell_type": "markdown",
   "metadata": {
    "id": "buA7s-vL86vw"
   },
   "source": [
    "### Conexión y carga de datos"
   ]
  },
  {
   "cell_type": "markdown",
   "metadata": {
    "id": "r_QZ-j9q86vw"
   },
   "source": [
    "Se define la función para conexión y cargue de dataframes desde la base de datos origen y luego la función para guardar un dataframe en una tabla de la base de datos destino."
   ]
  },
  {
   "cell_type": "code",
   "execution_count": 4,
   "metadata": {
    "id": "Mhy0jbh_86vw"
   },
   "outputs": [],
   "source": [
    "def obterner_dataframe_desde_csv(_PATH, _sep):\n",
    "    return spark.read.load(_PATH, format=\"csv\", sep=_sep, inferSchema=\"true\", header='true')\n",
    "\n",
    "def obtener_dataframe_de_bd(db_connection_string, sql, db_user, db_psswd):\n",
    "    df_bd = spark.read.format('jdbc')\\\n",
    "        .option('url', db_connection_string) \\\n",
    "        .option('dbtable', sql) \\\n",
    "        .option('user', db_user) \\\n",
    "        .option('password', db_psswd) \\\n",
    "        .option('driver', 'com.mysql.cj.jdbc.Driver') \\\n",
    "        .load()\n",
    "    return df_bd\n",
    "\n",
    "def guardar_db(db_connection_string, df, tabla, db_user, db_psswd):\n",
    "    df.select('*').write.format('jdbc') \\\n",
    "      .mode('append') \\\n",
    "      .option('url', db_connection_string) \\\n",
    "      .option('dbtable', tabla) \\\n",
    "      .option('user', db_user) \\\n",
    "      .option('password', db_psswd) \\\n",
    "      .option('driver', 'com.mysql.cj.jdbc.Driver') \\\n",
    "      .save()"
   ]
  },
  {
   "cell_type": "markdown",
   "metadata": {
    "id": "ZhFsv4ba86vw"
   },
   "source": [
    "### BLOQUE 1\n",
    "Empezamos con el bloque 1: la dimensión <i>Aeropuerto</i>, su fuente de datos viene de la tabla transaccional <i>aeropuertos</i>."
   ]
  },
  {
   "cell_type": "markdown",
   "metadata": {
    "id": "XNKxFA-f86vx"
   },
   "source": [
    "#### Extracción\n"
   ]
  },
  {
   "cell_type": "code",
   "execution_count": 5,
   "metadata": {
    "id": "IopBNYuc86vx",
    "outputId": "0589f8a9-527e-4b28-d096-a176efd48e97"
   },
   "outputs": [
    {
     "name": "stdout",
     "output_type": "stream",
     "text": [
      "+-----+----+------------+-------------+------------+---------+-------+--------+--------------------+--------------+--------------+-----------+----+---------+----------+------------------+--------------+-----+----------+--------------------+----------------+-------------+----+\n",
      "|sigla|iata|      nombre|    municipio|departamento|categoria|latitud|longitud|         propietario|    explotador|longitud_pista|ancho_pista|pbmo|elevacion|resolucion|fecha_construccion|fecha_vigencia|clase|      tipo|numero_vuelos_origen|gcd_departamento|gcd_municipio|Anio|\n",
      "+-----+----+------------+-------------+------------+---------+-------+--------+--------------------+--------------+--------------+-----------+----+---------+----------+------------------+--------------+-----+----------+--------------------+----------------+-------------+----+\n",
      "|  7FO|    |     la isla|Puerto Gaitán|        meta|Aeródromo| 4.4211|-71.6271|LA ISLA Y EL ROSA...| LA CEIBA S.A.|          1170|         14|3000|      538|   1325000|        2015-06-05|    2018-06-11|   1A|   Privado|              171525|              50|        50568|2015|\n",
      "|  7FO|    |     la isla|Puerto Gaitán|        meta|Aeródromo| 4.4211|-71.6271|LA ISLA Y EL ROSA...| LA CEIBA S.A.|          1273|         15|3000|      538|   1325000|        2015-06-05|    2018-06-11|   1A|   Privado|              571675|              50|        50568|2016|\n",
      "|  7FO|    |     la isla|Puerto Gaitán|        meta|Aeródromo| 4.4211|-71.6271|LA ISLA Y EL ROSA...| LA CEIBA S.A.|          1597|         18|3000|      538|   1325000|        2015-06-05|    2018-06-11|   1A|   Privado|              994420|              50|        50568|2017|\n",
      "|  7FU|    |la escondida|Puerto Gaitán|        meta|Aeródromo| 4.6108|-71.1935|PALMAS SICARARE S...|COSARGO S.A.S.|           667|         16|5000|      564|   1843000|        2013-04-26|    2016-05-07|   1A|Fumigación|              252325|              50|        50568|2015|\n",
      "|  7FU|    |la escondida|Puerto Gaitán|        meta|Aeródromo| 4.6108|-71.1935|PALMAS SICARARE S...|COSARGO S.A.S.|           337|         13|5000|      564|   1843000|        2013-04-26|    2016-05-07|   1A|Fumigación|              126667|              50|        50568|2016|\n",
      "+-----+----+------------+-------------+------------+---------+-------+--------+--------------------+--------------+--------------+-----------+----+---------+----------+------------------+--------------+-----+----------+--------------------+----------------+-------------+----+\n",
      "only showing top 5 rows\n",
      "\n",
      "['sigla', 'iata', 'nombre', 'municipio', 'departamento', 'categoria', 'latitud', 'longitud', 'propietario', 'explotador', 'longitud_pista', 'ancho_pista', 'pbmo', 'elevacion', 'resolucion', 'fecha_construccion', 'fecha_vigencia', 'clase', 'tipo', 'numero_vuelos_origen', 'gcd_departamento', 'gcd_municipio', 'Anio']\n"
     ]
    }
   ],
   "source": [
    "#EXTRACCION\n",
    "sql_aeropuertos = '''(SELECT * FROM ProyectoTransaccional.aeropuertos) AS Temp_aeropuertos'''\n",
    "aeropuertos = obtener_dataframe_de_bd(source_db_connection_string, sql_aeropuertos, db_user, db_psswd)\n",
    "aeropuertos.show(5)\n",
    "\n",
    "print(aeropuertos.columns)"
   ]
  },
  {
   "cell_type": "markdown",
   "metadata": {
    "id": "vtE61qk986vx"
   },
   "source": [
    "#### Transformación"
   ]
  },
  {
   "cell_type": "code",
   "execution_count": 6,
   "metadata": {},
   "outputs": [
    {
     "name": "stdout",
     "output_type": "stream",
     "text": [
      "+----------------+-----+----+------------+---------------+------------------+---------+-------+--------+--------------------+--------------+--------------+-----------+----+---------+----------+------------------+--------------+-----+----------+--------------------+----------------+-------------+----+\n",
      "|idAeropuerto_DWH|sigla|iata|      nombre|nombreMunicipio|nombreDepartamento|categoria|latitud|longitud|         propietario|    explotador|longitud_pista|ancho_pista|pbmo|elevacion|resolucion|fecha_construccion|fecha_vigencia|clase|      tipo|numero_vuelos_origen|gcd_departamento|gcd_municipio|Anio|\n",
      "+----------------+-----+----+------------+---------------+------------------+---------+-------+--------+--------------------+--------------+--------------+-----------+----+---------+----------+------------------+--------------+-----+----------+--------------------+----------------+-------------+----+\n",
      "|               1|  7FO|    |     la isla|  Puerto Gaitán|              meta|Aeródromo| 4.4211|-71.6271|LA ISLA Y EL ROSA...| LA CEIBA S.A.|          1170|         14|3000|      538|   1325000|        2015-06-05|    2018-06-11|   1A|   Privado|              171525|              50|        50568|2015|\n",
      "|               2|  7FO|    |     la isla|  Puerto Gaitán|              meta|Aeródromo| 4.4211|-71.6271|LA ISLA Y EL ROSA...| LA CEIBA S.A.|          1273|         15|3000|      538|   1325000|        2015-06-05|    2018-06-11|   1A|   Privado|              571675|              50|        50568|2016|\n",
      "|               3|  7FO|    |     la isla|  Puerto Gaitán|              meta|Aeródromo| 4.4211|-71.6271|LA ISLA Y EL ROSA...| LA CEIBA S.A.|          1597|         18|3000|      538|   1325000|        2015-06-05|    2018-06-11|   1A|   Privado|              994420|              50|        50568|2017|\n",
      "|               4|  7FU|    |la escondida|  Puerto Gaitán|              meta|Aeródromo| 4.6108|-71.1935|PALMAS SICARARE S...|COSARGO S.A.S.|           667|         16|5000|      564|   1843000|        2013-04-26|    2016-05-07|   1A|Fumigación|              252325|              50|        50568|2015|\n",
      "|               5|  7FU|    |la escondida|  Puerto Gaitán|              meta|Aeródromo| 4.6108|-71.1935|PALMAS SICARARE S...|COSARGO S.A.S.|           337|         13|5000|      564|   1843000|        2013-04-26|    2016-05-07|   1A|Fumigación|              126667|              50|        50568|2016|\n",
      "+----------------+-----+----+------------+---------------+------------------+---------+-------+--------+--------------------+--------------+--------------+-----------+----+---------+----------+------------------+--------------+-----+----------+--------------------+----------------+-------------+----+\n",
      "only showing top 5 rows\n",
      "\n"
     ]
    }
   ],
   "source": [
    "# TRANSFORMACION\n",
    "aeropuertosTemp = aeropuertos.coalesce(1).withColumn('idAeropuerto_DWH', f.monotonically_increasing_id() + 1)\n",
    "aeropuertosTemp = aeropuertosTemp.selectExpr('idAeropuerto_DWH', 'sigla', 'iata', 'nombre', 'municipio as nombreMunicipio', 'departamento as nombreDepartamento', 'categoria', 'latitud', 'longitud', 'propietario', 'explotador', 'longitud_pista', 'ancho_pista', 'pbmo', 'elevacion', 'resolucion', 'fecha_construccion', 'fecha_vigencia', 'clase', 'tipo', 'numero_vuelos_origen', 'gcd_departamento', 'gcd_municipio', 'Anio')\n",
    "aeropuertosTemp.show(5)"
   ]
  },
  {
   "cell_type": "code",
   "execution_count": 7,
   "metadata": {},
   "outputs": [
    {
     "name": "stdout",
     "output_type": "stream",
     "text": [
      "+----------------+-----+----+------------+---------+---------------+------------------+\n",
      "|idAeropuerto_DWH|sigla|iata|      nombre|elevacion|nombreMunicipio|nombreDepartamento|\n",
      "+----------------+-----+----+------------+---------+---------------+------------------+\n",
      "|               1|  7FO|    |     la isla|      538|  Puerto Gaitán|              meta|\n",
      "|               2|  7FO|    |     la isla|      538|  Puerto Gaitán|              meta|\n",
      "|               3|  7FO|    |     la isla|      538|  Puerto Gaitán|              meta|\n",
      "|               4|  7FU|    |la escondida|      564|  Puerto Gaitán|              meta|\n",
      "|               5|  7FU|    |la escondida|      564|  Puerto Gaitán|              meta|\n",
      "+----------------+-----+----+------------+---------+---------------+------------------+\n",
      "only showing top 5 rows\n",
      "\n"
     ]
    }
   ],
   "source": [
    "aeropuertosDim = aeropuertosTemp.select('idAeropuerto_DWH','sigla','iata','nombre','elevacion','nombreMunicipio','nombreDepartamento')\n",
    "aeropuertosDim.show(5)"
   ]
  },
  {
   "cell_type": "markdown",
   "metadata": {
    "id": "X9Oou0g986vy"
   },
   "source": [
    "#### Carga\n",
    "Una vez realizado esto, se guardan los resultados en la base de datos destino\n"
   ]
  },
  {
   "cell_type": "code",
   "execution_count": 8,
   "metadata": {
    "id": "qICUWYCa86vy"
   },
   "outputs": [],
   "source": [
    "# CARGUE\n",
    "guardar_db(dest_db_connection_string, aeropuertosDim,'Estudiante_8_202413.Aeropuerto', db_user, db_psswd)"
   ]
  },
  {
   "cell_type": "markdown",
   "metadata": {
    "id": "K6k37LtO86vy"
   },
   "source": [
    "Verifique los resultados usando MySQL Workbench"
   ]
  },
  {
   "cell_type": "markdown",
   "metadata": {
    "id": "fvj5E1GS86vz"
   },
   "source": [
    "### BLOQUE 2\n",
    "Empezamos el bloque 2: <i>MiniDimensiónAeropuerto</i>. Su fuente de datos viene de la tabla transaccional <i>aeropuertos</i>."
   ]
  },
  {
   "cell_type": "markdown",
   "metadata": {
    "id": "B5kFkHTD86vz"
   },
   "source": [
    "#### Extracción"
   ]
  },
  {
   "cell_type": "code",
   "execution_count": 9,
   "metadata": {
    "id": "FEW2mcMn86vz",
    "outputId": "a18be86c-fd81-4b56-de5c-bec1f41db118"
   },
   "outputs": [
    {
     "name": "stdout",
     "output_type": "stream",
     "text": [
      "+----------------+-----+----+------------+---------------+------------------+---------+-------+--------+--------------------+--------------+--------------+-----------+----+---------+----------+------------------+--------------+-----+----------+--------------------+----------------+-------------+----+\n",
      "|idAeropuerto_DWH|sigla|iata|      nombre|nombreMunicipio|nombreDepartamento|categoria|latitud|longitud|         propietario|    explotador|longitud_pista|ancho_pista|pbmo|elevacion|resolucion|fecha_construccion|fecha_vigencia|clase|      tipo|numero_vuelos_origen|gcd_departamento|gcd_municipio|Anio|\n",
      "+----------------+-----+----+------------+---------------+------------------+---------+-------+--------+--------------------+--------------+--------------+-----------+----+---------+----------+------------------+--------------+-----+----------+--------------------+----------------+-------------+----+\n",
      "|               1|  7FO|    |     la isla|  Puerto Gaitán|              meta|Aeródromo| 4.4211|-71.6271|LA ISLA Y EL ROSA...| LA CEIBA S.A.|          1170|         14|3000|      538|   1325000|        2015-06-05|    2018-06-11|   1A|   Privado|              171525|              50|        50568|2015|\n",
      "|               2|  7FO|    |     la isla|  Puerto Gaitán|              meta|Aeródromo| 4.4211|-71.6271|LA ISLA Y EL ROSA...| LA CEIBA S.A.|          1273|         15|3000|      538|   1325000|        2015-06-05|    2018-06-11|   1A|   Privado|              571675|              50|        50568|2016|\n",
      "|               3|  7FO|    |     la isla|  Puerto Gaitán|              meta|Aeródromo| 4.4211|-71.6271|LA ISLA Y EL ROSA...| LA CEIBA S.A.|          1597|         18|3000|      538|   1325000|        2015-06-05|    2018-06-11|   1A|   Privado|              994420|              50|        50568|2017|\n",
      "|               4|  7FU|    |la escondida|  Puerto Gaitán|              meta|Aeródromo| 4.6108|-71.1935|PALMAS SICARARE S...|COSARGO S.A.S.|           667|         16|5000|      564|   1843000|        2013-04-26|    2016-05-07|   1A|Fumigación|              252325|              50|        50568|2015|\n",
      "|               5|  7FU|    |la escondida|  Puerto Gaitán|              meta|Aeródromo| 4.6108|-71.1935|PALMAS SICARARE S...|COSARGO S.A.S.|           337|         13|5000|      564|   1843000|        2013-04-26|    2016-05-07|   1A|Fumigación|              126667|              50|        50568|2016|\n",
      "+----------------+-----+----+------------+---------------+------------------+---------+-------+--------+--------------------+--------------+--------------+-----------+----+---------+----------+------------------+--------------+-----+----------+--------------------+----------------+-------------+----+\n",
      "only showing top 5 rows\n",
      "\n"
     ]
    }
   ],
   "source": [
    "#EXTRACCION\n",
    "aeropuertosTemp = aeropuertosTemp.withColumn('numero_vuelos_origen', f.abs('numero_vuelos_origen'))\n",
    "aeropuertosTemp.show(5)"
   ]
  },
  {
   "cell_type": "markdown",
   "metadata": {
    "id": "ddFhEOmL86vz"
   },
   "source": [
    "#### Transformación"
   ]
  },
  {
   "cell_type": "code",
   "execution_count": 10,
   "metadata": {
    "id": "8un2p4so86v0",
    "outputId": "ba2758d9-aca3-4198-c13c-514bdbf51061"
   },
   "outputs": [
    {
     "name": "stdout",
     "output_type": "stream",
     "text": [
      "+----------+------------------+---------------+-----------------------+-----+----------+\n",
      "|idMini_DWH|rangoLongitudPista|rangoAnchoPista|rangoNumeroVuelosOrigen|clase|      tipo|\n",
      "+----------+------------------+---------------+-----------------------+-----+----------+\n",
      "|         1|                R4|             R3|                     R3|   1A|   Privado|\n",
      "|         2|                R4|             R3|                     R4|   1A|   Privado|\n",
      "|         3|                R2|             R3|                     R3|   1A|Fumigación|\n",
      "|         4|                R1|             R2|                     R2|   1A|Fumigación|\n",
      "|         5|                R1|             R2|                     R3|   1A|Fumigación|\n",
      "|         6|                R2|             R2|                     R4|   1A|   Privado|\n",
      "|         7|                R1|             R1|                     R3|   1A|   Privado|\n",
      "|         8|                R1|             R2|                     R2|   1A|   Público|\n",
      "|         9|                R1|             R1|                     R3|   1A|   Público|\n",
      "|        10|                R1|             R1|                     R2|   1A|   Público|\n",
      "+----------+------------------+---------------+-----------------------+-----+----------+\n",
      "only showing top 10 rows\n",
      "\n",
      "341\n"
     ]
    }
   ],
   "source": [
    "# TRANSFORMACION\n",
    "cuartiles_longitud = aeropuertosTemp.approxQuantile('longitud_pista', [0.25, 0.5, 0.75], 0)\n",
    "r1_longitud_max = cuartiles_longitud[0]\n",
    "r2_longitud_max = cuartiles_longitud[1]\n",
    "r3_longitud_max = cuartiles_longitud[2]\n",
    "\n",
    "cuartiles_ancho = aeropuertosTemp.approxQuantile('ancho_pista', [0.25, 0.5, 0.75], 0)\n",
    "r1_ancho_max = cuartiles_ancho[0]\n",
    "r2_ancho_max = cuartiles_ancho[1]\n",
    "r3_ancho_max = cuartiles_ancho[2]\n",
    "\n",
    "cuartiles_vuelos_origen = aeropuertosTemp.approxQuantile('numero_vuelos_origen', [0.25, 0.5, 0.75], 0)\n",
    "r1_vuelos_max = cuartiles_vuelos_origen[0]\n",
    "r2_vuelos_max = cuartiles_vuelos_origen[1]\n",
    "r3_vuelos_max = cuartiles_vuelos_origen[2]\n",
    "\n",
    "aeropuertosTemp = aeropuertosTemp.withColumn(\n",
    "    \"rangoLongitudPista\",\n",
    "    expr(\n",
    "        f\"CASE WHEN longitud_pista < {r1_longitud_max} THEN 'R1' \"  \\\n",
    "        f\"WHEN longitud_pista < {r2_longitud_max} THEN 'R2' \"  \\\n",
    "        f\"WHEN longitud_pista < {r3_longitud_max} THEN 'R3' \"  \\\n",
    "        \"ELSE 'R4' END\"\n",
    "    )\n",
    ")\n",
    "\n",
    "aeropuertosTemp = aeropuertosTemp.withColumn(\n",
    "    \"rangoAnchoPista\",\n",
    "    expr(\n",
    "        f\"CASE WHEN ancho_pista < {r1_ancho_max} THEN 'R1' \"  \\\n",
    "        f\"WHEN ancho_pista < {r2_ancho_max} THEN 'R2' \"  \\\n",
    "        f\"WHEN ancho_pista < {r3_ancho_max} THEN 'R3' \"  \\\n",
    "        \"ELSE 'R4' END\"\n",
    "    )\n",
    ")\n",
    "\n",
    "aeropuertosTemp = aeropuertosTemp.withColumn(\n",
    "    \"rangoNumeroVuelosOrigen\",\n",
    "    expr(\n",
    "        f\"CASE WHEN numero_vuelos_origen < {r1_vuelos_max} THEN 'R1' \"  \\\n",
    "        f\"WHEN numero_vuelos_origen < {r2_vuelos_max} THEN 'R2' \"  \\\n",
    "        f\"WHEN numero_vuelos_origen < {r3_vuelos_max} THEN 'R3' \"  \\\n",
    "        \"ELSE 'R4' END\"\n",
    "    )\n",
    ")\n",
    "\n",
    "df_mini_aeropuerto = aeropuertosTemp.select('rangoLongitudPista','rangoAnchoPista','rangoNumeroVuelosOrigen','clase','tipo')\n",
    "df_mini_aeropuerto = df_mini_aeropuerto.distinct()\n",
    "df_mini_aeropuerto = df_mini_aeropuerto.coalesce(1).withColumn('idMini_DWH', f.monotonically_increasing_id() + 1)\n",
    "df_mini_aeropuerto = df_mini_aeropuerto.select('idMini_DWH','rangoLongitudPista','rangoAnchoPista','rangoNumeroVuelosOrigen','clase','tipo')\n",
    "\n",
    "df_mini_aeropuerto.show(10)\n",
    "\n",
    "print(df_mini_aeropuerto.count())"
   ]
  },
  {
   "cell_type": "code",
   "execution_count": 11,
   "metadata": {},
   "outputs": [
    {
     "name": "stdout",
     "output_type": "stream",
     "text": [
      "['sigla', 'iata', 'nombre', 'municipio', 'departamento', 'categoria', 'latitud', 'longitud', 'propietario', 'explotador', 'longitud_pista', 'ancho_pista', 'pbmo', 'elevacion', 'resolucion', 'fecha_construccion', 'fecha_vigencia', 'clase', 'tipo', 'numero_vuelos_origen', 'gcd_departamento', 'gcd_municipio', 'Anio']\n",
      "1414\n",
      "['idAeropuerto_DWH', 'sigla', 'iata', 'nombre', 'nombreMunicipio', 'nombreDepartamento', 'categoria', 'latitud', 'longitud', 'propietario', 'explotador', 'longitud_pista', 'ancho_pista', 'pbmo', 'elevacion', 'resolucion', 'fecha_construccion', 'fecha_vigencia', 'clase', 'tipo', 'numero_vuelos_origen', 'gcd_departamento', 'gcd_municipio', 'Anio', 'rangoLongitudPista', 'rangoAnchoPista', 'rangoNumeroVuelosOrigen']\n",
      "1414\n",
      "['idMini_DWH', 'rangoLongitudPista', 'rangoAnchoPista', 'rangoNumeroVuelosOrigen', 'clase', 'tipo']\n",
      "341\n"
     ]
    }
   ],
   "source": [
    "print(aeropuertos.columns)\n",
    "print(aeropuertos.count())\n",
    "\n",
    "print(aeropuertosTemp.columns)\n",
    "print(aeropuertosTemp.count())\n",
    "\n",
    "print(df_mini_aeropuerto.columns)\n",
    "print(df_mini_aeropuerto.count())"
   ]
  },
  {
   "cell_type": "markdown",
   "metadata": {
    "id": "MuvVgJ4R86v0"
   },
   "source": [
    "#### Carga"
   ]
  },
  {
   "cell_type": "markdown",
   "metadata": {},
   "source": [
    "**OJO** Recuerde antes de guardar los datos que la tabla no exista o este vacía, para que no se guarden los mismos datos varias veces y no ocupar más espacio."
   ]
  },
  {
   "cell_type": "code",
   "execution_count": 12,
   "metadata": {
    "id": "yCC2zZqY86v0"
   },
   "outputs": [],
   "source": [
    "# CARGUE\n",
    "guardar_db(dest_db_connection_string, df_mini_aeropuerto,'Estudiante_8_202413.MiniDimensionAeropuerto', db_user, db_psswd)"
   ]
  },
  {
   "cell_type": "markdown",
   "metadata": {
    "id": "0Fo-J97586v0"
   },
   "source": [
    "Verifique los resultados usando MySQL Workbench"
   ]
  },
  {
   "cell_type": "markdown",
   "metadata": {
    "id": "7HpgwA6t86v0"
   },
   "source": [
    "### BLOQUE 3\n",
    "Empezamos con el bloque 3: la dimensión <i>Fecha</i>, su fuente de datos viene de la tabla transaccional <i>vuelos</i>."
   ]
  },
  {
   "cell_type": "markdown",
   "metadata": {
    "id": "BZjDeVYd86v1"
   },
   "source": [
    "#### Extracción"
   ]
  },
  {
   "cell_type": "code",
   "execution_count": 13,
   "metadata": {
    "id": "2HTzU96W86v1"
   },
   "outputs": [
    {
     "name": "stdout",
     "output_type": "stream",
     "text": [
      "+---+----+\n",
      "|mes|anio|\n",
      "+---+----+\n",
      "|  9|2012|\n",
      "| 11|2012|\n",
      "| 12|2012|\n",
      "|  1|2012|\n",
      "|  2|2012|\n",
      "+---+----+\n",
      "only showing top 5 rows\n",
      "\n",
      "['mes', 'anio']\n"
     ]
    }
   ],
   "source": [
    "#EXTRACCION\n",
    "sql_fecha = '''(SELECT DISTINCT mes, ano AS anio FROM ProyectoTransaccional.vuelos) AS Temp_fecha'''\n",
    "fecha = obtener_dataframe_de_bd(source_db_connection_string, sql_fecha, db_user, db_psswd)\n",
    "fecha.show(5)\n",
    "\n",
    "print(fecha.columns)"
   ]
  },
  {
   "cell_type": "markdown",
   "metadata": {
    "id": "_7xbgfCk86v1"
   },
   "source": [
    "#### Transformación"
   ]
  },
  {
   "cell_type": "code",
   "execution_count": 14,
   "metadata": {
    "id": "97vmyl3Q86v1",
    "outputId": "0ffd3364-9b73-4001-e9bf-de53c97a2b5a",
    "tags": []
   },
   "outputs": [
    {
     "name": "stdout",
     "output_type": "stream",
     "text": [
      "+----+---+---+\n",
      "|anio|mes|dia|\n",
      "+----+---+---+\n",
      "|2012|  9|  1|\n",
      "|2012| 11|  1|\n",
      "|2012| 12|  1|\n",
      "|2012|  1|  1|\n",
      "|2012|  2|  1|\n",
      "+----+---+---+\n",
      "only showing top 5 rows\n",
      "\n"
     ]
    }
   ],
   "source": [
    "# TRANSFORMACION\n",
    "fecha = fecha.withColumn('dia', f.lit(1))\n",
    "fecha = fecha.select('anio', 'mes', 'dia')\n",
    "fecha.show(5)"
   ]
  },
  {
   "cell_type": "code",
   "execution_count": 15,
   "metadata": {},
   "outputs": [
    {
     "name": "stdout",
     "output_type": "stream",
     "text": [
      "+----+---+---+-----------+\n",
      "|anio|mes|dia|descripcion|\n",
      "+----+---+---+-----------+\n",
      "|2012|  9|  1| 2012-09-01|\n",
      "|2012| 11|  1| 2012-11-01|\n",
      "|2012| 12|  1| 2012-12-01|\n",
      "|2012|  1|  1| 2012-01-01|\n",
      "|2012|  2|  1| 2012-02-01|\n",
      "+----+---+---+-----------+\n",
      "only showing top 5 rows\n",
      "\n"
     ]
    }
   ],
   "source": [
    "fecha_str = f.concat_ws('-',\n",
    "                        f.col('anio'),\n",
    "                        f.lpad(f.col('mes'), 2, '0'),\n",
    "                        f.lpad(f.col('dia'), 2, '0'))\n",
    "fecha = fecha.withColumn('descripcion', f.to_date(fecha_str, 'yyyy-MM-dd'))\n",
    "fecha.show(5)"
   ]
  },
  {
   "cell_type": "code",
   "execution_count": 16,
   "metadata": {},
   "outputs": [
    {
     "name": "stdout",
     "output_type": "stream",
     "text": [
      "+----+---+---+-----------+--------+\n",
      "|anio|mes|dia|descripcion| idFecha|\n",
      "+----+---+---+-----------+--------+\n",
      "|2012|  9|  1| 2012-09-01|20120901|\n",
      "|2012| 11|  1| 2012-11-01|20121101|\n",
      "|2012| 12|  1| 2012-12-01|20121201|\n",
      "|2012|  1|  1| 2012-01-01|20120101|\n",
      "|2012|  2|  1| 2012-02-01|20120201|\n",
      "+----+---+---+-----------+--------+\n",
      "only showing top 5 rows\n",
      "\n"
     ]
    }
   ],
   "source": [
    "fecha = fecha.withColumn('idFecha', date_format(fecha['descripcion'], 'yyyyMMdd'))\n",
    "fecha.show(5)"
   ]
  },
  {
   "cell_type": "code",
   "execution_count": 17,
   "metadata": {},
   "outputs": [
    {
     "name": "stdout",
     "output_type": "stream",
     "text": [
      "+--------+-----------+----+---+---+\n",
      "| idFecha|descripcion|anio|mes|dia|\n",
      "+--------+-----------+----+---+---+\n",
      "|20120901| 2012-09-01|2012|  9|  1|\n",
      "|20121101| 2012-11-01|2012| 11|  1|\n",
      "|20121201| 2012-12-01|2012| 12|  1|\n",
      "|20120101| 2012-01-01|2012|  1|  1|\n",
      "|20120201| 2012-02-01|2012|  2|  1|\n",
      "+--------+-----------+----+---+---+\n",
      "only showing top 5 rows\n",
      "\n"
     ]
    }
   ],
   "source": [
    "fecha = fecha.select('idFecha', 'descripcion', 'anio', 'mes', 'dia')\n",
    "fecha.show(5)"
   ]
  },
  {
   "cell_type": "markdown",
   "metadata": {
    "id": "Rh_102Yy86v1"
   },
   "source": [
    "#### Carga"
   ]
  },
  {
   "cell_type": "code",
   "execution_count": 18,
   "metadata": {
    "id": "UpbxgpWn86v1"
   },
   "outputs": [],
   "source": [
    "# CARGUE\n",
    "guardar_db(dest_db_connection_string, fecha,'Estudiante_8_202413.FechaS6', db_user, db_psswd)"
   ]
  },
  {
   "cell_type": "markdown",
   "metadata": {
    "id": "bTy1oE3V86v2"
   },
   "source": [
    "Verifique los resultados usando MySQL Workbench"
   ]
  },
  {
   "cell_type": "markdown",
   "metadata": {
    "id": "yYetZ2Ip86v2"
   },
   "source": [
    "### BLOQUE 4\n",
    "Empezamos con el bloque 4: la dimensión <i>HechoHistoriaCambios</i>, su fuente de datos viene de las tablas <i>Aeropuerto</i>, <i>MiniDimensiónAeropuerto</i> y <i>Fecha</i>."
   ]
  },
  {
   "cell_type": "markdown",
   "metadata": {
    "id": "HogvCqW_86v2"
   },
   "source": [
    "#### Extracción"
   ]
  },
  {
   "cell_type": "code",
   "execution_count": 19,
   "metadata": {
    "id": "ZEJjQslF86v2"
   },
   "outputs": [
    {
     "name": "stdout",
     "output_type": "stream",
     "text": [
      "+------------------+---------------+-----------------------+-----+----+----------------+-----+----+--------------------+---------------+------------------+---------+---------+-----------+-----------+----------+--------------+-----------+----+---------+----------+------------------+--------------+--------------------+----------------+-------------+----+----------+\n",
      "|rangoLongitudPista|rangoAnchoPista|rangoNumeroVuelosOrigen|clase|tipo|idAeropuerto_DWH|sigla|iata|              nombre|nombreMunicipio|nombreDepartamento|categoria|  latitud|   longitud|propietario|explotador|longitud_pista|ancho_pista|pbmo|elevacion|resolucion|fecha_construccion|fecha_vigencia|numero_vuelos_origen|gcd_departamento|gcd_municipio|Anio|idMini_DWH|\n",
      "+------------------+---------------+-----------------------+-----+----+----------------+-----+----+--------------------+---------------+------------------+---------+---------+-----------+-----------+----------+--------------+-----------+----+---------+----------+------------------+--------------+--------------------+----------------+-------------+----+----------+\n",
      "|                R1|             R1|                     R1|     |    |            1116|  AGT|    |         AGUA BLANCA|        Piedras|            Tolima|Aeródromo|4.4656389|-74.9947778|           |          |             0|          0|null|     null|      null|        2009-10-01|              |                  17|              73|        73547|2009|       339|\n",
      "|                R1|             R1|                     R1|     |    |            1117|  SMA|    |       AGUAS BLANCAS|     San Martín|             Cesar|Aeródromo|7.8197222|-73.5719444|           |          |             0|          0|null|     null|      null|        2005-10-01|              |                   5|              20|        20770|2005|       339|\n",
      "|                R1|             R1|                     R1|     |    |            1119|  ALR|    |             ALFEMAR|         Juradó|             Chocó|Aeródromo|7.0102778|-77.6769444|           |          |             0|          0|null|     null|      null|        2004-01-01|              |                 389|              27|        27372|2004|       339|\n",
      "|                R1|             R1|                     R1|     |    |            1121|  ADN|    |               ANDES|          Andes|         Antioquia|Aeródromo|   5.6667|   -75.8833|           |          |             0|          0|null|     null|      null|        2004-10-01|              |                   0|               5|         5034|2004|       339|\n",
      "|                R1|             R1|                     R1|     |    |            1123|  8CB|    |BANCO DE LA REPUB...|        Condoto|             Chocó|Aeródromo|   5.6975|    -76.665|           |          |             0|          0|null|     null|      null|        2007-07-01|              |                   7|              27|        27205|2007|       339|\n",
      "+------------------+---------------+-----------------------+-----+----+----------------+-----+----+--------------------+---------------+------------------+---------+---------+-----------+-----------+----------+--------------+-----------+----+---------+----------+------------------+--------------+--------------------+----------------+-------------+----+----------+\n",
      "only showing top 5 rows\n",
      "\n",
      "['rangoLongitudPista', 'rangoAnchoPista', 'rangoNumeroVuelosOrigen', 'clase', 'tipo', 'idAeropuerto_DWH', 'sigla', 'iata', 'nombre', 'nombreMunicipio', 'nombreDepartamento', 'categoria', 'latitud', 'longitud', 'propietario', 'explotador', 'longitud_pista', 'ancho_pista', 'pbmo', 'elevacion', 'resolucion', 'fecha_construccion', 'fecha_vigencia', 'numero_vuelos_origen', 'gcd_departamento', 'gcd_municipio', 'Anio', 'idMini_DWH']\n"
     ]
    }
   ],
   "source": [
    "#EXTRACCION\n",
    "cols = ['rangoLongitudPista', 'rangoAnchoPista', 'rangoNumeroVuelosOrigen', 'clase', 'tipo']\n",
    "df_hecho_temp = aeropuertosTemp.join(df_mini_aeropuerto, cols)\n",
    "df_hecho_temp.show(5)\n",
    "\n",
    "print(df_hecho_temp.columns)"
   ]
  },
  {
   "cell_type": "markdown",
   "metadata": {
    "id": "9rKmT9jd86v2",
    "tags": []
   },
   "source": [
    "#### Transformación"
   ]
  },
  {
   "cell_type": "code",
   "execution_count": 20,
   "metadata": {},
   "outputs": [
    {
     "name": "stdout",
     "output_type": "stream",
     "text": [
      "+------------------+---------------+-----------------------+-----+----+----------------+-----+----+--------------------+---------------+------------------+---------+---------+-----------+-----------+----------+--------------+-----------+----+---------+----------+------------------+--------------+--------------------+----------------+-------------+----+----------+------+\n",
      "|rangoLongitudPista|rangoAnchoPista|rangoNumeroVuelosOrigen|clase|tipo|idAeropuerto_DWH|sigla|iata|              nombre|nombreMunicipio|nombreDepartamento|categoria|  latitud|   longitud|propietario|explotador|longitud_pista|ancho_pista|pbmo|elevacion|resolucion|fecha_construccion|fecha_vigencia|numero_vuelos_origen|gcd_departamento|gcd_municipio|Anio|idMini_DWH|cambio|\n",
      "+------------------+---------------+-----------------------+-----+----+----------------+-----+----+--------------------+---------------+------------------+---------+---------+-----------+-----------+----------+--------------+-----------+----+---------+----------+------------------+--------------+--------------------+----------------+-------------+----+----------+------+\n",
      "|                R1|             R1|                     R1|     |    |            1116|  AGT|    |         AGUA BLANCA|        Piedras|            Tolima|Aeródromo|4.4656389|-74.9947778|           |          |             0|          0|null|     null|      null|        2009-10-01|              |                  17|              73|        73547|2009|       339|     1|\n",
      "|                R1|             R1|                     R1|     |    |            1117|  SMA|    |       AGUAS BLANCAS|     San Martín|             Cesar|Aeródromo|7.8197222|-73.5719444|           |          |             0|          0|null|     null|      null|        2005-10-01|              |                   5|              20|        20770|2005|       339|     1|\n",
      "|                R1|             R1|                     R1|     |    |            1119|  ALR|    |             ALFEMAR|         Juradó|             Chocó|Aeródromo|7.0102778|-77.6769444|           |          |             0|          0|null|     null|      null|        2004-01-01|              |                 389|              27|        27372|2004|       339|     1|\n",
      "|                R1|             R1|                     R1|     |    |            1121|  ADN|    |               ANDES|          Andes|         Antioquia|Aeródromo|   5.6667|   -75.8833|           |          |             0|          0|null|     null|      null|        2004-10-01|              |                   0|               5|         5034|2004|       339|     1|\n",
      "|                R1|             R1|                     R1|     |    |            1123|  8CB|    |BANCO DE LA REPUB...|        Condoto|             Chocó|Aeródromo|   5.6975|    -76.665|           |          |             0|          0|null|     null|      null|        2007-07-01|              |                   7|              27|        27205|2007|       339|     1|\n",
      "+------------------+---------------+-----------------------+-----+----+----------------+-----+----+--------------------+---------------+------------------+---------+---------+-----------+-----------+----------+--------------+-----------+----+---------+----------+------------------+--------------+--------------------+----------------+-------------+----+----------+------+\n",
      "only showing top 5 rows\n",
      "\n"
     ]
    }
   ],
   "source": [
    "# TRANSFORMACION\n",
    "df_hecho_temp = df_hecho_temp.withColumn('cambio', f.lit(1))\n",
    "df_hecho_temp.show(5)"
   ]
  },
  {
   "cell_type": "code",
   "execution_count": 21,
   "metadata": {},
   "outputs": [
    {
     "name": "stdout",
     "output_type": "stream",
     "text": [
      "+-----+----------------+----------+----+------+-------------+-----------+----------+\n",
      "|sigla|idAeropuerto_DWH|idMini_DWH|anio|cambio|siglaRepetida|fechaInicio|  fechaFin|\n",
      "+-----+----------------+----------+----+------+-------------+-----------+----------+\n",
      "|  7FO|               1|         1|2015|     1|         2015| 2015-01-01|2015-12-31|\n",
      "|  7FO|               2|         2|2016|     1|         2016| 2016-01-01|2016-12-31|\n",
      "|  7FO|               3|         2|2017|     1|         2017| 2017-01-01|2199-12-31|\n",
      "|  7FU|               4|         3|2015|     1|         2015| 2015-01-01|2015-12-31|\n",
      "|  7FU|               5|         4|2016|     1|         2016| 2016-01-01|2016-12-31|\n",
      "|  7FU|               6|         5|2017|     1|         2017| 2017-01-01|2199-12-31|\n",
      "+-----+----------------+----------+----+------+-------------+-----------+----------+\n",
      "only showing top 6 rows\n",
      "\n"
     ]
    }
   ],
   "source": [
    "hechoHistoriaCambiosTemp = df_hecho_temp.select('idAeropuerto_DWH', 'idMini_DWH', 'sigla', 'anio', 'cambio')\n",
    "\n",
    "sigla_counts = df_hecho_temp.groupBy('sigla').count()\n",
    "siglas_repetidas = sigla_counts.filter(f.col('count') > 1).select('sigla')\n",
    "\n",
    "repetidos = hechoHistoriaCambiosTemp.join(siglas_repetidas, on='sigla', how='inner')\n",
    "\n",
    "window_spec = Window.partitionBy('sigla').orderBy('anio')\n",
    "\n",
    "repetidos = repetidos.withColumn('siglaRepetida', f.max('anio').over(window_spec))\n",
    "repetidos = repetidos.withColumn('fechaInicio', f.expr(\"to_date(concat(anio, '-01-01'))\"))\n",
    "repetidos = repetidos.withColumn('fechaFin',\n",
    "                                 f.when(f.lead('sigla', 1).over(window_spec) == f.col('sigla'), \n",
    "                                        f.expr(\"last_day(to_date(concat(anio, '-12-31')))\"))\n",
    "                                  .otherwise(f.lit('2199-12-31')))\n",
    "\n",
    "repetidos.show(6)"
   ]
  },
  {
   "cell_type": "code",
   "execution_count": 22,
   "metadata": {},
   "outputs": [
    {
     "name": "stdout",
     "output_type": "stream",
     "text": [
      "+-----+----------------+----------+----+------+-------------+-----------+----------+\n",
      "|sigla|idAeropuerto_DWH|idMini_DWH|anio|cambio|siglaRepetida|fechaInicio|  fechaFin|\n",
      "+-----+----------------+----------+----+------+-------------+-----------+----------+\n",
      "|  7FO|               1|         1|2015|     1|         2015| 2015-01-01|2015-12-31|\n",
      "|  7FO|               2|         2|2016|     1|         2016| 2016-01-01|2016-12-31|\n",
      "|  7FO|               3|         2|2017|     0|         2017| 2017-01-01|2199-12-31|\n",
      "|  7FU|               4|         3|2015|     1|         2015| 2015-01-01|2015-12-31|\n",
      "|  7FU|               5|         4|2016|     1|         2016| 2016-01-01|2016-12-31|\n",
      "|  7FU|               6|         5|2017|     0|         2017| 2017-01-01|2199-12-31|\n",
      "+-----+----------------+----------+----+------+-------------+-----------+----------+\n",
      "only showing top 6 rows\n",
      "\n"
     ]
    }
   ],
   "source": [
    "repetidos = repetidos.withColumn('cambio',\n",
    "                                     f.when(f.year('fechaFin') == 2199, 0)\n",
    "                                      .otherwise(f.col('cambio')))\n",
    "\n",
    "repetidos.show(6)"
   ]
  },
  {
   "cell_type": "code",
   "execution_count": 23,
   "metadata": {},
   "outputs": [
    {
     "name": "stdout",
     "output_type": "stream",
     "text": [
      "+----------------+----------+-----------+----------+------+\n",
      "|idAeropuerto_DWH|idMini_DWH|fechaInicio|  fechaFin|cambio|\n",
      "+----------------+----------+-----------+----------+------+\n",
      "|               1|         1| 2015-01-01|2015-12-31|     1|\n",
      "|               2|         2| 2016-01-01|2016-12-31|     1|\n",
      "|               3|         2| 2017-01-01|2199-12-31|     0|\n",
      "|               4|         3| 2015-01-01|2015-12-31|     1|\n",
      "|               5|         4| 2016-01-01|2016-12-31|     1|\n",
      "|               6|         5| 2017-01-01|2199-12-31|     0|\n",
      "+----------------+----------+-----------+----------+------+\n",
      "only showing top 6 rows\n",
      "\n"
     ]
    }
   ],
   "source": [
    "hechoHistoriaCambios = repetidos.select('idAeropuerto_DWH', 'idMini_DWH', 'fechaInicio', 'fechaFin', 'cambio')\n",
    "hechoHistoriaCambios.show(6)"
   ]
  },
  {
   "cell_type": "markdown",
   "metadata": {
    "id": "R9SnkMUH86v3"
   },
   "source": [
    "#### Carga"
   ]
  },
  {
   "cell_type": "code",
   "execution_count": 24,
   "metadata": {
    "id": "MMArotXz86v3"
   },
   "outputs": [],
   "source": [
    "# CARGUE\n",
    "guardar_db(dest_db_connection_string, hechoHistoriaCambios,'Estudiante_8_202413.HechoHistoriaCambios', db_user, db_psswd)"
   ]
  },
  {
   "cell_type": "markdown",
   "metadata": {
    "id": "YglraEoA86v3"
   },
   "source": [
    "Verifique los resultados usando MySQL Workbench"
   ]
  },
  {
   "cell_type": "markdown",
   "metadata": {
    "id": "UM4L4jA086v3"
   },
   "source": [
    "### BLOQUE 5\n",
    "Bloque 5: <i>GeografiaConDemografia</i>"
   ]
  },
  {
   "cell_type": "markdown",
   "metadata": {
    "id": "k8O1GvOd86v3"
   },
   "source": [
    "#### Extracción"
   ]
  },
  {
   "cell_type": "code",
   "execution_count": 13,
   "metadata": {
    "id": "znROuHS086v3"
   },
   "outputs": [],
   "source": []
  },
  {
   "cell_type": "markdown",
   "metadata": {
    "id": "Mo633Vpg86v3"
   },
   "source": [
    "#### Transformación"
   ]
  },
  {
   "cell_type": "code",
   "execution_count": 14,
   "metadata": {
    "id": "wwK8bV8Z86v3",
    "outputId": "7b494261-1640-4108-98f8-65fbe04c7b91"
   },
   "outputs": [
    {
     "name": "stdout",
     "output_type": "stream",
     "text": [
      "+--------------+------------+-----------------+---------------+-----------------+--------------+----------------+-------------+-------------------+--------+\n",
      "|ID_Cliente_DWH|ID_Cliente_T|           Nombre|NombreCategoria|NombreGrupoCompra|ClienteFactura|ID_CiudadEntrega|LimiteCredito|FechaAperturaCuenta|DiasPago|\n",
      "+--------------+------------+-----------------+---------------+-----------------+--------------+----------------+-------------+-------------------+--------+\n",
      "|             1|         803|       Bala Dixit|   Novelty Shop|          Missing|           803|           33799|         2000|2013-01-01 00:00:00|       7|\n",
      "|             2|         805|     Ratan Poddar|   Novelty Shop|          Missing|           805|           10194|         3300|2013-01-01 00:00:00|       7|\n",
      "|             3|         806|           Shi Tu|   Novelty Shop|          Missing|           806|           31685|         3000|2013-01-01 00:00:00|       7|\n",
      "|             4|         811|    Surendra Sahu|   Novelty Shop|          Missing|           811|           25332|         2100|2013-01-01 00:00:00|       7|\n",
      "|             5|         814|Johanna Hoornstra|   Novelty Shop|          Missing|           814|           26752|         2310|2013-01-01 00:00:00|       7|\n",
      "+--------------+------------+-----------------+---------------+-----------------+--------------+----------------+-------------+-------------------+--------+\n",
      "only showing top 5 rows\n",
      "\n"
     ]
    }
   ],
   "source": [
    "# TRANSFORMACION \n"
   ]
  },
  {
   "cell_type": "markdown",
   "metadata": {
    "id": "i36NawhX86v4"
   },
   "source": [
    "#### Carga"
   ]
  },
  {
   "cell_type": "markdown",
   "metadata": {},
   "source": [
    "**OJO** Recuerde antes de guardar los datos que la tabla no exista o este vacía, para que no se guarden los mismos datos varias veces y no ocupar más espacio."
   ]
  },
  {
   "cell_type": "code",
   "execution_count": 27,
   "metadata": {
    "id": "QcvMzmCf86v4"
   },
   "outputs": [],
   "source": [
    "# CARGUE\n",
    "guardar_db(dest_db_connection_string,clientes,'Estudiante_31_202413.ETL_Cliente', db_user, db_psswd)"
   ]
  },
  {
   "cell_type": "markdown",
   "metadata": {
    "id": "AMyvdEB-86v4"
   },
   "source": [
    "Verifique los resultados usando MySQL Workbench"
   ]
  },
  {
   "cell_type": "markdown",
   "metadata": {
    "id": "0ocmdLWv86v4"
   },
   "source": [
    "### BLOQUE 6\n",
    "Bloque 6: <i>TipoVuelo</i>"
   ]
  },
  {
   "cell_type": "markdown",
   "metadata": {
    "id": "LvgnsPfK86v4"
   },
   "source": [
    "#### Extracción"
   ]
  },
  {
   "cell_type": "code",
   "execution_count": 18,
   "metadata": {
    "id": "9b4Qs9_886v4"
   },
   "outputs": [],
   "source": []
  },
  {
   "cell_type": "markdown",
   "metadata": {
    "id": "dTv_CIOT86v5"
   },
   "source": [
    "#### Transformación\n"
   ]
  },
  {
   "cell_type": "markdown",
   "metadata": {
    "id": "kcHdgPzj86v5"
   },
   "source": [
    "Se hace una verificación de los valores de la tasa de impuesto"
   ]
  },
  {
   "cell_type": "markdown",
   "metadata": {
    "id": "LqSCkt_V86v6"
   },
   "source": [
    "Se hace verificación de consistencia"
   ]
  },
  {
   "cell_type": "markdown",
   "metadata": {
    "id": "TB8BrURo86v7"
   },
   "source": [
    "En el siguiente código para el manejo de fechas, pasamos del formato MM dd,YYYY al formato establecido en la regla de negocio<br>"
   ]
  },
  {
   "cell_type": "code",
   "execution_count": 22,
   "metadata": {
    "id": "ajB_7vTr86v7",
    "outputId": "9cabe64a-58b5-472a-9fce-0eeedfcdb0d6"
   },
   "outputs": [
    {
     "name": "stdout",
     "output_type": "stream",
     "text": [
      "20034 73595\n",
      "+------------+-------------+--------------+------------------------------+-------------------------+----------------------+---------------+-------------------------+--------------------------------------+-------------------------------------------+-----------+------------------------+--------------------+---------------------------+\n",
      "|ID_de_pedido|ID_de_cliente|ID_de_vendedor|Seleccionado_por_ID_de_persona|ID_de_persona_de_contacto|ID_de_pedido_pendiente|Fecha_de_pedido|Fecha_de_entrega_esperada|Numero_de_pedido_de_compra_del_cliente|Pedido_pendiente_de_suministro_insuficiente|Comentarios|Instrucciones_de_entrega|Comentarios_internos|Seleccion_completada_cuando|\n",
      "+------------+-------------+--------------+------------------------------+-------------------------+----------------------+---------------+-------------------------+--------------------------------------+-------------------------------------------+-----------+------------------------+--------------------+---------------------------+\n",
      "|       20972|          132|             6|                             8|                     1263|                  null|    Jan 28,2014|               2014-01-29|                                 14875|                                       true|       null|                    null|                null|        2014-01-28 11:00:00|\n",
      "|       22080|          107|            16|                            12|                     1213|                  null|    Feb 17,2014|               2014-02-18|                                 10447|                                       true|       null|                    null|                null|        2014-02-17 11:00:00|\n",
      "|       22194|          136|             3|                          null|                     1271|                 22217|    Feb 19,2014|               2014-02-20|                                 12442|                                       true|       null|                    null|                null|        2014-02-19 12:00:00|\n",
      "|       22298|          969|             2|                             7|                     3169|                  null|    Feb 20,2014|               2014-02-21|                                 11473|                                       true|       null|                    null|                null|        2014-07-10 11:00:00|\n",
      "|       22358|          534|             8|                             6|                     2267|                  null|    Feb 21,2014|               2014-02-24|                                 10078|                                       true|       null|                    null|                null|        2014-02-21 11:00:00|\n",
      "+------------+-------------+--------------+------------------------------+-------------------------+----------------------+---------------+-------------------------+--------------------------------------+-------------------------------------------+-----------+------------------------+--------------------+---------------------------+\n",
      "only showing top 5 rows\n",
      "\n",
      "None\n"
     ]
    },
    {
     "ename": "TypeError",
     "evalue": "col should be Column",
     "output_type": "error",
     "traceback": [
      "\u001b[1;31m---------------------------------------------------------------------------\u001b[0m",
      "\u001b[1;31mTypeError\u001b[0m                                 Traceback (most recent call last)",
      "\u001b[1;32m~\\AppData\\Local\\Temp\\ipykernel_10620\\543980250.py\u001b[0m in \u001b[0;36m<module>\u001b[1;34m\u001b[0m\n\u001b[0;32m      5\u001b[0m \u001b[0mprint\u001b[0m\u001b[1;33m(\u001b[0m\u001b[0mnoCumplenFormato\u001b[0m\u001b[1;33m.\u001b[0m\u001b[0mcount\u001b[0m\u001b[1;33m(\u001b[0m\u001b[1;33m)\u001b[0m\u001b[1;33m,\u001b[0m \u001b[0mcumplenFormato\u001b[0m\u001b[1;33m.\u001b[0m\u001b[0mcount\u001b[0m\u001b[1;33m(\u001b[0m\u001b[1;33m)\u001b[0m\u001b[1;33m)\u001b[0m\u001b[1;33m\u001b[0m\u001b[1;33m\u001b[0m\u001b[0m\n\u001b[0;32m      6\u001b[0m \u001b[0mprint\u001b[0m\u001b[1;33m(\u001b[0m\u001b[0mnoCumplenFormato\u001b[0m\u001b[1;33m.\u001b[0m\u001b[0mshow\u001b[0m\u001b[1;33m(\u001b[0m\u001b[1;36m5\u001b[0m\u001b[1;33m)\u001b[0m\u001b[1;33m)\u001b[0m\u001b[1;33m\u001b[0m\u001b[1;33m\u001b[0m\u001b[0m\n\u001b[1;32m----> 7\u001b[1;33m \u001b[0mnoCumplenFormato\u001b[0m \u001b[1;33m=\u001b[0m \u001b[0mnoCumplenFormato\u001b[0m\u001b[1;33m.\u001b[0m\u001b[0mwithColumn\u001b[0m\u001b[1;33m(\u001b[0m\u001b[1;34m'Fecha_de_pedido'\u001b[0m\u001b[1;33m,\u001b[0m \u001b[0mf\u001b[0m\u001b[1;33m.\u001b[0m\u001b[0mudf\u001b[0m\u001b[1;33m(\u001b[0m\u001b[1;32mlambda\u001b[0m \u001b[0md\u001b[0m\u001b[1;33m:\u001b[0m \u001b[0mdatetime\u001b[0m\u001b[1;33m.\u001b[0m\u001b[0mstrptime\u001b[0m\u001b[1;33m(\u001b[0m\u001b[0md\u001b[0m\u001b[1;33m,\u001b[0m \u001b[1;34m'%b %d,%Y'\u001b[0m\u001b[1;33m)\u001b[0m\u001b[1;33m.\u001b[0m\u001b[0mstrftime\u001b[0m\u001b[1;33m(\u001b[0m\u001b[1;34m'%Y-%m-%d'\u001b[0m\u001b[1;33m)\u001b[0m\u001b[1;33m,\u001b[0m \u001b[0mt\u001b[0m\u001b[1;33m.\u001b[0m\u001b[0mStringType\u001b[0m\u001b[1;33m(\u001b[0m\u001b[1;33m)\u001b[0m\u001b[1;33m)\u001b[0m\u001b[1;33m)\u001b[0m\u001b[1;33m\u001b[0m\u001b[1;33m\u001b[0m\u001b[0m\n\u001b[0m\u001b[0;32m      8\u001b[0m \u001b[0mordenes\u001b[0m \u001b[1;33m=\u001b[0m \u001b[0mnoCumplenFormato\u001b[0m\u001b[1;33m.\u001b[0m\u001b[0munion\u001b[0m\u001b[1;33m(\u001b[0m\u001b[0mcumplenFormato\u001b[0m\u001b[1;33m)\u001b[0m\u001b[1;33m\u001b[0m\u001b[1;33m\u001b[0m\u001b[0m\n\u001b[0;32m      9\u001b[0m \u001b[0mnoCumplenFormato\u001b[0m\u001b[1;33m.\u001b[0m\u001b[0mcount\u001b[0m\u001b[1;33m(\u001b[0m\u001b[1;33m)\u001b[0m\u001b[1;33m,\u001b[0m \u001b[0mordenes\u001b[0m\u001b[1;33m.\u001b[0m\u001b[0mcount\u001b[0m\u001b[1;33m(\u001b[0m\u001b[1;33m)\u001b[0m\u001b[1;33m\u001b[0m\u001b[1;33m\u001b[0m\u001b[0m\n",
      "\u001b[1;32m~\\anaconda3\\envs\\Tutoriales\\lib\\site-packages\\pyspark\\sql\\dataframe.py\u001b[0m in \u001b[0;36mwithColumn\u001b[1;34m(self, colName, col)\u001b[0m\n\u001b[0;32m   2475\u001b[0m         \"\"\"\n\u001b[0;32m   2476\u001b[0m         \u001b[1;32mif\u001b[0m \u001b[1;32mnot\u001b[0m \u001b[0misinstance\u001b[0m\u001b[1;33m(\u001b[0m\u001b[0mcol\u001b[0m\u001b[1;33m,\u001b[0m \u001b[0mColumn\u001b[0m\u001b[1;33m)\u001b[0m\u001b[1;33m:\u001b[0m\u001b[1;33m\u001b[0m\u001b[1;33m\u001b[0m\u001b[0m\n\u001b[1;32m-> 2477\u001b[1;33m             \u001b[1;32mraise\u001b[0m \u001b[0mTypeError\u001b[0m\u001b[1;33m(\u001b[0m\u001b[1;34m\"col should be Column\"\u001b[0m\u001b[1;33m)\u001b[0m\u001b[1;33m\u001b[0m\u001b[1;33m\u001b[0m\u001b[0m\n\u001b[0m\u001b[0;32m   2478\u001b[0m         \u001b[1;32mreturn\u001b[0m \u001b[0mDataFrame\u001b[0m\u001b[1;33m(\u001b[0m\u001b[0mself\u001b[0m\u001b[1;33m.\u001b[0m\u001b[0m_jdf\u001b[0m\u001b[1;33m.\u001b[0m\u001b[0mwithColumn\u001b[0m\u001b[1;33m(\u001b[0m\u001b[0mcolName\u001b[0m\u001b[1;33m,\u001b[0m \u001b[0mcol\u001b[0m\u001b[1;33m.\u001b[0m\u001b[0m_jc\u001b[0m\u001b[1;33m)\u001b[0m\u001b[1;33m,\u001b[0m \u001b[0mself\u001b[0m\u001b[1;33m.\u001b[0m\u001b[0msql_ctx\u001b[0m\u001b[1;33m)\u001b[0m\u001b[1;33m\u001b[0m\u001b[1;33m\u001b[0m\u001b[0m\n\u001b[0;32m   2479\u001b[0m \u001b[1;33m\u001b[0m\u001b[0m\n",
      "\u001b[1;31mTypeError\u001b[0m: col should be Column"
     ]
    }
   ],
   "source": [
    "# TRANSFORMACION\n"
   ]
  },
  {
   "cell_type": "markdown",
   "metadata": {
    "id": "JN-fsV5_86v7"
   },
   "source": [
    "Descripciones\n"
   ]
  },
  {
   "cell_type": "markdown",
   "metadata": {
    "id": "N9f10qpB86v9"
   },
   "source": [
    "#### Carga"
   ]
  },
  {
   "cell_type": "markdown",
   "metadata": {},
   "source": [
    "**OJO** Recuerde antes de guardar los datos que la tabla no exista o este vacía, para que no se guarden los mismos datos varias veces y no ocupar más espacio."
   ]
  },
  {
   "cell_type": "code",
   "execution_count": 47,
   "metadata": {},
   "outputs": [],
   "source": [
    "guardar_db(dest_db_connection_string, ordenes,'Estudiante_31_202413.Hecho_Orden', db_user, db_psswd)"
   ]
  },
  {
   "cell_type": "markdown",
   "metadata": {},
   "source": [
    "### BLOQUE 7\n",
    "Bloque 7: <i>Trafico</i>"
   ]
  },
  {
   "cell_type": "markdown",
   "metadata": {
    "id": "xXk0Fxmu86v9"
   },
   "source": [
    "#### Extracción"
   ]
  },
  {
   "cell_type": "markdown",
   "metadata": {},
   "source": [
    "#### Transformación"
   ]
  },
  {
   "cell_type": "markdown",
   "metadata": {},
   "source": [
    "#### Carga"
   ]
  },
  {
   "cell_type": "markdown",
   "metadata": {},
   "source": [
    "### BLOQUE 8\n",
    "Bloque 8: <i>HechoVuelo</i>"
   ]
  },
  {
   "cell_type": "code",
   "execution_count": null,
   "metadata": {
    "id": "RwyeLpt386v9"
   },
   "outputs": [],
   "source": []
  },
  {
   "cell_type": "code",
   "execution_count": null,
   "metadata": {
    "id": "6J9jYwEJ86v-"
   },
   "outputs": [],
   "source": []
  }
 ],
 "metadata": {
  "colab": {
   "collapsed_sections": [
    "vtE61qk986vx",
    "X9Oou0g986vy",
    "B5kFkHTD86vz",
    "ddFhEOmL86vz",
    "MuvVgJ4R86v0",
    "BZjDeVYd86v1",
    "_7xbgfCk86v1",
    "Rh_102Yy86v1",
    "HogvCqW_86v2",
    "9rKmT9jd86v2",
    "R9SnkMUH86v3",
    "k8O1GvOd86v3",
    "Mo633Vpg86v3",
    "i36NawhX86v4",
    "LvgnsPfK86v4",
    "dTv_CIOT86v5",
    "N9f10qpB86v9"
   ],
   "name": "MISW-ETL-TutorialETL.ipynb",
   "provenance": []
  },
  "kernelspec": {
   "display_name": "Python 3 (ipykernel)",
   "language": "python",
   "name": "python3"
  },
  "language_info": {
   "codemirror_mode": {
    "name": "ipython",
    "version": 3
   },
   "file_extension": ".py",
   "mimetype": "text/x-python",
   "name": "python",
   "nbconvert_exporter": "python",
   "pygments_lexer": "ipython3",
   "version": "3.7.13"
  }
 },
 "nbformat": 4,
 "nbformat_minor": 4
}
