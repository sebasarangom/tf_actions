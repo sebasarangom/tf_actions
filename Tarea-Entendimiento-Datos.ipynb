{
 "cells": [
  {
   "cell_type": "markdown",
   "id": "7d150940-b174-44ba-9657-727bffe783a5",
   "metadata": {
    "tags": []
   },
   "source": [
    "# Tarea: Entendimiento de los datos"
   ]
  },
  {
   "cell_type": "markdown",
   "id": "672f3c58-84fc-43c3-a691-d6fa5275dc30",
   "metadata": {},
   "source": [
    "## Introducción\n",
    "    Objetivo \n",
    "\n",
    "    ¿Para qué?\n"
   ]
  },
  {
   "cell_type": "markdown",
   "id": "a362c753-492e-44be-9692-16ae3a53cf32",
   "metadata": {
    "id": "dm33nuYTPn3L",
    "tags": []
   },
   "source": [
    "## Configuración e importe de paquetes"
   ]
  },
  {
   "cell_type": "code",
   "execution_count": 34,
   "id": "75a2e171-a7ea-4882-aa0a-d676277ae2d4",
   "metadata": {
    "id": "gGiDdRBNPn3M"
   },
   "outputs": [],
   "source": [
    "from pyspark.sql import SparkSession\n",
    "from pyspark.sql import functions\n",
    "from pyspark.sql.types import StructType\n",
    "from pyspark import SparkContext, SparkConf, SQLContext\n",
    "from pyspark.sql.types import FloatType, StringType, IntegerType, DateType, TimestampType\n",
    "from pyspark.sql.functions import udf, col, countDistinct, length, isnan, when, count, max as spark_max, to_date, year, to_timestamp, expr, substring, min, corr\n",
    "import pyspark.sql.functions as f\n",
    "import os \n",
    "from datetime import datetime\n",
    "from pyspark.sql import types as t\n",
    "from pandas_profiling import ProfileReport\n",
    "import matplotlib.pyplot as plt\n",
    "import numpy as np"
   ]
  },
  {
   "cell_type": "code",
   "execution_count": 2,
   "id": "a9f0e022-0ace-4527-84f8-fdaeb931dc12",
   "metadata": {
    "id": "0r-yix1rPn3O"
   },
   "outputs": [],
   "source": [
    "path_jar_driver = 'C:\\Program Files (x86)\\MySQL\\Connector J 8.0\\mysql-connector-java-8.0.28.jar'"
   ]
  },
  {
   "cell_type": "code",
   "execution_count": 3,
   "id": "c6b7ba53-abb1-4984-bdf8-077625d12d2e",
   "metadata": {
    "id": "0-m3Q2MtPn3O",
    "outputId": "459f0ec2-9a36-4a36-edac-427852524d95"
   },
   "outputs": [
    {
     "name": "stderr",
     "output_type": "stream",
     "text": [
      "C:\\Users\\estudiante\\anaconda3\\envs\\Tutoriales\\lib\\site-packages\\pyspark\\sql\\context.py:79: FutureWarning: Deprecated in 3.0.0. Use SparkSession.builder.getOrCreate() instead.\n",
      "  FutureWarning\n"
     ]
    }
   ],
   "source": [
    "#Configuración de la sesión\n",
    "conf=SparkConf() \\\n",
    "    .set('spark.driver.extraClassPath', path_jar_driver)\n",
    "\n",
    "spark_context = SparkContext(conf=conf)\n",
    "sql_context = SQLContext(spark_context)\n",
    "spark = sql_context.sparkSession"
   ]
  },
  {
   "cell_type": "code",
   "execution_count": 4,
   "id": "9425e101-27c7-44f6-994b-2e5fb88dc4af",
   "metadata": {
    "id": "0eQw66SIPn3P"
   },
   "outputs": [],
   "source": [
    "db_connection_string = 'jdbc:mysql://157.253.236.116:8080/WWImportersTransactional'\n",
    "db_user = 'xxx'\n",
    "db_psswd = 'xxx'\n",
    "PATH='./'"
   ]
  },
  {
   "cell_type": "markdown",
   "id": "07425428-0ea4-4017-b400-41556574e3e7",
   "metadata": {},
   "source": [
    "## Perfilamiento de los datos"
   ]
  },
  {
   "cell_type": "markdown",
   "id": "b7c81ff2-8df1-4acb-94b4-3d9b1c96826a",
   "metadata": {
    "id": "p6KvbuvpPn3Q"
   },
   "source": [
    "### Información dada por la organización\n",
    "\n",
    "- La cantidad máxima de productos movidos es 50 millones por transacción\n",
    "- Existen 236.668 movimientos de producto realizados desde 2013\n",
    "- Los movimientos están relacionados con 228.265 clientes\n",
    "- El formato de fechas manejado es YYYY-MM-DD HH:MM:SS\n",
    "- Actualmente tenemos 13 proveedores\n"
   ]
  },
  {
   "cell_type": "markdown",
   "id": "4e6ed9ed-58ea-40fa-a239-a42d318dc509",
   "metadata": {
    "id": "Xw96w3ywPn3R"
   },
   "source": [
    "### Conexión a fuente de datos y acceso a los datos"
   ]
  },
  {
   "cell_type": "markdown",
   "id": "f8531318-a811-46b0-8a4b-9d2a3341dc4b",
   "metadata": {
    "id": "LKHpN3nzPn3R"
   },
   "source": [
    "#### Conexión a fuente de datos"
   ]
  },
  {
   "cell_type": "code",
   "execution_count": 5,
   "id": "97cc426d-6fdc-47f7-ac54-8824bf031760",
   "metadata": {
    "id": "SsdwInchPn3R"
   },
   "outputs": [],
   "source": [
    "def obtener_dataframe_de_bd(db_connection_string, sql, db_user, db_psswd):\n",
    "    df_bd = spark.read.format('jdbc')\\\n",
    "        .option('url', db_connection_string) \\\n",
    "        .option('dbtable', sql) \\\n",
    "        .option('user', db_user) \\\n",
    "        .option('password', db_psswd) \\\n",
    "        .option('driver', 'com.mysql.cj.jdbc.Driver') \\\n",
    "        .load()\n",
    "    return df_bd"
   ]
  },
  {
   "cell_type": "markdown",
   "id": "70007770-0f7a-421f-8924-7799c91c94ff",
   "metadata": {
    "id": "3HZloEq5Pn3S"
   },
   "source": [
    "#### Cargue de datos\n",
    "Acceso directo para el caso de movimientos y acceso con sentencia SQL para el caso de movimientosCopia."
   ]
  },
  {
   "cell_type": "code",
   "execution_count": 6,
   "id": "d4ce4b19-674f-404b-b616-c3a1d1c7608b",
   "metadata": {
    "id": "xMaQViPnPn3S"
   },
   "outputs": [],
   "source": [
    "sql_movimientos = 'WWImportersTransactional.movimientosCopia'"
   ]
  },
  {
   "cell_type": "code",
   "execution_count": 7,
   "id": "c3dd495f-b222-4e99-a100-b3897a341cf3",
   "metadata": {
    "id": "fDRojcVMPn3S"
   },
   "outputs": [],
   "source": [
    "sql_detallesMovimientos = '''(SELECT \n",
    "        TransaccionProductoID,\n",
    "        ProductoID,\n",
    "        TipoTransaccionID,\n",
    "        ClienteID,\n",
    "        InvoiceID,\n",
    "        ProveedorID,\n",
    "        OrdenDeCompraID,\n",
    "        FechaTransaccion,\n",
    "        Cantidad \n",
    "        FROM WWImportersTransactional.movimientosCopia) AS Compatible'''"
   ]
  },
  {
   "cell_type": "code",
   "execution_count": 39,
   "id": "f89fc419-df23-4038-aafa-89542cc081f9",
   "metadata": {
    "id": "Ajy_XMshPn3T"
   },
   "outputs": [],
   "source": [
    "#Se cargan los dataframes desde la base de datos\n",
    "movimientos = obtener_dataframe_de_bd(db_connection_string, sql_movimientos, db_user, db_psswd)"
   ]
  },
  {
   "cell_type": "markdown",
   "id": "f584c99d-e473-4a5e-83c9-3595ecb66f4d",
   "metadata": {
    "id": "qxN27II0Pn3T"
   },
   "source": [
    "### Entendimiento general de datos"
   ]
  },
  {
   "cell_type": "code",
   "execution_count": 9,
   "id": "d495e5bf-7d9b-44d4-a187-7e00567941ec",
   "metadata": {
    "id": "HtrqSl0zPn3T",
    "outputId": "c20c03fc-68d4-4d2e-eb8f-91a06cdd3174"
   },
   "outputs": [
    {
     "name": "stdout",
     "output_type": "stream",
     "text": [
      "+---------------------+----------+-----------------+---------+---------+-----------+---------------+----------------+--------+\n",
      "|TransaccionProductoID|ProductoID|TipoTransaccionID|ClienteID|InvoiceID|ProveedorID|OrdenDeCompraID|FechaTransaccion|Cantidad|\n",
      "+---------------------+----------+-----------------+---------+---------+-----------+---------------+----------------+--------+\n",
      "|               118903|       217|               10|    476.0|  24904.0|           |               |     Apr 25,2014|   -40.0|\n",
      "|               286890|       135|               10|     33.0|  60117.0|           |               |     Dec 10,2015|    -7.0|\n",
      "|               285233|       111|               10|    180.0|  59768.0|           |               |     Dec 04,2015|    -2.0|\n",
      "|               290145|       213|               10|     33.0|  60795.0|           |               |     Dec 23,2015|    -3.0|\n",
      "|               247492|        90|               10|     55.0|  51851.0|           |               |     Jul 27,2015|   -24.0|\n",
      "|               157714|       212|               10|    146.0|  33043.0|           |               |     Sep 15,2014|   -20.0|\n",
      "|               250024|       218|               10|    585.0|  52377.0|           |               |     Aug 04,2015|   -60.0|\n",
      "+---------------------+----------+-----------------+---------+---------+-----------+---------------+----------------+--------+\n",
      "only showing top 7 rows\n",
      "\n"
     ]
    }
   ],
   "source": [
    "movimientos.show(7)"
   ]
  },
  {
   "cell_type": "code",
   "execution_count": 11,
   "id": "c8a3e260-f6ad-40d1-bdda-22660cb341b2",
   "metadata": {},
   "outputs": [
    {
     "data": {
      "text/plain": [
       "StructType(List(StructField(TransaccionProductoID,IntegerType,true),StructField(ProductoID,IntegerType,true),StructField(TipoTransaccionID,IntegerType,true),StructField(ClienteID,DoubleType,true),StructField(InvoiceID,DoubleType,true),StructField(ProveedorID,StringType,true),StructField(OrdenDeCompraID,StringType,true),StructField(FechaTransaccion,StringType,true),StructField(Cantidad,DoubleType,true)))"
      ]
     },
     "execution_count": 11,
     "metadata": {},
     "output_type": "execute_result"
    }
   ],
   "source": [
    "movimientos.schema"
   ]
  },
  {
   "cell_type": "markdown",
   "id": "b458b4b3-ec36-4392-b898-e09f85065654",
   "metadata": {},
   "source": [
    "#### Descripción de la Tabla **movimientosCopia**\n",
    "\n",
    "La tabla registra los movimientos de productos en el inventario, se detalla la descripción de su estructura:\n",
    "\n",
    "1. **TransaccionProductoID** (int): Identificador único de la transacción de producto.\n",
    "\n",
    "2. **ProductoID** (int): Identificador del producto específico que se está moviendo en el inventario.\n",
    "\n",
    "3. **TipoTransaccionID** (int): Identificador del tipo de transacción, indicando el tipo de movimiento de producto. Los tipos de transacciones son:\n",
    "   - 2: Customer Credit Note\n",
    "   - 3: Customer Payment Received\n",
    "   - 4: Customer Refund\n",
    "   - 5: Supplier Invoice\n",
    "   - 6: Supplier Credit Note\n",
    "   - 7: Supplier Payment Issued\n",
    "   - 8: Supplier Refund\n",
    "   - 9: Stock Transfer\n",
    "   - 10: Stock Issue\n",
    "   - 11: Stock Receipt\n",
    "   - 12: Stock Adjustment at Stocktake\n",
    "   - 13: Customer Contra\n",
    "\n",
    "4. **ClienteID** (double): Identificador único del cliente asociado con la transacción. Esta columna puede tener valores nulos si el movimiento no está asociado a un cliente específico. Relacionada con la tabla **Clientes**.\n",
    "\n",
    "5. **InvoiceID** (double): Identificador único de la factura asociada con la transacción, puede tener valores nulos.\n",
    "\n",
    "6. **ProveedorID** (text): Identificador único del proveedor asociado con la transacción, puede tener valores nulos si el movimiento no está relacionado con un proveedor específico. Relacionada con la tabla **Proveedores**.\n",
    "\n",
    "7. **OrdenDeCompraID** (text): Identificador de la orden de compra asociada con la transacción, puede tener valores nulos. Relacionada con la tabla **OrdenesCopia**.\n",
    "\n",
    "8. **FechaTransaccion** (text): Fecha y hora en que se realizó la transacción. El formato de fecha manejado es YYYY-MM-DD HH:MM:SS.\n",
    "\n",
    "9. **Cantidad** (double): Cantidad de productos movidos en la transacción, puede ser negativo, indicando una salida de inventario, o positivo, indicando una entrada.\n",
    "\n",
    "#### Observaciones y consideraciones\n",
    "\n",
    "1. **Valores nulos**: Varias columnas, como ClienteID, InvoiceID, ProveedorID y OrdenDeCompraID, pueden contener valores nulos. Es importante considerar cómo se deberían manejar estos valores en el análisis.\n",
    "\n",
    "2. **Formato de fecha**: La columna FechaTransaccion almacena las fechas en formato de texto. Es importante convertir estas fechas al tipo de dato adecuado para realizar análisis temporales.\n",
    "\n",
    "3. **Valores negativos en cantidad**: Los valores negativos en la columna Cantidad indican salidas de inventario. Información relevante para el análisis de inventario.\n",
    "\n",
    "4. **Identificadores únicos**: TransaccionProductoID debe ser único para cada transacción, lo cual es crucial para identificar movimientos específicos sin ambigüedad.\n",
    "\n",
    "5. **Relaciones entre columnas**: La tabla parece estar diseñada para poder relacionar transacciones con clientes, proveedores y órdenes de compra. Sin embargo, no todas las transacciones estarán necesariamente relacionadas con estos elementos."
   ]
  },
  {
   "cell_type": "code",
   "execution_count": 12,
   "id": "0aa5776d-bca7-4c61-809a-126b9332708b",
   "metadata": {},
   "outputs": [
    {
     "name": "stdout",
     "output_type": "stream",
     "text": [
      "(204292, 9)\n"
     ]
    }
   ],
   "source": [
    "print((movimientos.count(), len(movimientos.columns)))"
   ]
  },
  {
   "cell_type": "markdown",
   "id": "895b3f0b-9015-4869-992b-1dbac338a4ac",
   "metadata": {},
   "source": [
    "**¿Cuantos datos nos compartieron para el proyecto?**\n",
    "En total tenemos 204,292 movimientos y tenemos en total 9 variables a revisar de las cuales 6 son numéricas asociadas a las órdenes, una es de tipo fecha y las demás son cadenas de caracteres."
   ]
  },
  {
   "cell_type": "markdown",
   "id": "9542010a-7db4-4398-a3d4-3c6bf23def6e",
   "metadata": {},
   "source": [
    "### Revisión de reglas de negocio\n",
    "Primero se confirman las reglas proporcionadas por el negocio"
   ]
  },
  {
   "cell_type": "markdown",
   "id": "d03548e9-1c66-40b0-aa4c-751cc9725fd6",
   "metadata": {},
   "source": [
    "#### Regla 1: La cantidad máxima de productos movidos es 50 millones por transacción"
   ]
  },
  {
   "cell_type": "code",
   "execution_count": 13,
   "id": "09285f0f-13fa-4efe-86b3-f90e4c5ca4b7",
   "metadata": {},
   "outputs": [
    {
     "name": "stdout",
     "output_type": "stream",
     "text": [
      "67368.0\n"
     ]
    }
   ],
   "source": [
    "print(movimientos.agg(spark_max(\"Cantidad\")).collect()[0][0])"
   ]
  },
  {
   "cell_type": "markdown",
   "id": "4fd02687-e1dc-4bc5-9ad2-be6be1c60d51",
   "metadata": {},
   "source": [
    "El análisis confirma que la cantidad máxima de productos movidos por transacción registrada en los datos es de 67,368, lo cual está dentro del límite aceptable de 50 millones. Por lo tanto, se puede concluir que los datos cumplen con esta regla de negocio específica. Este resultado contribuye a la confianza en la integridad y la calidad de los datos de movimientos de inventario de WWImporters."
   ]
  },
  {
   "cell_type": "markdown",
   "id": "734fd643-b224-4867-b4b1-bea5d65fbd54",
   "metadata": {},
   "source": [
    "#### Regla 2: Existen 236.668 movimientos de producto realizados desde eñ año 2013"
   ]
  },
  {
   "cell_type": "code",
   "execution_count": 14,
   "id": "593d9524-b620-4520-b123-486b630f156a",
   "metadata": {},
   "outputs": [
    {
     "name": "stdout",
     "output_type": "stream",
     "text": [
      "204292\n",
      "2013\n"
     ]
    }
   ],
   "source": [
    "spark.conf.set(\"spark.sql.legacy.timeParserPolicy\", \"LEGACY\")\n",
    "# Extraer el año considerando teniendo en cuenta que se tien la fecha en multiples formatos\n",
    "movimientosAnio = movimientos.withColumn(\n",
    "    \"AnioTransaccion\",\n",
    "    when(col(\"FechaTransaccion\").rlike(\"^[A-Za-z]{3} \\\\d{2},\\\\d{4}$\"), substring(col(\"FechaTransaccion\"), -4, 4).cast(\"int\"))\n",
    "    .otherwise(substring(col(\"FechaTransaccion\"), 1, 4).cast(\"int\"))\n",
    ")\n",
    "# Filtrar los movimientos realizados desde 2013\n",
    "movimientos_desde_2013 = movimientosAnio.filter(col(\"AnioTransaccion\") >= 2013)\n",
    "cantidad_movimientos_desde_2013 = movimientos_desde_2013.count()\n",
    "print(cantidad_movimientos_desde_2013)\n",
    "print(movimientosAnio.agg(min(\"AnioTransaccion\")).collect()[0][0])"
   ]
  },
  {
   "cell_type": "markdown",
   "id": "a1744ff0-f8a0-4473-910d-6b439a1510f0",
   "metadata": {},
   "source": [
    "El análisis muestra que si hay movimientos registrados desde el año 2013 con un total de 204,292 movimientos, lo cual no coincide con los 236,668 movimientos indicados por el negocio. Esta discrepancia puede deberse a varias razones, como errores en los datos proporcionados, diferencias en la definición de lo que constituye un movimiento válido, es se  hace evidente problemas en la calidad de datos (fechas mal formateadas o registros duplicados)"
   ]
  },
  {
   "cell_type": "code",
   "execution_count": 40,
   "id": "9984c45f-39a2-436f-aa42-84c9dc22db66",
   "metadata": {},
   "outputs": [
    {
     "name": "stdout",
     "output_type": "stream",
     "text": [
      "+---------------------+----------+--------------------+-----+\n",
      "|TransaccionProductoID|ProductoID|    FechaTransaccion|count|\n",
      "+---------------------+----------+--------------------+-----+\n",
      "|               280240|       212|2015-11-18 12:00:...|    2|\n",
      "|               284037|       210|2015-12-01 12:00:...|    2|\n",
      "|               183029|       157|2014-12-19 12:00:...|    2|\n",
      "|               228081|       168|2015-05-25 12:00:...|    2|\n",
      "|               235099|       104|2015-06-16 12:00:...|    2|\n",
      "|               144748|        60|2014-07-25 12:00:...|    2|\n",
      "|               230367|        29|2015-06-01 12:00:...|    2|\n",
      "|               262693|       105|2015-09-18 12:00:...|    2|\n",
      "|               279132|        50|2015-11-13 12:00:...|    2|\n",
      "|               322005|        73|2016-04-14 12:00:...|    2|\n",
      "|               150870|        39|2014-08-18 12:00:...|    2|\n",
      "|               204830|       131|2015-03-09 12:00:...|    2|\n",
      "|               324226|       109|2016-04-21 12:00:...|    2|\n",
      "|               128040|       103|2014-05-29 12:00:...|    2|\n",
      "|               225558|       112|2015-05-16 12:00:...|    2|\n",
      "|               238641|        46|2015-06-29 12:00:...|    2|\n",
      "|               192480|       133|2015-01-23 12:00:...|    2|\n",
      "|               196208|       108|2015-02-05 12:00:...|    2|\n",
      "|               270565|        54|2015-10-15 12:00:...|    2|\n",
      "|               128390|        72|2014-05-30 12:00:...|    2|\n",
      "+---------------------+----------+--------------------+-----+\n",
      "only showing top 20 rows\n",
      "\n",
      "30633\n"
     ]
    }
   ],
   "source": [
    "# Columnas clave para identificar duplicados\n",
    "key_columns = [\"TransaccionProductoID\", \"ProductoID\", \"FechaTransaccion\"]\n",
    "# Contar las ocurrencias de cada combinación de las columnas clave\n",
    "duplicates = movimientos.groupBy(key_columns).count()\n",
    "# Registros que tienen más de una ocurrencia\n",
    "duplicates = duplicates.filter(col(\"count\") > 1)\n",
    "duplicates.show()\n",
    "print(duplicates.count())"
   ]
  },
  {
   "cell_type": "markdown",
   "id": "bf5b1015-2c41-4dd3-84a2-cf9614476a50",
   "metadata": {},
   "source": [
    "El negocio esperaba un total de 236,668 movimientos desde 2013, mientras que el análisis muestra 204,292 movimientos únicos. La diferencia de 32,376 movimientos podría estar explicada parcialmente por los 30,633 duplicados, aunque no completamente. Además de los duplicados, puede haber otros problemas en los datos, como registros faltantes o mal categorizados.\n",
    "Se informará al negocio sobre las incosistencias en los datos y estandarizaremos los formatos de fecha."
   ]
  },
  {
   "cell_type": "markdown",
   "id": "bc282f06-8376-45a5-a9b6-31d328b9057b",
   "metadata": {},
   "source": [
    "#### Regla 3: Los movimientos están relacionados con 228.265 clientes"
   ]
  },
  {
   "cell_type": "code",
   "execution_count": 16,
   "id": "f33adb8c-2d7e-42c0-874f-22f4881f801b",
   "metadata": {},
   "outputs": [
    {
     "name": "stdout",
     "output_type": "stream",
     "text": [
      "La cantidad de clientes únicos relacionados con los movimientos es: 664\n"
     ]
    }
   ],
   "source": [
    "clientes_unicos = movimientos.select(\"ClienteID\").distinct().count()\n",
    "print(f\"La cantidad de clientes únicos relacionados con los movimientos es: {clientes_unicos}\")"
   ]
  },
  {
   "cell_type": "markdown",
   "id": "392b230f-3638-4041-a309-1228f83d4a49",
   "metadata": {},
   "source": [
    "La discrepancia significativa entre los 664 clientes únicos encontrados y los 228,265 clientes mencionados por el negocio indica la necesidad de una revisión exhaustiva y posible corrección de los datos."
   ]
  },
  {
   "cell_type": "code",
   "execution_count": 17,
   "id": "48c68617-8468-4fa7-9233-81fe518d374d",
   "metadata": {},
   "outputs": [
    {
     "name": "stdout",
     "output_type": "stream",
     "text": [
      "0\n",
      "7156\n"
     ]
    }
   ],
   "source": [
    "print(movimientos.filter(col(\"ClienteID\").isNull() | (col(\"ClienteID\") == \"\")).count())\n",
    "print(movimientos.filter(col(\"ClienteID\") == 0).count())"
   ]
  },
  {
   "cell_type": "markdown",
   "id": "65f7ed94-eb50-4c13-9529-bbbe2d5831e0",
   "metadata": {},
   "source": [
    "La presencia de 7,156 movimientos con ClienteID igual a 0 indica que estos registros no están correctamente asociados a clientes específicos, donde 0 podría estar siendo usado como un valor predeterminado o marcador de datos faltantes. Debe ser aclarado por la empresa para asegurar la precisión en el análisis de los movimientos y el comportamiento de los clientes."
   ]
  },
  {
   "cell_type": "markdown",
   "id": "2be95ca7-9d51-4b42-ae92-e05036a69bb8",
   "metadata": {},
   "source": [
    "#### Regla 4: El formato de fechas manejado es YYYY-MM-DD HH:MM:SS"
   ]
  },
  {
   "cell_type": "code",
   "execution_count": 18,
   "id": "2c5b442a-a4b0-4b58-b8b5-842a9f84c88b",
   "metadata": {},
   "outputs": [
    {
     "name": "stdout",
     "output_type": "stream",
     "text": [
      "Número total de ordenes: 204292, número de ordenes con formato correcto: 140038\n"
     ]
    }
   ],
   "source": [
    "regex = \"[0-2]\\d{3}-(0[1-9]|1[0-2])-(0[1-9]|[1-2][0-9]|3[0-1])\"\n",
    "cumplenFormato = movimientos.filter(movimientos[\"FechaTransaccion\"].rlike(regex))\n",
    "print(\"Número total de ordenes: \"+str(movimientos.count())+\", número de ordenes con formato correcto: \"+str(cumplenFormato.count()))"
   ]
  },
  {
   "cell_type": "markdown",
   "id": "74d993b6-a055-46e1-bc61-b74655e7e1b9",
   "metadata": {},
   "source": [
    "Registros que no cumplen con el formato correcto"
   ]
  },
  {
   "cell_type": "code",
   "execution_count": 19,
   "id": "91551f0b-5a25-43ef-be26-c6dfc57636c2",
   "metadata": {},
   "outputs": [
    {
     "name": "stdout",
     "output_type": "stream",
     "text": [
      "+----------------+\n",
      "|FechaTransaccion|\n",
      "+----------------+\n",
      "|     Apr 25,2014|\n",
      "|     Dec 10,2015|\n",
      "|     Dec 04,2015|\n",
      "|     Dec 23,2015|\n",
      "|     Jul 27,2015|\n",
      "|     Sep 15,2014|\n",
      "|     Aug 04,2015|\n",
      "|     Feb 23,2015|\n",
      "|     May 01,2015|\n",
      "|     Jan 08,2016|\n",
      "|     Mar 26,2014|\n",
      "|     Jul 31,2015|\n",
      "|     Sep 02,2014|\n",
      "|     Mar 15,2016|\n",
      "|     May 28,2016|\n",
      "|     Sep 09,2015|\n",
      "|     May 23,2014|\n",
      "|     Aug 20,2014|\n",
      "|     Jan 21,2015|\n",
      "|     Dec 29,2015|\n",
      "+----------------+\n",
      "only showing top 20 rows\n",
      "\n"
     ]
    },
    {
     "data": {
      "text/plain": [
       "(64254, None)"
      ]
     },
     "execution_count": 19,
     "metadata": {},
     "output_type": "execute_result"
    }
   ],
   "source": [
    "noCumplenFormato = movimientos.filter(~movimientos[\"FechaTransaccion\"].rlike(regex))\n",
    "noCumplenFormato.count(), noCumplenFormato.select(col(\"FechaTransaccion\")).show()"
   ]
  },
  {
   "cell_type": "markdown",
   "id": "2772c346-586f-430a-8539-e761601d4e4b",
   "metadata": {},
   "source": []
  },
  {
   "cell_type": "markdown",
   "id": "b58d3798-f5a5-4de8-8e30-65c2117827c2",
   "metadata": {},
   "source": [
    "#### Regla 5: Actualmente tenemos 13 proveedores"
   ]
  },
  {
   "cell_type": "code",
   "execution_count": 20,
   "id": "72394287-6468-48b2-af73-6e4178704847",
   "metadata": {},
   "outputs": [
    {
     "name": "stdout",
     "output_type": "stream",
     "text": [
      "4\n"
     ]
    }
   ],
   "source": [
    "print(movimientos.select(\"ProveedorID\").distinct().count())"
   ]
  },
  {
   "cell_type": "markdown",
   "id": "a3a3a3fe-c3fb-4fd5-be46-aa40a7e0e8ad",
   "metadata": {},
   "source": []
  },
  {
   "cell_type": "markdown",
   "id": "4c4fbbc5-852a-471e-aa5a-820474d247f0",
   "metadata": {},
   "source": [
    "### Análisis descriptivo"
   ]
  },
  {
   "cell_type": "code",
   "execution_count": 21,
   "id": "b68dfe69-08ee-469a-ae94-ed18cc36bd1b",
   "metadata": {},
   "outputs": [
    {
     "name": "stdout",
     "output_type": "stream",
     "text": [
      "+-------+---------------------+------------------+-------------------+------------------+-----------------+-----------------+------------------+--------------------+-----------------+\n",
      "|summary|TransaccionProductoID|        ProductoID|  TipoTransaccionID|         ClienteID|        InvoiceID|      ProveedorID|   OrdenDeCompraID|    FechaTransaccion|         Cantidad|\n",
      "+-------+---------------------+------------------+-------------------+------------------+-----------------+-----------------+------------------+--------------------+-----------------+\n",
      "|  count|               204292|            204292|             204292|            204292|           204292|           204292|            204292|              204292|           204292|\n",
      "|   mean|   212458.04047637695|110.70090850351458| 10.035253460732676| 517.3252941867523|42957.26929590978|4.951898734177215|1345.9973277074544|                null|719.4997650421946|\n",
      "| stddev|    71352.37579752573| 63.49014746219581|0.18563716955046372|353.50136995999276| 16826.9772221931|1.406311225432683|420.37740964792835|                null| 4729.36659747762|\n",
      "|    min|                89146|                 1|                 10|               0.0|              0.0|                 |                  |2013-12-31 07:00:...|           -360.0|\n",
      "|    25%|               150639|                56|                 10|             145.0|          30120.0|              4.0|             986.0|                null|            -60.0|\n",
      "|    50%|               212323|               110|                 10|             511.0|          43546.0|              4.0|            1347.0|                null|             -9.0|\n",
      "|    75%|               274216|               166|                 10|             877.0|          56983.0|              7.0|            1710.0|                null|             -5.0|\n",
      "|    max|               336251|               227|                 12|            1061.0|          70510.0|              7.0|             999.0|         Sep 30,2015|          67368.0|\n",
      "+-------+---------------------+------------------+-------------------+------------------+-----------------+-----------------+------------------+--------------------+-----------------+\n",
      "\n"
     ]
    }
   ],
   "source": [
    "movimientos.summary().show()"
   ]
  },
  {
   "cell_type": "markdown",
   "id": "f8cac14c-e560-4861-990b-f7cf91f0d342",
   "metadata": {},
   "source": [
    "El análisis de la tabla de movimientos revela lo siguiente: los TransaccionProductoID van desde 89,146 hasta 336,251, y los ProductoID desde 1 hasta 227. Los TipoTransaccionID varían entre 10 y 12, mostrando que solo ciertos tipos de transacciones están presentes. Los ClienteID van de 0 a 1061, con 7,156 registros teniendo ClienteID igual a 0, lo cual es problemático. Los InvoiceID varían de 0 a 70,510, mientras que los ProveedorID van de 0 a 7, con solo 4 proveedores únicos, discrepando con los 13 mencionados por el negocio. Las OrdenDeCompraID varían de 0 a 999."
   ]
  },
  {
   "cell_type": "markdown",
   "id": "ea642c72-6f78-42f6-8794-3fcc3b8687bd",
   "metadata": {
    "id": "9bG1x9gWPn3b",
    "tags": []
   },
   "source": [
    "## Análisis de calidad de datos\n",
    "La calidad de los datos se valida en cuanto a la idoneidad de:\n",
    "- Completitud: Datos que no existen o no se conocen\n",
    "- Unicidad (Duplicidad): Datos que son idénticos en diferentes registros o registros con valores idénticos en atributos en los que no debería ocurrir\n",
    "- Consistencia: Esta medida se define por la validez o integridad del dato, en la definición de su estructura, al interior de una fila o entre diferentes filas de la misma fuente o de diferentes fuentes. El manejo de unidades en los datos y el significado del dato son generadores de inconsistencias.\n",
    "- Validez: a nivel de formato y de sentido de los datos más alla de sus valores\n"
   ]
  },
  {
   "cell_type": "markdown",
   "id": "2b42f203-5120-4004-8b28-7d5a2c264af5",
   "metadata": {},
   "source": [
    "### Completitud"
   ]
  },
  {
   "cell_type": "markdown",
   "id": "8636b4a1-d17f-4ec2-b004-ad4518c92885",
   "metadata": {},
   "source": [
    "#### Verificación de valores nulos o vacíos"
   ]
  },
  {
   "cell_type": "code",
   "execution_count": 41,
   "id": "c78cfd1e-3eb8-4737-9d34-1ab3c318f1ba",
   "metadata": {},
   "outputs": [
    {
     "name": "stdout",
     "output_type": "stream",
     "text": [
      "Completitud de la columna TransaccionProductoID: 100.00%\n",
      "Completitud de la columna ProductoID: 100.00%\n",
      "Completitud de la columna TipoTransaccionID: 100.00%\n",
      "Completitud de la columna ClienteID: 100.00%\n",
      "Completitud de la columna InvoiceID: 100.00%\n",
      "Completitud de la columna ProveedorID: 3.48%\n",
      "Completitud de la columna OrdenDeCompraID: 3.48%\n",
      "Completitud de la columna FechaTransaccion: 100.00%\n",
      "Completitud de la columna Cantidad: 100.00%\n"
     ]
    }
   ],
   "source": [
    "# Calcular el número total de filas\n",
    "total_filas = movimientos.count()\n",
    "\n",
    "# Calcular el número de valores incompletos (nulos o vacíos) por columna\n",
    "incompletos_por_columna = movimientos.select(\n",
    "    [count(when(col(c).isNull() | (col(c) == \"\"), c)).alias(c) for c in movimientos.columns]\n",
    ").collect()[0]\n",
    "\n",
    "# Calcular la completitud por columna\n",
    "completitud_por_columna = {c: (1 - (incompletos_por_columna[c] / total_filas)) * 100 for c in movimientos.columns}\n",
    "\n",
    "for c, comp in completitud_por_columna.items():\n",
    "    print(f\"Completitud de la columna {c}: {comp:.3f}%\")"
   ]
  },
  {
   "cell_type": "markdown",
   "id": "c74d8839-5f94-4e7e-abd0-fea7ca85b439",
   "metadata": {},
   "source": [
    "\n",
    "#### Comprobación"
   ]
  },
  {
   "cell_type": "code",
   "execution_count": 38,
   "id": "ce1c43f5-34a0-4dd0-a62c-fc6297a9605d",
   "metadata": {},
   "outputs": [
    {
     "name": "stdout",
     "output_type": "stream",
     "text": [
      "+-----------------+------+\n",
      "|TipoTransaccionID| count|\n",
      "+-----------------+------+\n",
      "|               12|    46|\n",
      "|               10|197136|\n",
      "+-----------------+------+\n",
      "\n",
      "+-----------------+------+\n",
      "|TipoTransaccionID| count|\n",
      "+-----------------+------+\n",
      "|               12|    46|\n",
      "|               10|197136|\n",
      "+-----------------+------+\n",
      "\n"
     ]
    }
   ],
   "source": [
    "total_filas = movimientos.count()\n",
    "# Verificar la relación entre TipoTransaccionID y valores vacíos en ProveedorID y OrdenDeCompraID\n",
    "proveedor_vacio_por_tipo = movimientos.filter(col(\"ProveedorID\") == \"\").groupBy(\"TipoTransaccionID\").count()\n",
    "orden_vacio_por_tipo = movimientos.filter(col(\"OrdenDeCompraID\") == \"\").groupBy(\"TipoTransaccionID\").count()\n",
    "\n",
    "proveedor_vacio_por_tipo.show()\n",
    "orden_vacio_por_tipo.show()"
   ]
  },
  {
   "cell_type": "markdown",
   "id": "ff997043-ff3f-45db-88bd-6ed46d0b758c",
   "metadata": {},
   "source": []
  },
  {
   "cell_type": "markdown",
   "id": "7cf92b07-dff2-420e-98b4-362a0c98979a",
   "metadata": {},
   "source": [
    "### Unicidad"
   ]
  },
  {
   "cell_type": "markdown",
   "id": "cb530fdc-5fe0-4d24-8ea4-f0c7e433d419",
   "metadata": {},
   "source": [
    "#### Verificación de registros duplicados"
   ]
  },
  {
   "cell_type": "code",
   "execution_count": 23,
   "id": "e7fae763-1cee-4568-b9b0-80f2792f6783",
   "metadata": {},
   "outputs": [
    {
     "name": "stdout",
     "output_type": "stream",
     "text": [
      "+---------------------+----------+-----------------+---------+---------+-----------+---------------+--------------------+--------+-----+\n",
      "|TransaccionProductoID|ProductoID|TipoTransaccionID|ClienteID|InvoiceID|ProveedorID|OrdenDeCompraID|    FechaTransaccion|Cantidad|count|\n",
      "+---------------------+----------+-----------------+---------+---------+-----------+---------------+--------------------+--------+-----+\n",
      "|               270985|       216|               10|    510.0|  56780.0|           |               |2015-10-16 12:00:...|   -10.0|    2|\n",
      "|               118236|       119|               10|    425.0|  24762.0|           |               |2014-04-23 12:00:...|   -10.0|    2|\n",
      "|               265915|       152|               10|    911.0|  55734.0|           |               |2015-09-29 12:00:...|   -10.0|    2|\n",
      "|               261670|        42|               10|    995.0|  54844.0|           |               |2015-09-15 12:00:...|   -10.0|    2|\n",
      "|               218629|        65|               10|    899.0|  45777.0|           |               |2015-04-23 12:00:...|   -10.0|    2|\n",
      "|               156776|       108|               10|    591.0|  32849.0|           |               |2014-09-11 12:00:...|   -10.0|    2|\n",
      "|               302436|       115|               10|    880.0|  63375.0|           |               |2016-02-04 12:00:...|   -10.0|    2|\n",
      "|               157248|       165|               10|     57.0|  32946.0|           |               |2014-09-12 12:00:...|   -10.0|    2|\n",
      "|               223592|        30|               10|    842.0|  46825.0|           |               |2015-05-08 12:00:...|   -10.0|    2|\n",
      "|               283516|        30|               10|     71.0|  59398.0|           |               |2015-11-28 12:00:...|   -10.0|    2|\n",
      "|               319659|         9|               10|   1013.0|  67025.0|           |               |2016-04-07 12:00:...|   -10.0|    2|\n",
      "|               267727|       112|               10|    957.0|  56107.0|           |               |2015-10-06 12:00:...|   -10.0|    2|\n",
      "|               118540|       134|               10|     66.0|  24826.0|           |               |2014-04-24 12:00:...|    -8.0|    2|\n",
      "|               222926|        62|               10|    927.0|  46683.0|           |               |2015-05-06 12:00:...|    -8.0|    2|\n",
      "|               258195|        42|               10|    957.0|  54096.0|           |               |2015-09-04 12:00:...|    -8.0|    2|\n",
      "|               312760|        58|               10|    548.0|  65574.0|           |               |2016-03-14 12:00:...|    -8.0|    2|\n",
      "|               270377|       108|               10|      2.0|  56652.0|           |               |2015-10-15 12:00:...|    -8.0|    2|\n",
      "|               193917|       104|               10|    895.0|  40608.0|           |               |2015-01-28 12:00:...|    -8.0|    2|\n",
      "|               103145|       107|               10|    404.0|  21616.0|           |               |2014-02-22 12:00:...|    -5.0|    2|\n",
      "|                90509|       119|               10|    889.0|  18964.0|           |               |2014-01-03 12:00:...|    -5.0|    2|\n",
      "+---------------------+----------+-----------------+---------+---------+-----------+---------------+--------------------+--------+-----+\n",
      "only showing top 20 rows\n",
      "\n",
      "Total de registros duplicados: 30633\n"
     ]
    }
   ],
   "source": [
    "# Columnas para identificar duplicados\n",
    "key_columns = [\"TransaccionProductoID\", \"ProductoID\", \"TipoTransaccionID\", \"ClienteID\", \"InvoiceID\", \"ProveedorID\", \"OrdenDeCompraID\", \"FechaTransaccion\", \"Cantidad\"]\n",
    "# Contar las ocurrencias de cada combinación de las columnas\n",
    "duplicates = movimientos.groupBy(key_columns).count()\n",
    "# Se filtrar aquellos registros que tienen más de una ocurrencia\n",
    "duplicates = duplicates.filter(col(\"count\") > 1)\n",
    "duplicates.show()\n",
    "# Total de duplicados\n",
    "total_duplicates = duplicates.count()\n",
    "print(f\"Total de registros duplicados: {total_duplicates}\")"
   ]
  },
  {
   "cell_type": "markdown",
   "id": "6b55a9c9-ef43-4a47-8af4-3b2fc3058dab",
   "metadata": {},
   "source": []
  },
  {
   "cell_type": "markdown",
   "id": "964c0d05-485d-4b1b-ac0a-61a8abfdc0be",
   "metadata": {},
   "source": [
    "### Consistencia"
   ]
  },
  {
   "cell_type": "markdown",
   "id": "8ac140a2-c207-44ee-abd2-5ecab9c2c68b",
   "metadata": {},
   "source": [
    "#### Verificación consistencia estructural"
   ]
  },
  {
   "cell_type": "code",
   "execution_count": 24,
   "id": "98c2373a-7c3c-4dd3-af36-1d9d45caf13e",
   "metadata": {},
   "outputs": [
    {
     "name": "stdout",
     "output_type": "stream",
     "text": [
      "root\n",
      " |-- TransaccionProductoID: integer (nullable = true)\n",
      " |-- ProductoID: integer (nullable = true)\n",
      " |-- TipoTransaccionID: integer (nullable = true)\n",
      " |-- ClienteID: double (nullable = true)\n",
      " |-- InvoiceID: double (nullable = true)\n",
      " |-- ProveedorID: string (nullable = true)\n",
      " |-- OrdenDeCompraID: string (nullable = true)\n",
      " |-- FechaTransaccion: string (nullable = true)\n",
      " |-- Cantidad: double (nullable = true)\n",
      "\n",
      "+-------+-------------------+-------------------+------------------+\n",
      "|summary|        ProveedorID|    OrdenDeCompraID|  FechaTransaccion|\n",
      "+-------+-------------------+-------------------+------------------+\n",
      "|  count|             204292|             204292|            204292|\n",
      "|   mean|0.10440937481643922|0.19980713880132359|21.967673721927437|\n",
      "| stddev| 0.5498438749162375| 1.0553991369448272|7.4292114553489785|\n",
      "|    min|                  0|                  0|                11|\n",
      "|    25%|                  0|                  0|                11|\n",
      "|    50%|                  0|                  0|                27|\n",
      "|    75%|                  0|                  0|                27|\n",
      "|    max|                  3|                  6|                27|\n",
      "+-------+-------------------+-------------------+------------------+\n",
      "\n"
     ]
    }
   ],
   "source": [
    "# Tipos de datos de las columnas\n",
    "movimientos.printSchema()\n",
    "# Verificar la longitud de los valores en columnas de tipo string\n",
    "from pyspark.sql.functions import length\n",
    "string_columns = [field.name for field in movimientos.schema.fields if field.dataType == StringType()]\n",
    "movimientos.select([length(col(c)).alias(c) for c in string_columns]).summary().show()"
   ]
  },
  {
   "cell_type": "markdown",
   "id": "f48d4300-69c8-46c1-848e-e0c75334358b",
   "metadata": {},
   "source": []
  },
  {
   "cell_type": "markdown",
   "id": "afb21a25-b3c6-4c89-9981-bf25847edc34",
   "metadata": {},
   "source": [
    "#### Verificación consistencia de contenido"
   ]
  },
  {
   "cell_type": "code",
   "execution_count": 42,
   "id": "edb0c2d2-e160-4256-bdb5-1f9e537b4ae0",
   "metadata": {},
   "outputs": [
    {
     "name": "stdout",
     "output_type": "stream",
     "text": [
      "Cantidad de registros con cantidad negativa inconsistente: 0\n"
     ]
    }
   ],
   "source": [
    "# Se define los tipos de transacción permitidos para cantidades negativas\n",
    "tipos_transaccion_permitidos = [2, 4, 6, 8, 10, 12, 13]\n",
    "# Filtrar registros con cantidad negativa que no corresponden a los tipos de transacción permitidos\n",
    "cantidad_negativa_inconsistente = movimientos.filter((col(\"Cantidad\") < 0) & (~col(\"TipoTransaccionID\").isin(tipos_transaccion_permitidos))).count()\n",
    "print(f\"Cantidad de registros con cantidad negativa inconsistente: {cantidad_negativa_inconsistente}\")"
   ]
  },
  {
   "cell_type": "markdown",
   "id": "6ff8ce08-6812-4718-a660-b0dd4a783804",
   "metadata": {},
   "source": []
  },
  {
   "cell_type": "markdown",
   "id": "e33145a1-b9e2-4808-8251-e34686c9ba4e",
   "metadata": {},
   "source": [
    "### Validez"
   ]
  },
  {
   "cell_type": "markdown",
   "id": "ce3bdd69-ab24-4615-b15a-c5f723fa71da",
   "metadata": {},
   "source": [
    "#### Verificación valores en rangos específicos"
   ]
  },
  {
   "cell_type": "code",
   "execution_count": 29,
   "id": "ce15b55c-ea21-4571-8803-4ebefd95c913",
   "metadata": {},
   "outputs": [
    {
     "name": "stdout",
     "output_type": "stream",
     "text": [
      "Cantidad de registros con cantidades fuera del rango permitido: 0\n"
     ]
    }
   ],
   "source": [
    "# Cantidades dentro de los rangos esperados no más de 50 millones por transacción\n",
    "cantidades_invalidas = movimientos.filter((col(\"Cantidad\") < -50000000) | (col(\"Cantidad\") > 50000000)).count()\n",
    "print(f\"Cantidad de registros con cantidades fuera del rango permitido: {cantidades_invalidas}\")"
   ]
  },
  {
   "cell_type": "markdown",
   "id": "194005c4-b589-44db-9c04-65eed2c6d899",
   "metadata": {},
   "source": []
  },
  {
   "cell_type": "markdown",
   "id": "3028fe8f-1cec-4594-96c9-f92ab3b83e55",
   "metadata": {},
   "source": [
    "## Entendimiento de datos"
   ]
  },
  {
   "cell_type": "markdown",
   "id": "d613649a-f384-46f4-ba10-61ea1cb54100",
   "metadata": {},
   "source": [
    "### Analizar la correlación lineal"
   ]
  },
  {
   "cell_type": "code",
   "execution_count": 35,
   "id": "bbff3f19-cc16-49e0-aaed-d04953d58804",
   "metadata": {},
   "outputs": [
    {
     "name": "stdout",
     "output_type": "stream",
     "text": [
      "Correlación entre TipoTransaccionID y Cantidad: 0.8336502987666313\n"
     ]
    }
   ],
   "source": [
    "# Calcular la correlación entre TipoTransaccionID y Cantidad\n",
    "correlacion = movimientos.select(corr(\"TipoTransaccionID\", \"Cantidad\")).collect()[0][0]\n",
    "print(f\"Correlación entre TipoTransaccionID y Cantidad: {correlacion}\")"
   ]
  },
  {
   "cell_type": "markdown",
   "id": "4576a97e-f751-483a-89b2-4ffbdb2d8391",
   "metadata": {},
   "source": []
  },
  {
   "cell_type": "markdown",
   "id": "262e82ae-0169-43e6-9586-1f68b26d1e42",
   "metadata": {
    "id": "kxj4KoVDPn3f"
   },
   "source": [
    "## Conclusiones/resultados"
   ]
  },
  {
   "cell_type": "markdown",
   "id": "c62a6c1c-76a5-4bcb-b955-b656ef5cc805",
   "metadata": {},
   "source": [
    "**Conclusiones generales:**\n",
    "\n",
    "El análisis de la tabla ....\n",
    "\n",
    "**Conclusiones de reglas de negocio:**\n",
    "\n",
    "- \n",
    "- \n",
    "- \n",
    "- \n",
    "- \n",
    "\n",
    "**Conclusiones de calidad:**\n",
    "\n",
    "- \n",
    "- \n",
    "- \n",
    "- \n",
    "\n",
    "**Sección de correlación**\n",
    "\n",
    "\n",
    "\n"
   ]
  },
  {
   "cell_type": "markdown",
   "id": "1186ee20-e4ad-481f-8b40-3a695f59e7f3",
   "metadata": {},
   "source": [
    "## Para la organización\n",
    "\n",
    "**Preguntas y aclaraciones**\n",
    "- \n",
    "- \n",
    "- \n",
    "- \n",
    "- \n",
    "- \n",
    "\n",
    "**Problemas de calidad y alternativas para la limpieza**\n",
    "\n",
    "- \n",
    "- \n",
    "- "
   ]
  },
  {
   "cell_type": "code",
   "execution_count": null,
   "id": "43734ae9-5b8f-4d09-a0e6-0878a94caa86",
   "metadata": {},
   "outputs": [],
   "source": []
  },
  {
   "cell_type": "code",
   "execution_count": null,
   "id": "bce40982-7e1b-4bfa-8117-7e2cd7f553c6",
   "metadata": {},
   "outputs": [],
   "source": []
  }
 ],
 "metadata": {
  "kernelspec": {
   "display_name": "Python 3 (ipykernel)",
   "language": "python",
   "name": "python3"
  },
  "language_info": {
   "codemirror_mode": {
    "name": "ipython",
    "version": 3
   },
   "file_extension": ".py",
   "mimetype": "text/x-python",
   "name": "python",
   "nbconvert_exporter": "python",
   "pygments_lexer": "ipython3",
   "version": "3.11.7"
  },
  "toc-showcode": false,
  "toc-showmarkdowntxt": false
 },
 "nbformat": 4,
 "nbformat_minor": 5
}
