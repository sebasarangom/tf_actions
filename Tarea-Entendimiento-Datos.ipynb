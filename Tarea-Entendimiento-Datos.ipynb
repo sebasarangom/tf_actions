{
 "cells": [
  {
   "cell_type": "markdown",
   "id": "7d150940-b174-44ba-9657-727bffe783a5",
   "metadata": {
    "tags": []
   },
   "source": [
    "# Tarea: Entendimiento de los datos"
   ]
  },
  {
   "cell_type": "markdown",
   "id": "672f3c58-84fc-43c3-a691-d6fa5275dc30",
   "metadata": {},
   "source": [
    "## Introducción\n",
    "A continuación, se desarrolla la entrega grupal de Entendimiento de Datos, de la semana 4.\n"
   ]
  },
  {
   "cell_type": "markdown",
   "id": "a362c753-492e-44be-9692-16ae3a53cf32",
   "metadata": {
    "id": "dm33nuYTPn3L",
    "tags": [],
    "toc-hr-collapsed": true
   },
   "source": [
    "## Configuración e importe de paquetes\n",
    "Se utilizará el paquete de pandas profiling para apoyar el análisis estadístico, y se importan los paquetes de python necesarios."
   ]
  },
  {
   "cell_type": "code",
   "execution_count": 1,
   "id": "75a2e171-a7ea-4882-aa0a-d676277ae2d4",
   "metadata": {
    "id": "gGiDdRBNPn3M"
   },
   "outputs": [
    {
     "name": "stderr",
     "output_type": "stream",
     "text": [
      "C:\\Users\\estudiante\\anaconda3\\envs\\Tutoriales\\lib\\site-packages\\tqdm\\auto.py:22: TqdmWarning: IProgress not found. Please update jupyter and ipywidgets. See https://ipywidgets.readthedocs.io/en/stable/user_install.html\n",
      "  from .autonotebook import tqdm as notebook_tqdm\n"
     ]
    }
   ],
   "source": [
    "from pyspark.sql import SparkSession\n",
    "from pyspark.sql import functions\n",
    "from pyspark.sql.types import StructType\n",
    "from pyspark import SparkContext, SparkConf, SQLContext\n",
    "from pyspark.sql.types import FloatType, StringType, IntegerType, DateType, TimestampType\n",
    "from pyspark.sql.functions import udf, col, countDistinct, length, isnan, when, count, max as spark_max, to_date, year, to_timestamp, expr, substring, min, corr\n",
    "import pyspark.sql.functions as f\n",
    "import os \n",
    "from datetime import datetime\n",
    "from pyspark.sql import types as t\n",
    "from pandas_profiling import ProfileReport\n",
    "import matplotlib.pyplot as plt\n",
    "import numpy as np"
   ]
  },
  {
   "cell_type": "markdown",
   "id": "e54510e3-7f35-4cf0-b79c-31b85f7cbfb6",
   "metadata": {
    "id": "dm33nuYTPn3L",
    "tags": [],
    "toc-hr-collapsed": true
   },
   "source": [
    "Configuración del controlador e inicio de sesion Spark."
   ]
  },
  {
   "cell_type": "code",
   "execution_count": 2,
   "id": "a9f0e022-0ace-4527-84f8-fdaeb931dc12",
   "metadata": {
    "id": "0r-yix1rPn3O"
   },
   "outputs": [],
   "source": [
    "path_jar_driver = 'C:\\Program Files (x86)\\MySQL\\Connector J 8.0\\mysql-connector-java-8.0.28.jar'"
   ]
  },
  {
   "cell_type": "code",
   "execution_count": 3,
   "id": "c6b7ba53-abb1-4984-bdf8-077625d12d2e",
   "metadata": {
    "id": "0-m3Q2MtPn3O",
    "outputId": "459f0ec2-9a36-4a36-edac-427852524d95"
   },
   "outputs": [
    {
     "name": "stderr",
     "output_type": "stream",
     "text": [
      "C:\\Users\\estudiante\\anaconda3\\envs\\Tutoriales\\lib\\site-packages\\pyspark\\sql\\context.py:79: FutureWarning: Deprecated in 3.0.0. Use SparkSession.builder.getOrCreate() instead.\n",
      "  FutureWarning\n"
     ]
    }
   ],
   "source": [
    "#Configuración de la sesión\n",
    "conf=SparkConf() \\\n",
    "    .set('spark.driver.extraClassPath', path_jar_driver)\n",
    "\n",
    "spark_context = SparkContext(conf=conf)\n",
    "sql_context = SQLContext(spark_context)\n",
    "spark = sql_context.sparkSession"
   ]
  },
  {
   "cell_type": "code",
   "execution_count": 4,
   "id": "9425e101-27c7-44f6-994b-2e5fb88dc4af",
   "metadata": {
    "id": "0eQw66SIPn3P"
   },
   "outputs": [],
   "source": [
    "db_connection_string = 'jdbc:mysql://157.253.236.116:8080/ProyectoTransaccional'\n",
    "db_user = 'Estudiante_8_202413'\n",
    "db_psswd = 'MISO_aabb1122'\n",
    "PATH='./'"
   ]
  },
  {
   "cell_type": "markdown",
   "id": "07425428-0ea4-4017-b400-41556574e3e7",
   "metadata": {},
   "source": [
    "## Perfilamiento de los datos"
   ]
  },
  {
   "cell_type": "markdown",
   "id": "b7c81ff2-8df1-4acb-94b4-3d9b1c96826a",
   "metadata": {
    "id": "p6KvbuvpPn3Q"
   },
   "source": [
    "### Información dada por la organización\n",
    "\n",
    "- Hay informacion del PIB para los 32 departamentos desde 2005 hasta 2018\n",
    "- Se tiene la información de proyecciones de vida por género y edad para los 32 departamentos desde 2005 hasta 2015\n",
    "- El total de hombres de valle del cauca para 2014 es 2110069\n",
    "- Hay información de 605.448 vuelos entre 2004 y 2018 y de 865 aeropuertos construidos desde 2013 hasta 2020\n",
    "- Hay información de 7879 centros poblados\n"
   ]
  },
  {
   "cell_type": "markdown",
   "id": "4e6ed9ed-58ea-40fa-a239-a42d318dc509",
   "metadata": {
    "id": "Xw96w3ywPn3R"
   },
   "source": [
    "### Conexión a fuente de datos y acceso a los datos"
   ]
  },
  {
   "cell_type": "markdown",
   "id": "f8531318-a811-46b0-8a4b-9d2a3341dc4b",
   "metadata": {
    "id": "LKHpN3nzPn3R",
    "toc-hr-collapsed": true
   },
   "source": [
    "#### Conexión a fuente de datos\n",
    "A continuación encuentra las funciones para conectarse a la fuente de datos (archivo csv o base de datos) y retornar un dataframe que es el que se utilizará posteriormente para manipular los datos."
   ]
  },
  {
   "cell_type": "code",
   "execution_count": 5,
   "id": "97cc426d-6fdc-47f7-ac54-8824bf031760",
   "metadata": {
    "id": "SsdwInchPn3R"
   },
   "outputs": [],
   "source": [
    "def obtener_dataframe_de_bd(db_connection_string, sql, db_user, db_psswd):\n",
    "    df_bd = spark.read.format('jdbc')\\\n",
    "        .option('url', db_connection_string) \\\n",
    "        .option('dbtable', sql) \\\n",
    "        .option('user', db_user) \\\n",
    "        .option('password', db_psswd) \\\n",
    "        .option('driver', 'com.mysql.cj.jdbc.Driver') \\\n",
    "        .load()\n",
    "    return df_bd"
   ]
  },
  {
   "cell_type": "markdown",
   "id": "70007770-0f7a-421f-8924-7799c91c94ff",
   "metadata": {
    "id": "3HZloEq5Pn3S",
    "toc-hr-collapsed": true
   },
   "source": [
    "#### Cargue de datos\n",
    "Para consultar desde la base de datos se puede acceder directamente a la tabla dado su nombre y traer la información total de la tabla que se requiere. A continuación, se presentan las consultas a las 5 tablas principales."
   ]
  },
  {
   "cell_type": "code",
   "execution_count": 17,
   "id": "d4ce4b19-674f-404b-b616-c3a1d1c7608b",
   "metadata": {
    "id": "xMaQViPnPn3S"
   },
   "outputs": [],
   "source": [
    "sql_aeropuertos = 'ProyectoTransaccional.aeropuertosCopia'"
   ]
  },
  {
   "cell_type": "code",
   "execution_count": 18,
   "id": "d07122a9-83ad-4012-b9b9-447f87769979",
   "metadata": {
    "id": "xMaQViPnPn3S"
   },
   "outputs": [],
   "source": [
    "sql_divipola = 'ProyectoTransaccional.divipolaCopia'"
   ]
  },
  {
   "cell_type": "code",
   "execution_count": 23,
   "id": "f06b4661-be3f-4b84-ad10-72eb1ff07e66",
   "metadata": {
    "id": "xMaQViPnPn3S"
   },
   "outputs": [],
   "source": [
    "sql_vuelos = 'ProyectoTransaccional.vuelosCopia2'"
   ]
  },
  {
   "cell_type": "code",
   "execution_count": 24,
   "id": "c6b00c4e-90cb-4dd3-86a1-28b7f868dd65",
   "metadata": {
    "id": "xMaQViPnPn3S"
   },
   "outputs": [],
   "source": [
    "sql_pib = 'ProyectoTransaccional.PIBCopia'"
   ]
  },
  {
   "cell_type": "code",
   "execution_count": 25,
   "id": "c3dd495f-b222-4e99-a100-b3897a341cf3",
   "metadata": {
    "id": "fDRojcVMPn3S"
   },
   "outputs": [],
   "source": [
    "sql_proyecciones = 'ProyectoTransaccional.proyeccionesCopia'"
   ]
  },
  {
   "cell_type": "code",
   "execution_count": 26,
   "id": "f89fc419-df23-4038-aafa-89542cc081f9",
   "metadata": {
    "id": "Ajy_XMshPn3T"
   },
   "outputs": [],
   "source": [
    "#Se cargan los dataframes desde la base de datos\n",
    "aeropuertos = obtener_dataframe_de_bd(db_connection_string, sql_aeropuertos, db_user, db_psswd)\n",
    "divipola = obtener_dataframe_de_bd(db_connection_string, sql_divipola, db_user, db_psswd)\n",
    "vuelos = obtener_dataframe_de_bd(db_connection_string, sql_vuelos, db_user, db_psswd)\n",
    "pib = obtener_dataframe_de_bd(db_connection_string, sql_pib, db_user, db_psswd)\n",
    "proyecciones = obtener_dataframe_de_bd(db_connection_string, sql_proyecciones, db_user, db_psswd)\n"
   ]
  },
  {
   "cell_type": "markdown",
   "id": "f584c99d-e473-4a5e-83c9-3595ecb66f4d",
   "metadata": {
    "id": "qxN27II0Pn3T",
    "tags": [],
    "toc-hr-collapsed": true
   },
   "source": [
    "### Entendimiento general de datos\n",
    "A continuación, se presentan las tablas las cuales serán la fuente de datos."
   ]
  },
  {
   "cell_type": "code",
   "execution_count": 27,
   "id": "d495e5bf-7d9b-44d4-a187-7e00567941ec",
   "metadata": {
    "id": "HtrqSl0zPn3T",
    "outputId": "c20c03fc-68d4-4d2e-eb8f-91a06cdd3174",
    "tags": []
   },
   "outputs": [
    {
     "name": "stdout",
     "output_type": "stream",
     "text": [
      "+-----+----+--------------------+--------------------+------------+----------+-------+--------+-----------------+--------------------+--------------+-----------+------+-----------+---------+----------+------------------+--------------+-----+---------+--------------------+----------------+-------------+\n",
      "|sigla|iata|              nombre|           municipio|departamento| categoria|latitud|longitud|      propietario|          explotador|longitud_pista|ancho_pista|  pbmo|orientacion|elevacion|resolucion|fecha_construccion|fecha_vigencia|clase|     tipo|numero_vuelos_origen|gcd_departamento|gcd_municipio|\n",
      "+-----+----+--------------------+--------------------+------------+----------+-------+--------+-----------------+--------------------+--------------+-----------+------+-----------+---------+----------+------------------+--------------+-----+---------+--------------------+----------------+-------------+\n",
      "|  9cg|    |san jose del ariporo|      Paz de Ariporo|    casanare|AerÃ³dromo|    500|-70.0128|        MUNICIPIO|           MUNICIPIO|           250|        8.0|2000.0|           |    318.0|  4541,000|        2006-10-27|    2016-11-07|   1A| PÃºblico|              -146.0|              85|        85250|\n",
      "|  mii|    |                mani|               ManÃ­|    casanare|AerÃ³dromo|    500|        |                 |                    |           250|        8.0|      |           |         |          |                  |              |     |         |               -20.0|              85|        85139|\n",
      "|  slo|    |           yaguarito|San Carlos de Guaroa|        meta|AerÃ³dromo|    500|        |                 |                    |           250|        8.0|      |           |         |          |                  |              |     |         |               -83.0|              50|        50680|\n",
      "|  bql|    |      barranquillita|          Miraflores|    guaviare|AerÃ³dromo|    500|-72.3258|      GOBERNACION|INS POL BARRANQUI...|           250|        8.0|5000.0|           |    800.0|  2989,000|                  |              |   1A| PÃºblico|               -79.0|              95|        95200|\n",
      "|  pro|    |              pororo|    AgustÃ­n Codazzi|       cesar|AerÃ³dromo|    500|-73.2687|PALMAS PORORO SAS|   PALMAS PORORO SAS|           250|        8.0|6000.0|           |    328.0|   276,000|                  |              |   1A|  Privado|                -6.0|              20|        20013|\n",
      "|  tes|    |             tesalia|             Tesalia|       huila|AerÃ³dromo|    500|        |                 |                    |           250|        8.0|      |           |         |          |                  |              |     |         |                 1.0|              41|        41797|\n",
      "|  cpl| CPL|         navas pardo|           Chaparral|      tolima|AerÃ³dromo|    500|-75.4654|        AEROCIVIL|           AEROCIVIL|           250|        8.0|      |           |   2729.0|   499,000|        1968-07-20|              |   2C|Aerocivil|               538.0|              73|        73168|\n",
      "+-----+----+--------------------+--------------------+------------+----------+-------+--------+-----------------+--------------------+--------------+-----------+------+-----------+---------+----------+------------------+--------------+-----+---------+--------------------+----------------+-------------+\n",
      "only showing top 7 rows\n",
      "\n"
     ]
    }
   ],
   "source": [
    "aeropuertos.show(7)"
   ]
  },
  {
   "cell_type": "markdown",
   "id": "b461af9f-e822-46d6-87cb-d51f2051c7d9",
   "metadata": {
    "id": "qxN27II0Pn3T",
    "tags": [],
    "toc-hr-collapsed": true
   },
   "source": [
    "Para la tabla de aeropuertos, se tiene la siguiente información relacionada, detallando el nombre de la columna y su correspondiente descripción:\n",
    "- sigla: Código formado por grupos de tres letras que designan a cada aeropuerto de Colombia\n",
    "- iata: Código IATA (International Air Transport Association)\n",
    "- nombre: Nombre del aeropuerto o aeródromo\n",
    "- municipio: Municipio en el cual se ubica el aeropuerto o aeródromo\n",
    "- departamento: Departamento en el cual se ubica el aeropuerto o aeródromo\n",
    "- categoria: Categoría del aeropuerto o aeródromo\n",
    "- latitud: Latitud en la cual se encuentra ubicado el aeropuerto\n",
    "- longitud: Longitud en la cual se encuentra ubicado el aeropuerto\n",
    "- propietario: Propietario del aeropuerto o aeródromo\n",
    "- explotador: Explotador del aeropuerto o aeródromo\n",
    "- longitud_pista: Longitud medida en metros de la pista\n",
    "- ancho_pista: Ancho medido en metros de la pista\n",
    "- pbmo: Peso bruto máximo operacional (PBMO)\n",
    "- elevacion: Elevación del aeropuerto o aeródromo\n",
    "- resolucion: Número de resolución de construcción del aeropuerto o aeródromo\n",
    "- fecha_construccion: Fecha en la que se construyó el aeropuerto o aeródromo\n",
    "- fecha_vigencia: Fecha hasta la cual el aeropuerto(aeródromo) se encuentra vigente para su funcionamiento\n",
    "- clase: Tolerabilidad del riesgo del aeropuerto o aeródromo\n",
    "- tipo: Uso se que le da al aeropuerto o aeródromo\n",
    "- numero_vuelos_origen: Número total de vuelos cuyo origen es el aeropuerto o aeródromo del último año registrado\n",
    "- gcd_departamento: Código departamental en el cual se encuentra ubicado el establecimiento\n",
    "- gcd_municipio: Código municipal en el cual se encuentra ubicado el establecimiento\n",
    "- anio: Año en el cual se registró el dato"
   ]
  },
  {
   "cell_type": "code",
   "execution_count": 28,
   "id": "92cdc249-8351-453f-a091-3be670190a04",
   "metadata": {
    "id": "HtrqSl0zPn3T",
    "outputId": "c20c03fc-68d4-4d2e-eb8f-91a06cdd3174"
   },
   "outputs": [
    {
     "name": "stdout",
     "output_type": "stream",
     "text": [
      "+-------------------+----------------+---------------------+-------------------+----------------+---------------------+-------------------+--------------+--------------+---------------+----------------------------------------+-------------------------+\n",
      "|Código Departamento|Código Municipio|Código Centro Poblado|Nombre Departamento|Nombre Municipio|Nombre Centro Poblado|Tipo Centro Poblado|      Longitud|       Latitud|Nombre Distrito|Municipio/Áreas No Municipalizadas (ANM)|Nombre Área Metropolitana|\n",
      "+-------------------+----------------+---------------------+-------------------+----------------+---------------------+-------------------+--------------+--------------+---------------+----------------------------------------+-------------------------+\n",
      "|                 41|           91001|             91001033|           amazonas|           NEIVA| COMUNIDAD INDÍGEN...|     CENTRO POBLADO|-70.0285785394|-4.11198257304|               |                               MUNICIPIO|                         |\n",
      "|                 41|           91001|             91001005|           amazonas|           NEIVA| COMUNIDAD INDÍGEN...|     CENTRO POBLADO|-70.0539208267|-4.05305758964|               |                               MUNICIPIO|                         |\n",
      "|                 41|           91001|             91001026|           amazonas|           NEIVA| COMUNIDAD INDÍGEN...|     CENTRO POBLADO|-70.1657071533|  -3.956020168|               |                               MUNICIPIO|                         |\n",
      "|                 41|           91540|             91540004|           amazonas|           NEIVA|           NARANJALES|     CENTRO POBLADO|-70.5178943433|-3.86731728447|               |                               MUNICIPIO|                         |\n",
      "|                 41|           91001|             91001020|           amazonas|           NEIVA| COMUNIDAD INDÍGEN...|     CENTRO POBLADO|-70.2216413306|-3.84723456612|               |                               MUNICIPIO|                         |\n",
      "|                 41|           91540|             91540017|           amazonas|           NEIVA|             VALENCIA|     CENTRO POBLADO|-70.3225621049|-3.80176511867|               |                               MUNICIPIO|                         |\n",
      "|                 41|           91540|             91540000|           amazonas|           NEIVA|        PUERTO NARIÑO| CABECERA MUNICIPAL|-70.3645183498|-3.78044763205|               |                               MUNICIPIO|                         |\n",
      "+-------------------+----------------+---------------------+-------------------+----------------+---------------------+-------------------+--------------+--------------+---------------+----------------------------------------+-------------------------+\n",
      "only showing top 7 rows\n",
      "\n"
     ]
    }
   ],
   "source": [
    "divipola.show(7)"
   ]
  },
  {
   "cell_type": "markdown",
   "id": "527fa68b-2651-4d06-9166-01b4fb027ea2",
   "metadata": {
    "id": "qxN27II0Pn3T",
    "tags": [],
    "toc-hr-collapsed": true
   },
   "source": [
    "Para la tabla de divipola, se tiene la siguiente información relacionada, detallando el nombre de la columna y su correspondiente descripción:\n",
    "- CodigoDepartamento: Identificador del departamento\n",
    "- CodigoMunicipio: Identificador del Municipio\n",
    "- CodigoCentroPoblado: Identificador del centro poblado\n",
    "- NombreDepartamento: Nombre del departamento en el que esta ubicado el centro poblado\n",
    "- NombreMunicipio: Nombre del municipio en el que esta ubicado el centro poblado\n",
    "- NombreCentroPoblado: Nombre del centro poblado\n",
    "- TipoCentroPoblado: Tipo: centro poblado o cabecera municipal\n",
    "- Longitud: Longitud de ubicación del centro poblado\n",
    "- Latitud: Latitud de ubicación del centro poblado\n",
    "- NombreDistrito: Nombre del distrito del que hace parte el centro poblado\n",
    "- Municipio/AreasNoMunicipalizadas(ANM): Indicador de si es municipio o area no municipalizada\n",
    "- NombreAreaMetropolitana: Nombre del area metropolitana del centro poblado"
   ]
  },
  {
   "cell_type": "code",
   "execution_count": 29,
   "id": "08808e6c-d1d0-4452-8386-555ff9ffc429",
   "metadata": {
    "id": "HtrqSl0zPn3T",
    "outputId": "c20c03fc-68d4-4d2e-eb8f-91a06cdd3174"
   },
   "outputs": [
    {
     "name": "stdout",
     "output_type": "stream",
     "text": [
      "+----+---+------+-------+-----------+----------+-------+--------+------+------+--------------+---------+-----------+\n",
      "| ano|mes|origen|destino|tipo_equipo|tipo_vuelo|trafico| empresa|vuelos|sillas|carga_ofrecida|pasajeros|carga_bordo|\n",
      "+----+---+------+-------+-----------+----------+-------+--------+------+------+--------------+---------+-----------+\n",
      "|2004|  1|   bog|    mia|       B752|         R|      I|AMERICAN|     0|     0|           0.0|        0|        0.0|\n",
      "|2004|  7|   bog|    mia|       B752|         R|      I|AMERICAN|    62| 11656|      327236.0|     7864|   118443.0|\n",
      "|2004|  9|   bog|    mia|       B752|         R|      I|AMERICAN|    32|  6016|      168896.0|     4283|    73896.0|\n",
      "|2004|  3|   bog|    mia|       B763|         R|      I|AMERICAN|    31|  6572|      351540.0|     3473|   203724.0|\n",
      "|2004|  7|   bog|    mia|       B763|         R|      I|AMERICAN|    31|  6572|      351540.0|     4994|   219965.0|\n",
      "|2004|  9|   bog|    mia|       B763|         R|      I|AMERICAN|    27|  5724|      306180.0|     3596|   151579.0|\n",
      "|2004|  3|   clo|    mia|       B752|         R|      I|AMERICAN|    31|  5456|      163618.0|     5452|   106940.0|\n",
      "+----+---+------+-------+-----------+----------+-------+--------+------+------+--------------+---------+-----------+\n",
      "only showing top 7 rows\n",
      "\n"
     ]
    }
   ],
   "source": [
    "vuelos.show(7)"
   ]
  },
  {
   "cell_type": "markdown",
   "id": "6f3a6d5d-50c4-48af-8964-9c797c0d7289",
   "metadata": {
    "id": "qxN27II0Pn3T",
    "tags": [],
    "toc-hr-collapsed": true
   },
   "source": [
    "Para la tabla de vuelos, se tiene la siguiente información relacionada, detallando el nombre de la columna y su correspondiente descripción:\n",
    "- ano: Año en el cual se registró el dato\n",
    "- mes: Mes en el cual se registró el dato\n",
    "- origen: Sigla IATA del aeropuerto donde se origina el trayecto\n",
    "- destino: Sigla IATA del aeropuerto donde termina el trayecto\n",
    "- tipo_equipo: Código del tipo de avión utilizado para realizar el trayecto\n",
    "- tipo_vuelo: Tipo de operación realizada entre ciudades (e.g., R, T)\n",
    "- trafico: Tipo de tráfico (e.g., Internacional, nacional)\n",
    "- empresa: Nombre comercial de la empresa (Aerolínea)\n",
    "- vuelos: Número de vuelos realizados en el mes especificado\n",
    "- sillas: Número total de asientos de pasajeros disponibles para la venta\n",
    "- carga_ofrecida: Capacidad de carga total disponible para el transporte de carga y correo\n",
    "- pasajeros: Número de pasajeros cuyo transporte le genera una remuneración comercial a la empresa\n",
    "- carga_bordo: Carga total transportada que le genera una remuneración comercial a la empresa"
   ]
  },
  {
   "cell_type": "code",
   "execution_count": 30,
   "id": "1d992eda-fa00-415d-a904-30377f5666df",
   "metadata": {
    "id": "HtrqSl0zPn3T",
    "outputId": "c20c03fc-68d4-4d2e-eb8f-91a06cdd3174"
   },
   "outputs": [
    {
     "name": "stdout",
     "output_type": "stream",
     "text": [
      "+----------------------------+--------------------+-------+--------+--------------------+--------------------+--------+--------+--------------------+--------+\n",
      "|CodigoDepartamento(DIVIPOLA)|       DEPARTAMENTOS|   2006|    2007|                2008|                2010|    2011|    2012|                2013|    2014|\n",
      "+----------------------------+--------------------+-------+--------+--------------------+--------------------+--------+--------+--------------------+--------+\n",
      "|                          41|                uila|6895658| 7441987|   8686536.103258422|    9548624.85406653|11113741|11400169|1.1967750469189592E7|12755711|\n",
      "|                          18|            CaquetÃ¡|3575615| 4060678|   4519574.129383702|   5048396.606737779| 5516404| 6476778|    7161524.44383983| 7990249|\n",
      "|                           8|          AtlÃ¡ntico|7194985| 8299825|   8858405.054387597|   9481200.322350295|10288314|11421539|1.2434114309437651E7|13681473|\n",
      "|                          63|            QuindiÃ³|6350376| 6908084|  7449000.1041983375|   8274578.662692363| 9183441|10067779|1.0457303722966803E7|10917328|\n",
      "|                          76|            el valle|9364012|10568989|1.1278072598064829E7|1.2538425837418156E7|13461456|14347570|1.5262933073640093E7|16490649|\n",
      "|                          20|            El Cesar|7684507| 8146177|   9845956.914284049| 1.060369244638335E7|12692156|13176012|1.2414299180017455E7|12460838|\n",
      "|                          15|boyacaaaaaaaaaaaa...|8046451| 9523137|1.1059677686639624E7|1.2422311925286561E7|14744101|15572164| 1.640181715011036E7|17552741|\n",
      "+----------------------------+--------------------+-------+--------+--------------------+--------------------+--------+--------+--------------------+--------+\n",
      "only showing top 7 rows\n",
      "\n"
     ]
    }
   ],
   "source": [
    "pib.show(7)"
   ]
  },
  {
   "cell_type": "markdown",
   "id": "d4481405-f1d9-4139-9697-86d258d4078c",
   "metadata": {
    "id": "qxN27II0Pn3T",
    "tags": [],
    "toc-hr-collapsed": true
   },
   "source": [
    "Para la tabla de pib, se tiene la siguiente información relacionada, detallando el nombre de la columna y su correspondiente descripción:\n",
    "- CodigoDepartamento(DIVIPOLA): Identificador del departamento\n",
    "- DEPARTAMENTOS: Nombre del departamento\n",
    "- 2006: Valor de PIB para el 2006 de cada departamento\n",
    "- 2007: Valor de PIB para el 2007 de cada departamento\n",
    "- 2008: Valor de PIB para el 2008 de cada departamento\n",
    "- 2009: Valor de PIB para el 2009 de cada departamento\n",
    "- 2010: Valor de PIB para el 2010 de cada departamento\n",
    "- 2011: Valor de PIB para el 2011 de cada departamento\n",
    "- 2012: Valor de PIB para el 2012 de cada departamento\n",
    "- 2013: Valor de PIB para el 2013 de cada departamento\n",
    "- 2014: Valor de PIB para el 2014 de cada departamento\n",
    "- 2015: Valor de PIB para el 2015 de cada departamento\n",
    "- 2016: Valor de PIB para el 2016 de cada departamento\n",
    "- 2017: Valor de PIB para el 2017 de cada departamento\n",
    "- 2005: Valor de PIB para el 2005 de cada departamento\n",
    "\n",
    "Acá se puede observar que la columna *CodigoDepartamento(DIVIPOLA)* es un identificador que corresponde a una llave foránea de la tabla divipola."
   ]
  },
  {
   "cell_type": "code",
   "execution_count": 31,
   "id": "a3ca0578-074c-4f02-8b45-641d0193ee62",
   "metadata": {
    "id": "HtrqSl0zPn3T",
    "outputId": "c20c03fc-68d4-4d2e-eb8f-91a06cdd3174"
   },
   "outputs": [
    {
     "name": "stdout",
     "output_type": "stream",
     "text": [
      "+----+---+---------+-------------+-------------+\n",
      "|Anio| DP|    DPNOM|Total Hombres|Total Mujeres|\n",
      "+----+---+---------+-------------+-------------+\n",
      "|2005| 25|antioquia|      2630787|      2830056|\n",
      "|2006| 25|antioquia|      2663957|      2864164|\n",
      "|2007| 25|antioquia|      2697202|      2897978|\n",
      "|2008| 25|antioquia|      2730505|      2931594|\n",
      "|2009| 25|antioquia|      2764235|      2966142|\n",
      "|2010| 25|antioquia|      2798757|      3001403|\n",
      "|2011| 25|antioquia|      2833245|      3035946|\n",
      "+----+---+---------+-------------+-------------+\n",
      "only showing top 7 rows\n",
      "\n"
     ]
    }
   ],
   "source": [
    "proyecciones.show(7)"
   ]
  },
  {
   "cell_type": "markdown",
   "id": "a011f80d-5f5e-4410-a425-371643bfef93",
   "metadata": {
    "id": "qxN27II0Pn3T",
    "tags": [],
    "toc-hr-collapsed": true
   },
   "source": [
    "Para la tabla de proyecciones, se tiene la siguiente información relacionada, detallando el nombre de la columna y su correspondiente descripción:\n",
    "- AÑO: Año de la proyección\n",
    "- DP: Identificador del departamento\n",
    "- DPNOM: Nombre del departamento\n",
    "- AREA GEOGRAFICA: Indicador de si es municipio, centro poblado o el total\n",
    "- Hombres_i: Valor proyectado total de hombres de edad i en ese año y departamento\n",
    "- Mujeres_i: Valor proyectado total de mujeres de edad i en ese año y departamento\n",
    "- Total_i: Valor proyectado total de hombres y mujeres de edad i en ese año y departamento\n",
    "- Total Hombres: Valor proyectado total de hombres en ese año y departamento\n",
    "- Total Mujeres: Valor proyectado total de mujeres en ese año y departamento\n",
    "- Total: Valor proyectado total de hombres y mujeres en ese año y departamento"
   ]
  },
  {
   "cell_type": "markdown",
   "id": "c2aebe81-4d4b-4d2b-a92f-4d676072fd3d",
   "metadata": {
    "id": "qxN27II0Pn3T",
    "tags": [],
    "toc-hr-collapsed": true
   },
   "source": [
    "Ahora bien, a continuación se tienen los esquemas de los DataFrame de cada tabla, donde se incluye los nombres de las columnas asi como el tipo de dato."
   ]
  },
  {
   "cell_type": "code",
   "execution_count": 32,
   "id": "c8a3e260-f6ad-40d1-bdda-22660cb341b2",
   "metadata": {},
   "outputs": [
    {
     "data": {
      "text/plain": [
       "StructType(List(StructField(sigla,StringType,true),StructField(iata,StringType,true),StructField(nombre,StringType,true),StructField(municipio,StringType,true),StructField(departamento,StringType,true),StructField(categoria,StringType,true),StructField(latitud,IntegerType,true),StructField(longitud,StringType,true),StructField(propietario,StringType,true),StructField(explotador,StringType,true),StructField(longitud_pista,IntegerType,true),StructField(ancho_pista,DoubleType,true),StructField(pbmo,StringType,true),StructField(orientacion,StringType,true),StructField(elevacion,StringType,true),StructField(resolucion,StringType,true),StructField(fecha_construccion,StringType,true),StructField(fecha_vigencia,StringType,true),StructField(clase,StringType,true),StructField(tipo,StringType,true),StructField(numero_vuelos_origen,DoubleType,true),StructField(gcd_departamento,IntegerType,true),StructField(gcd_municipio,IntegerType,true)))"
      ]
     },
     "execution_count": 32,
     "metadata": {},
     "output_type": "execute_result"
    }
   ],
   "source": [
    "aeropuertos.schema"
   ]
  },
  {
   "cell_type": "code",
   "execution_count": 33,
   "id": "a531f8d4-8d45-494e-99b9-7ca5741990c9",
   "metadata": {},
   "outputs": [
    {
     "data": {
      "text/plain": [
       "StructType(List(StructField(Código Departamento,IntegerType,true),StructField(Código Municipio,IntegerType,true),StructField(Código Centro Poblado,IntegerType,true),StructField(Nombre Departamento,StringType,true),StructField(Nombre Municipio,StringType,true),StructField(Nombre Centro Poblado,StringType,true),StructField(Tipo Centro Poblado,StringType,true),StructField(Longitud,DoubleType,true),StructField(Latitud,DoubleType,true),StructField(Nombre Distrito,StringType,true),StructField(Municipio/Áreas No Municipalizadas (ANM),StringType,true),StructField(Nombre Área Metropolitana,StringType,true)))"
      ]
     },
     "execution_count": 33,
     "metadata": {},
     "output_type": "execute_result"
    }
   ],
   "source": [
    "divipola.schema"
   ]
  },
  {
   "cell_type": "code",
   "execution_count": 34,
   "id": "a41e627c-d7b5-4d5c-adbe-26cee3f12760",
   "metadata": {},
   "outputs": [
    {
     "data": {
      "text/plain": [
       "StructType(List(StructField(ano,IntegerType,true),StructField(mes,StringType,true),StructField(origen,StringType,true),StructField(destino,StringType,true),StructField(tipo_equipo,StringType,true),StructField(tipo_vuelo,StringType,true),StructField(trafico,StringType,true),StructField(empresa,StringType,true),StructField(vuelos,IntegerType,true),StructField(sillas,IntegerType,true),StructField(carga_ofrecida,DoubleType,true),StructField(pasajeros,IntegerType,true),StructField(carga_bordo,DoubleType,true)))"
      ]
     },
     "execution_count": 34,
     "metadata": {},
     "output_type": "execute_result"
    }
   ],
   "source": [
    "vuelos.schema"
   ]
  },
  {
   "cell_type": "code",
   "execution_count": 35,
   "id": "cad8a50c-6475-4a4f-ae82-f7e253e73635",
   "metadata": {},
   "outputs": [
    {
     "data": {
      "text/plain": [
       "StructType(List(StructField(CodigoDepartamento(DIVIPOLA),LongType,true),StructField(DEPARTAMENTOS,StringType,true),StructField(2006,LongType,true),StructField(2007,LongType,true),StructField(2008,DoubleType,true),StructField(2010,DoubleType,true),StructField(2011,LongType,true),StructField(2012,LongType,true),StructField(2013,DoubleType,true),StructField(2014,LongType,true)))"
      ]
     },
     "execution_count": 35,
     "metadata": {},
     "output_type": "execute_result"
    }
   ],
   "source": [
    "pib.schema"
   ]
  },
  {
   "cell_type": "code",
   "execution_count": 36,
   "id": "351dec30-9086-4efc-9d87-05beb60a1699",
   "metadata": {},
   "outputs": [
    {
     "data": {
      "text/plain": [
       "StructType(List(StructField(Anio,IntegerType,true),StructField(DP,IntegerType,true),StructField(DPNOM,StringType,true),StructField(Total Hombres,IntegerType,true),StructField(Total Mujeres,IntegerType,true)))"
      ]
     },
     "execution_count": 36,
     "metadata": {},
     "output_type": "execute_result"
    }
   ],
   "source": [
    "proyecciones.schema"
   ]
  },
  {
   "cell_type": "markdown",
   "id": "b458b4b3-ec36-4392-b898-e09f85065654",
   "metadata": {},
   "source": [
    "**¿Qué es una fila de cada fuente compartida?** \n",
    "Con estos análisis, y para responder a la pregunta de \"Significado de una fila\", se puede concluir que cada fila de de cada tabla representa cada información que se tiene de su correspondiente tabla, el cual indica por ejemplo que para la tabla aeropuerto se tiene su nombre, su sigla de referencia a ser conocido, el lugar geaográfico en donde se encuentra, las dimensiones, y toda la información relevante; para la tabla divipola se tiene los códigos relevantes de identificación, el nombre del departamento, los tamaños y nombre del lugar donde se encuentra ubicado, entre otros; para la tabla de PIB se tiene el identificador del departamento y su nombre, como también la información del PIB para cada año entre 2005 y 2017 por cada departamento; para la tabla vuelos, se tiene la información de fecha de cada vuelo, el tipo, el origen y destino del vuelo, la información del avion en el sentido de número de sillas, pasajeros y carga, el tráfico, entre otra información relevante; y finalmente para la tabla proyecciones, se tiene el año de la proyección, el identificador del departamento, el nombre y su indicador de si es municipio, centro poblado o total, la información demográfica proyectada para hombres, mujeres y demás información relevante. Esto es entonces, toda la representación de la información que se tiene para poder indagar y dar un buen seguimiento a toda la parte poblacional.\n",
    "\n",
    "Una vez entendida en términos generales la estructura de los datos, es necesario conocer la cantidad de datos disponibles, esto se hace con count() y con columns, que retornan el número de filas y número de columnas respectivamente."
   ]
  },
  {
   "cell_type": "code",
   "execution_count": 37,
   "id": "0aa5776d-bca7-4c61-809a-126b9332708b",
   "metadata": {},
   "outputs": [
    {
     "name": "stdout",
     "output_type": "stream",
     "text": [
      "(547, 23)\n"
     ]
    }
   ],
   "source": [
    "print((aeropuertos.count(), len(aeropuertos.columns)))"
   ]
  },
  {
   "cell_type": "code",
   "execution_count": 38,
   "id": "17a194bb-5beb-4865-90f9-0e2d0bacd15f",
   "metadata": {},
   "outputs": [
    {
     "name": "stdout",
     "output_type": "stream",
     "text": [
      "(9508, 12)\n"
     ]
    }
   ],
   "source": [
    "print((divipola.count(), len(divipola.columns)))"
   ]
  },
  {
   "cell_type": "code",
   "execution_count": 39,
   "id": "eb72aa8e-658c-45de-afb2-1ac6e8e382d5",
   "metadata": {},
   "outputs": [
    {
     "name": "stdout",
     "output_type": "stream",
     "text": [
      "(467990, 13)\n"
     ]
    }
   ],
   "source": [
    "print((vuelos.count(), len(vuelos.columns)))"
   ]
  },
  {
   "cell_type": "code",
   "execution_count": 40,
   "id": "ab6e1a83-5a6b-46c3-aaa3-035a33d086af",
   "metadata": {},
   "outputs": [
    {
     "name": "stdout",
     "output_type": "stream",
     "text": [
      "(27, 10)\n"
     ]
    }
   ],
   "source": [
    "print((pib.count(), len(pib.columns)))"
   ]
  },
  {
   "cell_type": "code",
   "execution_count": 41,
   "id": "e2e94b20-baef-4eb8-b335-b16a4505a629",
   "metadata": {},
   "outputs": [
    {
     "name": "stdout",
     "output_type": "stream",
     "text": [
      "(330, 5)\n"
     ]
    }
   ],
   "source": [
    "print((proyecciones.count(), len(proyecciones.columns)))"
   ]
  },
  {
   "cell_type": "markdown",
   "id": "895b3f0b-9015-4869-992b-1dbac338a4ac",
   "metadata": {},
   "source": [
    "**¿Cuantos datos nos compartieron para el proyecto?**\n",
    "Para responder a la pregunta de \"Cantidad de registros y cantidad de columnas por tipo de dato\", se tiene que en total de cantidad de registros, hay 547 aeropuertos, 9.508 divipola, 467.990 vuelos, 27 PIB y 330 proyecciones. \n",
    "\n",
    "Ahora bien, para las variables que son las columnas por tipo de dato, se tiene que hay 23 variables que componen la tabla de aeropuertosCopia, dentro de las cuales se tiene 4 de tipo numérico, 2 de tipo numérico con decimal y 17 de tipo cadena de caracteres; 12 variables que componen la tabla de divipolaCopia, dentro de las cuales se tiene 3 de tipo numérico, 2 de tipo numérico con decimal y 7 de tipo cadena de caracteres; 13 variables que componen la tabla de vuelosCopia2, dentro de las cuales se tiene 4 de tipo numérico, 2 de tipo numérico con decimal y 7 de tipo cadena de caracteres; 10 variables que componen la tabla de PIBCopia, dentro de las cuales se tiene 6 de tipo numérico, 3 de tipo numérico con decimal y 1 de tipo cadena de caracteres; y 5 variables que componen la tabla de proyeccionesCopia, dentro de las cuales se tiene 4 de tipo numérico, 0 de tipo numérico con decimal y 1 de tipo cadena de caracteres."
   ]
  },
  {
   "cell_type": "markdown",
   "id": "9542010a-7db4-4398-a3d4-3c6bf23def6e",
   "metadata": {},
   "source": [
    "### Revisión de reglas de negocio\n",
    "Primero se confirman las reglas proporcionadas por el negocio"
   ]
  },
  {
   "cell_type": "markdown",
   "id": "d03548e9-1c66-40b0-aa4c-751cc9725fd6",
   "metadata": {
    "toc-hr-collapsed": true
   },
   "source": [
    "#### Regla 1: La cantidad máxima de productos movidos es 50 millones por transacción"
   ]
  },
  {
   "cell_type": "code",
   "execution_count": 13,
   "id": "09285f0f-13fa-4efe-86b3-f90e4c5ca4b7",
   "metadata": {},
   "outputs": [
    {
     "name": "stdout",
     "output_type": "stream",
     "text": [
      "67368.0\n"
     ]
    }
   ],
   "source": [
    "print(movimientos.agg(spark_max(\"Cantidad\")).collect()[0][0])"
   ]
  },
  {
   "cell_type": "markdown",
   "id": "4fd02687-e1dc-4bc5-9ad2-be6be1c60d51",
   "metadata": {},
   "source": [
    "El análisis confirma que la cantidad máxima de productos movidos por transacción registrada en los datos es de 67,368, lo cual está dentro del límite aceptable de 50 millones. Por lo tanto, se puede concluir que los datos cumplen con esta regla de negocio específica. Este resultado contribuye a la confianza en la integridad y la calidad de los datos de movimientos de inventario de WWImporters."
   ]
  },
  {
   "cell_type": "markdown",
   "id": "734fd643-b224-4867-b4b1-bea5d65fbd54",
   "metadata": {
    "toc-hr-collapsed": true
   },
   "source": [
    "#### Regla 2: Existen 236.668 movimientos de producto realizados desde eñ año 2013"
   ]
  },
  {
   "cell_type": "code",
   "execution_count": 14,
   "id": "593d9524-b620-4520-b123-486b630f156a",
   "metadata": {},
   "outputs": [
    {
     "name": "stdout",
     "output_type": "stream",
     "text": [
      "204292\n",
      "2013\n"
     ]
    }
   ],
   "source": [
    "spark.conf.set(\"spark.sql.legacy.timeParserPolicy\", \"LEGACY\")\n",
    "# Extraer el año considerando teniendo en cuenta que se tien la fecha en multiples formatos\n",
    "movimientosAnio = movimientos.withColumn(\n",
    "    \"AnioTransaccion\",\n",
    "    when(col(\"FechaTransaccion\").rlike(\"^[A-Za-z]{3} \\\\d{2},\\\\d{4}$\"), substring(col(\"FechaTransaccion\"), -4, 4).cast(\"int\"))\n",
    "    .otherwise(substring(col(\"FechaTransaccion\"), 1, 4).cast(\"int\"))\n",
    ")\n",
    "# Filtrar los movimientos realizados desde 2013\n",
    "movimientos_desde_2013 = movimientosAnio.filter(col(\"AnioTransaccion\") >= 2013)\n",
    "cantidad_movimientos_desde_2013 = movimientos_desde_2013.count()\n",
    "print(cantidad_movimientos_desde_2013)\n",
    "print(movimientosAnio.agg(min(\"AnioTransaccion\")).collect()[0][0])"
   ]
  },
  {
   "cell_type": "markdown",
   "id": "a1744ff0-f8a0-4473-910d-6b439a1510f0",
   "metadata": {},
   "source": [
    "El análisis muestra que si hay movimientos registrados desde el año 2013 con un total de 204,292 movimientos, lo cual no coincide con los 236,668 movimientos indicados por el negocio. Esta discrepancia puede deberse a varias razones, como errores en los datos proporcionados, diferencias en la definición de lo que constituye un movimiento válido, es se  hace evidente problemas en la calidad de datos (fechas mal formateadas o registros duplicados)"
   ]
  },
  {
   "cell_type": "code",
   "execution_count": 40,
   "id": "9984c45f-39a2-436f-aa42-84c9dc22db66",
   "metadata": {},
   "outputs": [
    {
     "name": "stdout",
     "output_type": "stream",
     "text": [
      "+---------------------+----------+--------------------+-----+\n",
      "|TransaccionProductoID|ProductoID|    FechaTransaccion|count|\n",
      "+---------------------+----------+--------------------+-----+\n",
      "|               280240|       212|2015-11-18 12:00:...|    2|\n",
      "|               284037|       210|2015-12-01 12:00:...|    2|\n",
      "|               183029|       157|2014-12-19 12:00:...|    2|\n",
      "|               228081|       168|2015-05-25 12:00:...|    2|\n",
      "|               235099|       104|2015-06-16 12:00:...|    2|\n",
      "|               144748|        60|2014-07-25 12:00:...|    2|\n",
      "|               230367|        29|2015-06-01 12:00:...|    2|\n",
      "|               262693|       105|2015-09-18 12:00:...|    2|\n",
      "|               279132|        50|2015-11-13 12:00:...|    2|\n",
      "|               322005|        73|2016-04-14 12:00:...|    2|\n",
      "|               150870|        39|2014-08-18 12:00:...|    2|\n",
      "|               204830|       131|2015-03-09 12:00:...|    2|\n",
      "|               324226|       109|2016-04-21 12:00:...|    2|\n",
      "|               128040|       103|2014-05-29 12:00:...|    2|\n",
      "|               225558|       112|2015-05-16 12:00:...|    2|\n",
      "|               238641|        46|2015-06-29 12:00:...|    2|\n",
      "|               192480|       133|2015-01-23 12:00:...|    2|\n",
      "|               196208|       108|2015-02-05 12:00:...|    2|\n",
      "|               270565|        54|2015-10-15 12:00:...|    2|\n",
      "|               128390|        72|2014-05-30 12:00:...|    2|\n",
      "+---------------------+----------+--------------------+-----+\n",
      "only showing top 20 rows\n",
      "\n",
      "30633\n"
     ]
    }
   ],
   "source": [
    "# Columnas clave para identificar duplicados\n",
    "key_columns = [\"TransaccionProductoID\", \"ProductoID\", \"FechaTransaccion\"]\n",
    "# Contar las ocurrencias de cada combinación de las columnas clave\n",
    "duplicates = movimientos.groupBy(key_columns).count()\n",
    "# Registros que tienen más de una ocurrencia\n",
    "duplicates = duplicates.filter(col(\"count\") > 1)\n",
    "duplicates.show()\n",
    "print(duplicates.count())"
   ]
  },
  {
   "cell_type": "markdown",
   "id": "bf5b1015-2c41-4dd3-84a2-cf9614476a50",
   "metadata": {},
   "source": [
    "El negocio esperaba un total de 236,668 movimientos desde 2013, mientras que el análisis muestra 204,292 movimientos únicos. La diferencia de 32,376 movimientos podría estar explicada parcialmente por los 30,633 duplicados, aunque no completamente. Además de los duplicados, puede haber otros problemas en los datos, como registros faltantes o mal categorizados.\n",
    "Se informará al negocio sobre las incosistencias en los datos y estandarizaremos los formatos de fecha."
   ]
  },
  {
   "cell_type": "markdown",
   "id": "bc282f06-8376-45a5-a9b6-31d328b9057b",
   "metadata": {
    "toc-hr-collapsed": true
   },
   "source": [
    "#### Regla 3: Los movimientos están relacionados con 228.265 clientes"
   ]
  },
  {
   "cell_type": "code",
   "execution_count": 16,
   "id": "f33adb8c-2d7e-42c0-874f-22f4881f801b",
   "metadata": {},
   "outputs": [
    {
     "name": "stdout",
     "output_type": "stream",
     "text": [
      "La cantidad de clientes únicos relacionados con los movimientos es: 664\n"
     ]
    }
   ],
   "source": [
    "clientes_unicos = movimientos.select(\"ClienteID\").distinct().count()\n",
    "print(f\"La cantidad de clientes únicos relacionados con los movimientos es: {clientes_unicos}\")"
   ]
  },
  {
   "cell_type": "markdown",
   "id": "392b230f-3638-4041-a309-1228f83d4a49",
   "metadata": {},
   "source": [
    "La discrepancia significativa entre los 664 clientes únicos encontrados y los 228,265 clientes mencionados por el negocio indica la necesidad de una revisión exhaustiva y posible corrección de los datos."
   ]
  },
  {
   "cell_type": "code",
   "execution_count": 17,
   "id": "48c68617-8468-4fa7-9233-81fe518d374d",
   "metadata": {},
   "outputs": [
    {
     "name": "stdout",
     "output_type": "stream",
     "text": [
      "0\n",
      "7156\n"
     ]
    }
   ],
   "source": [
    "print(movimientos.filter(col(\"ClienteID\").isNull() | (col(\"ClienteID\") == \"\")).count())\n",
    "print(movimientos.filter(col(\"ClienteID\") == 0).count())"
   ]
  },
  {
   "cell_type": "markdown",
   "id": "65f7ed94-eb50-4c13-9529-bbbe2d5831e0",
   "metadata": {},
   "source": [
    "La presencia de 7,156 movimientos con ClienteID igual a 0 indica que estos registros no están correctamente asociados a clientes específicos, donde 0 podría estar siendo usado como un valor predeterminado o marcador de datos faltantes. Debe ser aclarado por la empresa para asegurar la precisión en el análisis de los movimientos y el comportamiento de los clientes."
   ]
  },
  {
   "cell_type": "markdown",
   "id": "2be95ca7-9d51-4b42-ae92-e05036a69bb8",
   "metadata": {
    "toc-hr-collapsed": true
   },
   "source": [
    "#### Regla 4: El formato de fechas manejado es YYYY-MM-DD HH:MM:SS"
   ]
  },
  {
   "cell_type": "code",
   "execution_count": 18,
   "id": "2c5b442a-a4b0-4b58-b8b5-842a9f84c88b",
   "metadata": {},
   "outputs": [
    {
     "name": "stdout",
     "output_type": "stream",
     "text": [
      "Número total de ordenes: 204292, número de ordenes con formato correcto: 140038\n"
     ]
    }
   ],
   "source": [
    "regex = \"[0-2]\\d{3}-(0[1-9]|1[0-2])-(0[1-9]|[1-2][0-9]|3[0-1])\"\n",
    "cumplenFormato = movimientos.filter(movimientos[\"FechaTransaccion\"].rlike(regex))\n",
    "print(\"Número total de ordenes: \"+str(movimientos.count())+\", número de ordenes con formato correcto: \"+str(cumplenFormato.count()))"
   ]
  },
  {
   "cell_type": "markdown",
   "id": "74d993b6-a055-46e1-bc61-b74655e7e1b9",
   "metadata": {},
   "source": [
    "Registros que no cumplen con el formato correcto"
   ]
  },
  {
   "cell_type": "code",
   "execution_count": 19,
   "id": "91551f0b-5a25-43ef-be26-c6dfc57636c2",
   "metadata": {},
   "outputs": [
    {
     "name": "stdout",
     "output_type": "stream",
     "text": [
      "+----------------+\n",
      "|FechaTransaccion|\n",
      "+----------------+\n",
      "|     Apr 25,2014|\n",
      "|     Dec 10,2015|\n",
      "|     Dec 04,2015|\n",
      "|     Dec 23,2015|\n",
      "|     Jul 27,2015|\n",
      "|     Sep 15,2014|\n",
      "|     Aug 04,2015|\n",
      "|     Feb 23,2015|\n",
      "|     May 01,2015|\n",
      "|     Jan 08,2016|\n",
      "|     Mar 26,2014|\n",
      "|     Jul 31,2015|\n",
      "|     Sep 02,2014|\n",
      "|     Mar 15,2016|\n",
      "|     May 28,2016|\n",
      "|     Sep 09,2015|\n",
      "|     May 23,2014|\n",
      "|     Aug 20,2014|\n",
      "|     Jan 21,2015|\n",
      "|     Dec 29,2015|\n",
      "+----------------+\n",
      "only showing top 20 rows\n",
      "\n"
     ]
    },
    {
     "data": {
      "text/plain": [
       "(64254, None)"
      ]
     },
     "execution_count": 19,
     "metadata": {},
     "output_type": "execute_result"
    }
   ],
   "source": [
    "noCumplenFormato = movimientos.filter(~movimientos[\"FechaTransaccion\"].rlike(regex))\n",
    "noCumplenFormato.count(), noCumplenFormato.select(col(\"FechaTransaccion\")).show()"
   ]
  },
  {
   "cell_type": "markdown",
   "id": "b58d3798-f5a5-4de8-8e30-65c2117827c2",
   "metadata": {
    "toc-hr-collapsed": true
   },
   "source": [
    "#### Regla 5: Actualmente tenemos 13 proveedores"
   ]
  },
  {
   "cell_type": "code",
   "execution_count": 20,
   "id": "72394287-6468-48b2-af73-6e4178704847",
   "metadata": {},
   "outputs": [
    {
     "name": "stdout",
     "output_type": "stream",
     "text": [
      "4\n"
     ]
    }
   ],
   "source": [
    "print(movimientos.select(\"ProveedorID\").distinct().count())"
   ]
  },
  {
   "cell_type": "markdown",
   "id": "4c4fbbc5-852a-471e-aa5a-820474d247f0",
   "metadata": {
    "toc-hr-collapsed": true
   },
   "source": [
    "### Análisis descriptivo"
   ]
  },
  {
   "cell_type": "markdown",
   "id": "fe9bbaec-47cd-45b0-9c62-4d38182e5d4e",
   "metadata": {
    "toc-hr-collapsed": true
   },
   "source": [
    "Una vez cubierto lo básico de reglas de negocio, pasamos a perfilamiento estadístico. Para ver estadísticos generales como conteo, mínimo, máximo, desviación estandar y percentiles. A continuación, se hace el análisis para cada tabla."
   ]
  },
  {
   "cell_type": "code",
   "execution_count": 42,
   "id": "b68dfe69-08ee-469a-ae94-ed18cc36bd1b",
   "metadata": {},
   "outputs": [
    {
     "name": "stdout",
     "output_type": "stream",
     "text": [
      "+-------+-----+----+--------+---------+------------+----------+-------+------------------+--------------------+-------------+--------------+------------------+------------------+-----------+------------------+----------+------------------+--------------+------------------+--------+--------------------+------------------+-----------------+\n",
      "|summary|sigla|iata|  nombre|municipio|departamento| categoria|latitud|          longitud|         propietario|   explotador|longitud_pista|       ancho_pista|              pbmo|orientacion|         elevacion|resolucion|fecha_construccion|fecha_vigencia|             clase|    tipo|numero_vuelos_origen|  gcd_departamento|    gcd_municipio|\n",
      "+-------+-----+----+--------+---------+------------+----------+-------+------------------+--------------------+-------------+--------------+------------------+------------------+-----------+------------------+----------+------------------+--------------+------------------+--------+--------------------+------------------+-----------------+\n",
      "|  count|  547| 547|     547|      547|         547|       547|    547|               547|                 547|          547|           547|               547|               547|        547|               547|       547|               547|           547|               547|     547|                 547|               547|              547|\n",
      "|   mean| null|null|    null|     null|        null|      null|  500.0|-73.07385328255542|                null|         null|         250.0|6.7714808043875685|4503.7223796033995|       null|             953.5|      null|              null|          null|               3.5|    null|   -1495.54844606947|62.029250457038394|62342.82998171847|\n",
      "| stddev| null|null|    null|     null|        null|      null|    0.0|  2.06994564160601|                null|         null|           0.0|2.8868893676039455| 4660.122309527231|       null|1196.5364393186208|      null|              null|          null|0.5773502691896257|    null|  46097.478663370515| 28.13857428200601|28082.87921613649|\n",
      "|    min|  4jc|    |acapulco|  AcandÃ­|    amazonas|          |    500|                  |                    |             |           250|               0.0|                  |           |                  |          |                  |              |                  |        |          -1028334.0|                 5|             5001|\n",
      "|    25%| null|null|    null|     null|        null|      null|    500|          -74.8894|                null|         null|           250|               8.0|            2000.0|       null|             419.0|      null|              null|          null|               3.0|    null|               -12.0|                47|            47058|\n",
      "|    50%| null|null|    null|     null|        null|      null|    500|           -72.978|                null|         null|           250|               8.0|            3000.0|       null|             620.0|      null|              null|          null|               3.0|    null|                 0.0|                73|            73001|\n",
      "|    75%| null|null|    null|     null|        null|      null|    500|          -71.6584|                null|         null|           250|               8.0|            5000.0|       null|             865.0|      null|              null|          null|               4.0|    null|                 6.0|                85|            85230|\n",
      "|    max|  yyp| VVC|yavarate|   Zarzal|     vichada|AerÃ³dromo|    500|           -78.765|ZORROZA Y SUAREZ ...|UNIPALMA S.A.|           250|               8.0|            7250.0|           |             991.0| 13268,000|        2014-12-15|    2018-06-11|                UL|PÃºblico|            207439.0|                99|            99773|\n",
      "+-------+-----+----+--------+---------+------------+----------+-------+------------------+--------------------+-------------+--------------+------------------+------------------+-----------+------------------+----------+------------------+--------------+------------------+--------+--------------------+------------------+-----------------+\n",
      "\n"
     ]
    }
   ],
   "source": [
    "aeropuertos.summary().show()"
   ]
  },
  {
   "cell_type": "markdown",
   "id": "f8cac14c-e560-4861-990b-f7cf91f0d342",
   "metadata": {},
   "source": [
    "En la tabla anterior podemos observar datos estadísticos generales como el conteo, mínimo, máximo, desviación estándar y los percentiles de 25, 50 y 75 porciento. Dentro de esta tabla, se puede analizar que:\n",
    "- Algunos valores vienen vacíos o nulos, lo que puede inferir que dichos campos no son obligatorios.\n",
    "\n",
    "De igual forma, y para responder a la pregunta de \"Estadisticas descriptivas por columna (numérica, categórica, fechas)\", podemos observar estadísticas de orden, dentro de las cuales se tiene que:\n",
    "- El valor promedio de la latitud es 500, con una desviación estándar de 0, lo que indica que todos los valores son iguales. \n",
    "- La longitud de la pista en promedio mide 250, y su desviación estándar también es 0, lo que indica que todos los valores son iguales.\n",
    "- Las medidas de ancho de la pista es cambiante, lo que indica que no todas miden igual, por lo que hay una desviación estándar de 2.88 y una media de 6.77.\n",
    "- Se tiene un promedio de -1.495 vuelos de origen, y una desviación estándar de 46.097, lo que indica una gran variabilidad en el número de vuelos de origen.\n",
    "- Los percentiles indican que hay aeropuertos que tienen vuelos entre -12 y 6, lo que indica que hay valores extremos que influyen en la media y en la desviación estándar.\n",
    "- Hay un promedio de 62.03 en los códigos de departamento y una desviación estándar de 28.13.\n",
    "- No se tiene una buena consistencia de los datos, dado que existen valores iguales en todas las filas, lo que puede ser un error o falta de información u objetividad.\n",
    "\n",
    "También, mediante gráficas podemos observar la distribución de ciertos valores. Por ejemplo, a continuación, se muestra que para el ancho de la pista se tiene que la mayoría de las pistas miden 8, mientras que algunas tienen valor de 0, lo que confirma los valores anteriores donde la media y la desviación estándar tienen desfases y para lo cual, podemos evidenciar un valor atípico, pues no es normal encontrar valores de 0 en anchos de pista de aeropuertos."
   ]
  },
  {
   "cell_type": "code",
   "execution_count": 57,
   "id": "4f07ee25-94ae-405d-ad90-f6a44c01c832",
   "metadata": {
    "id": "dn8Ez79LPn3a",
    "outputId": "4fdf9370-9987-46a8-80c0-8b4c79655534"
   },
   "outputs": [
    {
     "data": {
      "text/plain": [
       "{'whiskers': [<matplotlib.lines.Line2D at 0x21ea2c29a08>,\n",
       "  <matplotlib.lines.Line2D at 0x21ea2bfd388>],\n",
       " 'caps': [<matplotlib.lines.Line2D at 0x21ea2bfd208>,\n",
       "  <matplotlib.lines.Line2D at 0x21ea2bfdd48>],\n",
       " 'boxes': [<matplotlib.lines.Line2D at 0x21ea2c23dc8>],\n",
       " 'medians': [<matplotlib.lines.Line2D at 0x21ea2c0b4c8>],\n",
       " 'fliers': [<matplotlib.lines.Line2D at 0x21ea2c0b348>],\n",
       " 'means': []}"
      ]
     },
     "execution_count": 57,
     "metadata": {},
     "output_type": "execute_result"
    },
    {
     "data": {
      "image/png": "[encoded data removed]",
      "text/plain": [
       "<Figure size 432x288 with 1 Axes>"
      ]
     },
     "metadata": {
      "needs_background": "light"
     },
     "output_type": "display_data"
    }
   ],
   "source": [
    "%matplotlib inline\n",
    "import matplotlib.pyplot as plt\n",
    "\n",
    "fig1, ax1 = plt.subplots()\n",
    "ax1.set_title('Ancho de pista')\n",
    "ax1.boxplot(np.array(aeropuertos.select('ancho_pista').collect()))"
   ]
  },
  {
   "cell_type": "code",
   "execution_count": 50,
   "id": "2468b5cb-f9e5-4297-afc3-e21548be990d",
   "metadata": {},
   "outputs": [
    {
     "name": "stdout",
     "output_type": "stream",
     "text": [
      "+-------+-------------------+------------------+---------------------+-------------------+----------------+---------------------+-------------------+------------------+------------------+--------------------+----------------------------------------+-------------------------+\n",
      "|summary|Código Departamento|  Código Municipio|Código Centro Poblado|Nombre Departamento|Nombre Municipio|Nombre Centro Poblado|Tipo Centro Poblado|          Longitud|           Latitud|     Nombre Distrito|Municipio/Áreas No Municipalizadas (ANM)|Nombre Área Metropolitana|\n",
      "+-------+-------------------+------------------+---------------------+-------------------+----------------+---------------------+-------------------+------------------+------------------+--------------------+----------------------------------------+-------------------------+\n",
      "|  count|               9508|              9508|                 9508|               9508|            9508|                 9508|               9508|              9508|              9508|                9508|                                    9508|                     9508|\n",
      "|   mean|               41.0| 40581.06994110223| 4.0581083873159446E7|               null|            null|                 null|               null|-74.58826264179658| 5.503320507854293|                null|                                    null|                     null|\n",
      "| stddev|                0.0|26073.879984952444|  2.607388262641055E7|               null|            null|                 null|               null| 4.214896199193669|3.6691444969329488|                null|                                    null|                     null|\n",
      "|    min|                 41|              5001|              5001000|          ANTIOQUIA|           NEIVA|           13 DE MAYO| CABECERA MUNICIPAL|    -81.7300009044|    -4.19469878932|                    |                    AREA NO MUNICIPAL...|                         |\n",
      "|    25%|                 41|             19100|             19100020|               null|            null|                 null|               null|    -76.3551928772|     3.01605390077|                null|                                    null|                     null|\n",
      "|    50%|                 41|             27615|             27615023|               null|            null|                 null|               null|    -75.1846870877|     5.44661322782|                null|                                    null|                     null|\n",
      "|    75%|                 41|             68092|             68092000|               null|            null|                 null|               null|    -73.5653004569|     8.55580584876|                null|                                    null|                     null|\n",
      "|    max|                 41|             99773|             99773027|            vichada|           NEIVA|                ÚTICA|     CENTRO POBLADO|               0.0|     13.3839692233|TURBO, DISTRITO E...|                               MUNICIPIO|     AREA METROPOLITAN...|\n",
      "+-------+-------------------+------------------+---------------------+-------------------+----------------+---------------------+-------------------+------------------+------------------+--------------------+----------------------------------------+-------------------------+\n",
      "\n"
     ]
    }
   ],
   "source": [
    "divipola.summary().show()"
   ]
  },
  {
   "cell_type": "markdown",
   "id": "ed9b56fe-0a2a-4f4f-9da9-87fa574b1e4c",
   "metadata": {},
   "source": [
    "En la tabla anterior podemos observar datos estadísticos generales como el conteo, mínimo, máximo, desviación estándar y los percentiles de 25, 50 y 75 porciento. Dentro de esta tabla, se puede analizar que:\n",
    "- Algunos valores vienen vacíos o nulos, lo que puede inferir que dichos campos no son obligatorios.\n",
    "\n",
    "De igual forma, y para responder a la pregunta de \"Estadisticas descriptivas por columna (numérica, categórica, fechas)\", podemos observar estadísticas de orden, dentro de las cuales se tiene que:\n",
    "- Todos los valores del código de departamento son 41, lo que indica que puede tratarse de un error debido a que si los departamentos cambian el código no puede ser el mismo.\n",
    "- La desviación estándar del código de departamento es 0 debido a que los valores son los mismos, está correcta la desviación pero debe verificarse los datos del departamento.\n",
    "- La desviación estándar del código de municipio es de 26.073 lo que indica que los valores no son iguales.\n",
    "- Los valores del nombre de la ciudad son todos Neiva, por lo que el valor mínimo y máximo son los mismos, esto también puede tratarse de un error de datos.\n",
    "- Los nombres de los departamentos cambian, pero mantienen el mismo nombre del municipio, lo que es un error en los datos.\n",
    "\n",
    "También, mediante gráficas podemos observar la distribución de ciertos valores. Por ejemplo, a continuación, se muestra que el código del municipio es un valor cambiante que está entre los valores de menos de 20.000 y 100.000, pero teniendo su desviación estándar entre 20.000 y 40.000. "
   ]
  },
  {
   "cell_type": "code",
   "execution_count": 56,
   "id": "5037402f-8432-4f2a-a49f-402d0f17d612",
   "metadata": {
    "id": "dn8Ez79LPn3a",
    "outputId": "4fdf9370-9987-46a8-80c0-8b4c79655534"
   },
   "outputs": [
    {
     "data": {
      "text/plain": [
       "{'whiskers': [<matplotlib.lines.Line2D at 0x21ea2e3e8c8>,\n",
       "  <matplotlib.lines.Line2D at 0x21ea2e3e288>],\n",
       " 'caps': [<matplotlib.lines.Line2D at 0x21ea2e27f08>,\n",
       "  <matplotlib.lines.Line2D at 0x21ea2de13c8>],\n",
       " 'boxes': [<matplotlib.lines.Line2D at 0x21ea2dfd288>],\n",
       " 'medians': [<matplotlib.lines.Line2D at 0x21ea0e66c88>],\n",
       " 'fliers': [<matplotlib.lines.Line2D at 0x21ea0e66bc8>],\n",
       " 'means': []}"
      ]
     },
     "execution_count": 56,
     "metadata": {},
     "output_type": "execute_result"
    },
    {
     "data": {
      "image/png": "[encoded data removed]",
      "text/plain": [
       "<Figure size 432x288 with 1 Axes>"
      ]
     },
     "metadata": {
      "needs_background": "light"
     },
     "output_type": "display_data"
    }
   ],
   "source": [
    "%matplotlib inline\n",
    "import matplotlib.pyplot as plt\n",
    "\n",
    "fig1, ax1 = plt.subplots()\n",
    "ax1.set_title('Código Municipio')\n",
    "ax1.boxplot(np.array(divipola.select('Código Municipio').collect()))"
   ]
  },
  {
   "cell_type": "code",
   "execution_count": 53,
   "id": "89363d58-3baf-4425-a2a0-5627e69fc5f4",
   "metadata": {},
   "outputs": [
    {
     "name": "stdout",
     "output_type": "stream",
     "text": [
      "+-------+------------------+------------------+------+-------+------------------+----------+-------+------------------+------------------+-----------------+-----------------+------------------+------------------+\n",
      "|summary|               ano|               mes|origen|destino|       tipo_equipo|tipo_vuelo|trafico|           empresa|            vuelos|           sillas|   carga_ofrecida|         pasajeros|       carga_bordo|\n",
      "+-------+------------------+------------------+------+-------+------------------+----------+-------+------------------+------------------+-----------------+-----------------+------------------+------------------+\n",
      "|  count|            467990|            467990|115441| 115441|            467990|    467990| 467990|            467990|            467990|           467990|           467987|            467990|            467971|\n",
      "|   mean|2009.0125451398535|6.5515397665929775|  null|   null| 627.5512585591667|      null|   null|              null|10.101587640761554|723.7599329045493|74151.02207326272|1080.5277676873438|27051.439200292327|\n",
      "| stddev|3.2104119878606148| 3.459481047725199|  null|   null|200.26909149709917|      null|   null|              null|30.639304779070564|3538.079898391675|549939.6977736511|4141.3172750721305|148645.64058293885|\n",
      "|    min|              2004|                 1|   4jc|    4jc|               318|         A|      E|           A.T.&S.|                 0|                0|              0.0|                 0|               0.0|\n",
      "|    25%|              2006|               4.0|  null|   null|             330.0|      null|   null|              null|                 1|                0|              0.0|                 1|               0.0|\n",
      "|    50%|              2009|               7.0|  null|   null|             757.0|      null|   null|              null|                 2|                0|              0.0|                 6|             148.0|\n",
      "|    75%|              2012|              10.0|  null|   null|             767.0|      null|   null|              null|                 8|               96|          20000.0|               157|            3000.0|\n",
      "|    max|              2014|               Sep|   zzz|    zzz|              WW24|         T|      N|ZOOM AIRLINES INC.|              7006|           700063|      7.2360976E7|             75424|         5963894.0|\n",
      "+-------+------------------+------------------+------+-------+------------------+----------+-------+------------------+------------------+-----------------+-----------------+------------------+------------------+\n",
      "\n"
     ]
    }
   ],
   "source": [
    "vuelos.summary().show()"
   ]
  },
  {
   "cell_type": "markdown",
   "id": "de38d802-aaa8-4053-b773-d69a7ca7b26c",
   "metadata": {},
   "source": [
    "En la tabla anterior podemos observar datos estadísticos generales como el conteo, mínimo, máximo, desviación estándar y los percentiles de 25, 50 y 75 porciento. Dentro de esta tabla, se puede analizar que:\n",
    "- Algunos valores vienen vacíos o nulos, lo que puede inferir que dichos campos no son obligatorios.\n",
    "\n",
    "De igual forma, y para responder a la pregunta de \"Estadisticas descriptivas por columna (numérica, categórica, fechas)\", podemos observar estadísticas de orden, dentro de las cuales se tiene que:\n",
    "- El año promedio en que se realizaron los vuelos fue 2009 y el mes junio.\n",
    "- Los valores promedios para el origen y destino son nulos, por lo que la información no es numérica.\n",
    "- Se tiene en total 467.990 vuelos en el transcurso del tiempo, y se han ocupado un total de 467.990 sillas. La carga ofrecida ha sido de 467.987 y se han transportado un total de 467.990 pasajeros.\n",
    "- El año donde se presentaron los primeros viajes fue 2004 y el mayor fue 2014.\n",
    "- El número mayor de pasajeros que se han transportado a lo largo del tiempo es de 75.424.\n",
    "- La mayor carga abordo que se ha transportado es de 5.963.894.\n",
    "- Se han tenido 7.006 vuelos donde se han ocupado 700.063 sillas.\n",
    "\n",
    "También, mediante gráficas podemos observar la distribución de ciertos valores. Por ejemplo, a continuación, se muestra los años en donde se han realizado los vuelos, dando como resultado que la mayoria de vuelos fueron efectuados en el año 2009, donde el límite inferior y superior es de 2004 y 2014, respectivamente, pero donde la mayor cantidad de vuelos se han realizado entre 2006 y 2012."
   ]
  },
  {
   "cell_type": "code",
   "execution_count": 59,
   "id": "3dc12bc7-433f-4299-97dd-a539f5780e33",
   "metadata": {
    "id": "dn8Ez79LPn3a",
    "outputId": "4fdf9370-9987-46a8-80c0-8b4c79655534"
   },
   "outputs": [
    {
     "data": {
      "text/plain": [
       "{'whiskers': [<matplotlib.lines.Line2D at 0x21ea086c408>,\n",
       "  <matplotlib.lines.Line2D at 0x21ea2e55ec8>],\n",
       " 'caps': [<matplotlib.lines.Line2D at 0x21ea2d38188>,\n",
       "  <matplotlib.lines.Line2D at 0x21ea2d38b48>],\n",
       " 'boxes': [<matplotlib.lines.Line2D at 0x21eacc9a9c8>],\n",
       " 'medians': [<matplotlib.lines.Line2D at 0x21ea2cfe648>],\n",
       " 'fliers': [<matplotlib.lines.Line2D at 0x21ea2cfeec8>],\n",
       " 'means': []}"
      ]
     },
     "execution_count": 59,
     "metadata": {},
     "output_type": "execute_result"
    },
    {
     "data": {
      "image/png": "[encoded data removed]",
      "text/plain": [
       "<Figure size 432x288 with 1 Axes>"
      ]
     },
     "metadata": {
      "needs_background": "light"
     },
     "output_type": "display_data"
    }
   ],
   "source": [
    "%matplotlib inline\n",
    "import matplotlib.pyplot as plt\n",
    "\n",
    "fig1, ax1 = plt.subplots()\n",
    "ax1.set_title('Año de vuelos')\n",
    "ax1.boxplot(np.array(vuelos.select('ano').collect()))"
   ]
  },
  {
   "cell_type": "code",
   "execution_count": 54,
   "id": "d80b23ac-d87e-4bed-b946-8ca371f995b5",
   "metadata": {},
   "outputs": [
    {
     "name": "stdout",
     "output_type": "stream",
     "text": [
      "+-------+----------------------------+-------------+------------------+-----------------+-------------------+--------------------+-----------------+--------------------+--------------------+--------------------+\n",
      "|summary|CodigoDepartamento(DIVIPOLA)|DEPARTAMENTOS|              2006|             2007|               2008|                2010|             2011|                2012|                2013|                2014|\n",
      "+-------+----------------------------+-------------+------------------+-----------------+-------------------+--------------------+-----------------+--------------------+--------------------+--------------------+\n",
      "|  count|                          27|           27|                27|               27|                 27|                  27|               27|                  27|                  27|                  27|\n",
      "|   mean|            48.7037037037037|         null| 6413240.740740741|7130828.037037037|  7851694.186446355|   8737185.290427044|9728735.962962963|1.0380039925925925E7|1.1111859341725312E7|1.1774719888888888E7|\n",
      "| stddev|          35.843478985095544|         null|2611248.9626708487|2977845.769359228|  3262076.800897536|  3708953.8408978363|4313294.524653619|   4492796.711956715|   4785220.102769231|   5118298.026004297|\n",
      "|    min|                           0|    ANTIOQUIA|           3575615|          4060678|   4337203.79854487|   4285403.948100506|          4377994|             4639459|   4856888.325019439|             4733848|\n",
      "|    25%|                          15|         null|           4362011|          4553399|  4854812.196886142|     5337184.1303263|          5516404|             6439647|   6914460.222596752|             7555705|\n",
      "|    50%|                          41|         null|           5133194|          5776380|  7107721.504297101|   9481200.322350295|         10288314|            11400169|1.1967750469189592E7|            12460838|\n",
      "|    75%|                          86|         null|           8046451|          9523137|        1.1048217E7|         1.2340797E7|         13461456|            14347570|1.5262933073640093E7|            16490649|\n",
      "|    max|                          99|         uila|          14770879|         16332253|1.754190668595805E7|1.9690380697771702E7|         21347503|            22865844| 2.453659082487613E7|            26337646|\n",
      "+-------+----------------------------+-------------+------------------+-----------------+-------------------+--------------------+-----------------+--------------------+--------------------+--------------------+\n",
      "\n"
     ]
    }
   ],
   "source": [
    "pib.summary().show()"
   ]
  },
  {
   "cell_type": "markdown",
   "id": "2d321887-5262-4e0e-91f8-81884d711ee6",
   "metadata": {},
   "source": [
    "En la tabla anterior podemos observar datos estadísticos generales como el conteo, mínimo, máximo, desviación estándar y los percentiles de 25, 50 y 75 porciento. Dentro de esta tabla, se puede analizar que:\n",
    "- Algunos valores vienen vacíos o nulos, lo que puede inferir que dichos campos no son obligatorios.\n",
    "\n",
    "De igual forma, y para responder a la pregunta de \"Estadisticas descriptivas por columna (numérica, categórica, fechas)\", podemos observar estadísticas de orden, dentro de las cuales se tiene que:\n",
    "- Se tiene en total 27 registros para cada año, por lo que hay consistencia en datos para cada periodo de tiempo analizado.\n",
    "- Se tiene que el valor de PIB promedio para el año 2006 es de 6.413.240; para el año 2007 es de 7.130.828; para el año 2008 es de 7.851.694; para el año 2010 es de 8.737.185; para el año 2011 es de 9.728.735, lo que se puede inferir que conforme pase el tiempo el valor de PIB aumenta.\n",
    "- Se tienen nombres erróneos para departamentos, ya que no coinciden con los nombres reales de los departamentos de Colombia, como también hay inconsistencia en el formato y escritura con errores de ortografía.\n",
    "\n",
    "También, mediante gráficas podemos observar la distribución de ciertos valores. Por ejemplo, a continuación, se muestra que para el PIB del año 2014 los valores están entre 0.5e7 y 2.5e7, pero su media se encuentra entre 1.0e7 y 1.5e7."
   ]
  },
  {
   "cell_type": "code",
   "execution_count": 60,
   "id": "5d1b6ed6-5b89-45c2-aedb-76c41a3e852f",
   "metadata": {
    "id": "dn8Ez79LPn3a",
    "outputId": "4fdf9370-9987-46a8-80c0-8b4c79655534"
   },
   "outputs": [
    {
     "data": {
      "text/plain": [
       "{'whiskers': [<matplotlib.lines.Line2D at 0x21ea2d62988>,\n",
       "  <matplotlib.lines.Line2D at 0x21ea2c71548>],\n",
       " 'caps': [<matplotlib.lines.Line2D at 0x21ea2d5e288>,\n",
       "  <matplotlib.lines.Line2D at 0x21ea2d5eb88>],\n",
       " 'boxes': [<matplotlib.lines.Line2D at 0x21ea2d1bc48>],\n",
       " 'medians': [<matplotlib.lines.Line2D at 0x21ea1a50ac8>],\n",
       " 'fliers': [<matplotlib.lines.Line2D at 0x21ea1a50608>],\n",
       " 'means': []}"
      ]
     },
     "execution_count": 60,
     "metadata": {},
     "output_type": "execute_result"
    },
    {
     "data": {
      "image/png": "[encoded data removed]",
      "text/plain": [
       "<Figure size 432x288 with 1 Axes>"
      ]
     },
     "metadata": {
      "needs_background": "light"
     },
     "output_type": "display_data"
    }
   ],
   "source": [
    "%matplotlib inline\n",
    "import matplotlib.pyplot as plt\n",
    "\n",
    "fig1, ax1 = plt.subplots()\n",
    "ax1.set_title('PIB año 2014')\n",
    "ax1.boxplot(np.array(pib.select('2014').collect()))"
   ]
  },
  {
   "cell_type": "code",
   "execution_count": 55,
   "id": "6c47cda7-23f7-4b3d-bf35-dd35d9245a80",
   "metadata": {},
   "outputs": [
    {
     "name": "stdout",
     "output_type": "stream",
     "text": [
      "+-------+-----------------+----+--------+-----------------+------------------+\n",
      "|summary|             Anio|  DP|   DPNOM|    Total Hombres|     Total Mujeres|\n",
      "+-------+-----------------+----+--------+-----------------+------------------+\n",
      "|  count|              330| 330|     330|              330|               330|\n",
      "|   mean|           2009.5|25.0|    null|650666.4242424242| 843740.4454545454|\n",
      "| stddev|2.876643180486918| 0.0|    null|751024.7851013226|3097897.0672473223|\n",
      "|    min|             2005|  25|amazonas|            13825|             11636|\n",
      "|    25%|             2007|  25|    null|           173396|            170374|\n",
      "|    50%|             2009|  25|    null|           477977|            489035|\n",
      "|    75%|             2012|  25|    null|           777720|            795592|\n",
      "|    max|             2014|  25| vichada|          3476538|          55000000|\n",
      "+-------+-----------------+----+--------+-----------------+------------------+\n",
      "\n"
     ]
    }
   ],
   "source": [
    "proyecciones.summary().show()"
   ]
  },
  {
   "cell_type": "markdown",
   "id": "52be1b65-b499-4ef5-9994-bd3fd27eaa3d",
   "metadata": {},
   "source": [
    "En la tabla anterior podemos observar datos estadísticos generales como el conteo, mínimo, máximo, desviación estándar y los percentiles de 25, 50 y 75 porciento. Dentro de esta tabla, se puede analizar que:\n",
    "- Algunos valores vienen vacíos o nulos, lo que puede inferir que dichos campos no son obligatorios.\n",
    "\n",
    "De igual forma, y para responder a la pregunta de \"Estadisticas descriptivas por columna (numérica, categórica, fechas)\", podemos observar estadísticas de orden, dentro de las cuales se tiene que:\n",
    "- El año donde se tiene el promedio de registros corresponde al año 2009.\n",
    "- Se tiene en total un promediio de 650.666 hombres y 843.740 mujeres.\n",
    "- El número mínimo de hombres es de 13.825 mientras que el número mínimo de mujeres es de 11.636.\n",
    "- El número máximo de hombres es de 3.476.538 mientras que el número máximo de mujeres es de 55.000.000.\n",
    "- En cuanto departamentos, se tiene que el menor es Amazonas y el mayor Vichada.\n",
    "\n",
    "También, mediante gráficas podemos observar la distribución de ciertos valores. Por ejemplo, a continuación, se muestra que en cuanto al número de hoombres, estos se encuentra entre 0.3e6 y 3.5e6, teniendo como media 0.5e6, pero teniendo entre 0.2e6 y 0.8e6 la cantidad mas demandante."
   ]
  },
  {
   "cell_type": "code",
   "execution_count": 62,
   "id": "3d60a9e4-061f-4dd7-8ff0-4d14fa51b5b7",
   "metadata": {
    "id": "dn8Ez79LPn3a",
    "outputId": "4fdf9370-9987-46a8-80c0-8b4c79655534"
   },
   "outputs": [
    {
     "data": {
      "text/plain": [
       "{'whiskers': [<matplotlib.lines.Line2D at 0x21ea2f0e748>,\n",
       "  <matplotlib.lines.Line2D at 0x21ea2f0ee88>],\n",
       " 'caps': [<matplotlib.lines.Line2D at 0x21ea8f30508>,\n",
       "  <matplotlib.lines.Line2D at 0x21ea8f30ac8>],\n",
       " 'boxes': [<matplotlib.lines.Line2D at 0x21ea2f16a08>],\n",
       " 'medians': [<matplotlib.lines.Line2D at 0x21ea8f370c8>],\n",
       " 'fliers': [<matplotlib.lines.Line2D at 0x21ea8f37708>],\n",
       " 'means': []}"
      ]
     },
     "execution_count": 62,
     "metadata": {},
     "output_type": "execute_result"
    },
    {
     "data": {
      "image/png": "[encoded data removed]",
      "text/plain": [
       "<Figure size 432x288 with 1 Axes>"
      ]
     },
     "metadata": {
      "needs_background": "light"
     },
     "output_type": "display_data"
    }
   ],
   "source": [
    "%matplotlib inline\n",
    "import matplotlib.pyplot as plt\n",
    "\n",
    "fig1, ax1 = plt.subplots()\n",
    "ax1.set_title('Total Hombres')\n",
    "ax1.boxplot(np.array(proyecciones.select('Total Hombres').collect()))"
   ]
  },
  {
   "cell_type": "markdown",
   "id": "ea642c72-6f78-42f6-8794-3fcc3b8687bd",
   "metadata": {
    "id": "9bG1x9gWPn3b",
    "tags": []
   },
   "source": [
    "## Análisis de calidad de datos\n",
    "La calidad de los datos se valida en cuanto a la idoneidad de:\n",
    "- Completitud: Datos que no existen o no se conocen\n",
    "- Unicidad (Duplicidad): Datos que son idénticos en diferentes registros o registros con valores idénticos en atributos en los que no debería ocurrir\n",
    "- Consistencia: Esta medida se define por la validez o integridad del dato, en la definición de su estructura, al interior de una fila o entre diferentes filas de la misma fuente o de diferentes fuentes. El manejo de unidades en los datos y el significado del dato son generadores de inconsistencias.\n",
    "- Validez: a nivel de formato y de sentido de los datos más alla de sus valores\n"
   ]
  },
  {
   "cell_type": "markdown",
   "id": "2b42f203-5120-4004-8b28-7d5a2c264af5",
   "metadata": {},
   "source": [
    "### Completitud"
   ]
  },
  {
   "cell_type": "markdown",
   "id": "8636b4a1-d17f-4ec2-b004-ad4518c92885",
   "metadata": {
    "toc-hr-collapsed": true
   },
   "source": [
    "#### Verificación de valores nulos o vacíos"
   ]
  },
  {
   "cell_type": "code",
   "execution_count": 41,
   "id": "c78cfd1e-3eb8-4737-9d34-1ab3c318f1ba",
   "metadata": {},
   "outputs": [
    {
     "name": "stdout",
     "output_type": "stream",
     "text": [
      "Completitud de la columna TransaccionProductoID: 100.00%\n",
      "Completitud de la columna ProductoID: 100.00%\n",
      "Completitud de la columna TipoTransaccionID: 100.00%\n",
      "Completitud de la columna ClienteID: 100.00%\n",
      "Completitud de la columna InvoiceID: 100.00%\n",
      "Completitud de la columna ProveedorID: 3.48%\n",
      "Completitud de la columna OrdenDeCompraID: 3.48%\n",
      "Completitud de la columna FechaTransaccion: 100.00%\n",
      "Completitud de la columna Cantidad: 100.00%\n"
     ]
    }
   ],
   "source": [
    "# Calcular el número total de filas\n",
    "total_filas = movimientos.count()\n",
    "\n",
    "# Calcular el número de valores incompletos (nulos o vacíos) por columna\n",
    "incompletos_por_columna = movimientos.select(\n",
    "    [count(when(col(c).isNull() | (col(c) == \"\"), c)).alias(c) for c in movimientos.columns]\n",
    ").collect()[0]\n",
    "\n",
    "# Calcular la completitud por columna\n",
    "completitud_por_columna = {c: (1 - (incompletos_por_columna[c] / total_filas)) * 100 for c in movimientos.columns}\n",
    "\n",
    "for c, comp in completitud_por_columna.items():\n",
    "    print(f\"Completitud de la columna {c}: {comp:.3f}%\")"
   ]
  },
  {
   "cell_type": "markdown",
   "id": "c74d8839-5f94-4e7e-abd0-fea7ca85b439",
   "metadata": {
    "toc-hr-collapsed": true
   },
   "source": [
    "\n",
    "#### Comprobación"
   ]
  },
  {
   "cell_type": "code",
   "execution_count": 38,
   "id": "ce1c43f5-34a0-4dd0-a62c-fc6297a9605d",
   "metadata": {},
   "outputs": [
    {
     "name": "stdout",
     "output_type": "stream",
     "text": [
      "+-----------------+------+\n",
      "|TipoTransaccionID| count|\n",
      "+-----------------+------+\n",
      "|               12|    46|\n",
      "|               10|197136|\n",
      "+-----------------+------+\n",
      "\n",
      "+-----------------+------+\n",
      "|TipoTransaccionID| count|\n",
      "+-----------------+------+\n",
      "|               12|    46|\n",
      "|               10|197136|\n",
      "+-----------------+------+\n",
      "\n"
     ]
    }
   ],
   "source": [
    "total_filas = movimientos.count()\n",
    "# Verificar la relación entre TipoTransaccionID y valores vacíos en ProveedorID y OrdenDeCompraID\n",
    "proveedor_vacio_por_tipo = movimientos.filter(col(\"ProveedorID\") == \"\").groupBy(\"TipoTransaccionID\").count()\n",
    "orden_vacio_por_tipo = movimientos.filter(col(\"OrdenDeCompraID\") == \"\").groupBy(\"TipoTransaccionID\").count()\n",
    "\n",
    "proveedor_vacio_por_tipo.show()\n",
    "orden_vacio_por_tipo.show()"
   ]
  },
  {
   "cell_type": "markdown",
   "id": "ff997043-ff3f-45db-88bd-6ed46d0b758c",
   "metadata": {},
   "source": []
  },
  {
   "cell_type": "markdown",
   "id": "7cf92b07-dff2-420e-98b4-362a0c98979a",
   "metadata": {},
   "source": [
    "### Unicidad"
   ]
  },
  {
   "cell_type": "markdown",
   "id": "cb530fdc-5fe0-4d24-8ea4-f0c7e433d419",
   "metadata": {
    "toc-hr-collapsed": true
   },
   "source": [
    "#### Verificación de registros duplicados"
   ]
  },
  {
   "cell_type": "code",
   "execution_count": 23,
   "id": "e7fae763-1cee-4568-b9b0-80f2792f6783",
   "metadata": {},
   "outputs": [
    {
     "name": "stdout",
     "output_type": "stream",
     "text": [
      "+---------------------+----------+-----------------+---------+---------+-----------+---------------+--------------------+--------+-----+\n",
      "|TransaccionProductoID|ProductoID|TipoTransaccionID|ClienteID|InvoiceID|ProveedorID|OrdenDeCompraID|    FechaTransaccion|Cantidad|count|\n",
      "+---------------------+----------+-----------------+---------+---------+-----------+---------------+--------------------+--------+-----+\n",
      "|               270985|       216|               10|    510.0|  56780.0|           |               |2015-10-16 12:00:...|   -10.0|    2|\n",
      "|               118236|       119|               10|    425.0|  24762.0|           |               |2014-04-23 12:00:...|   -10.0|    2|\n",
      "|               265915|       152|               10|    911.0|  55734.0|           |               |2015-09-29 12:00:...|   -10.0|    2|\n",
      "|               261670|        42|               10|    995.0|  54844.0|           |               |2015-09-15 12:00:...|   -10.0|    2|\n",
      "|               218629|        65|               10|    899.0|  45777.0|           |               |2015-04-23 12:00:...|   -10.0|    2|\n",
      "|               156776|       108|               10|    591.0|  32849.0|           |               |2014-09-11 12:00:...|   -10.0|    2|\n",
      "|               302436|       115|               10|    880.0|  63375.0|           |               |2016-02-04 12:00:...|   -10.0|    2|\n",
      "|               157248|       165|               10|     57.0|  32946.0|           |               |2014-09-12 12:00:...|   -10.0|    2|\n",
      "|               223592|        30|               10|    842.0|  46825.0|           |               |2015-05-08 12:00:...|   -10.0|    2|\n",
      "|               283516|        30|               10|     71.0|  59398.0|           |               |2015-11-28 12:00:...|   -10.0|    2|\n",
      "|               319659|         9|               10|   1013.0|  67025.0|           |               |2016-04-07 12:00:...|   -10.0|    2|\n",
      "|               267727|       112|               10|    957.0|  56107.0|           |               |2015-10-06 12:00:...|   -10.0|    2|\n",
      "|               118540|       134|               10|     66.0|  24826.0|           |               |2014-04-24 12:00:...|    -8.0|    2|\n",
      "|               222926|        62|               10|    927.0|  46683.0|           |               |2015-05-06 12:00:...|    -8.0|    2|\n",
      "|               258195|        42|               10|    957.0|  54096.0|           |               |2015-09-04 12:00:...|    -8.0|    2|\n",
      "|               312760|        58|               10|    548.0|  65574.0|           |               |2016-03-14 12:00:...|    -8.0|    2|\n",
      "|               270377|       108|               10|      2.0|  56652.0|           |               |2015-10-15 12:00:...|    -8.0|    2|\n",
      "|               193917|       104|               10|    895.0|  40608.0|           |               |2015-01-28 12:00:...|    -8.0|    2|\n",
      "|               103145|       107|               10|    404.0|  21616.0|           |               |2014-02-22 12:00:...|    -5.0|    2|\n",
      "|                90509|       119|               10|    889.0|  18964.0|           |               |2014-01-03 12:00:...|    -5.0|    2|\n",
      "+---------------------+----------+-----------------+---------+---------+-----------+---------------+--------------------+--------+-----+\n",
      "only showing top 20 rows\n",
      "\n",
      "Total de registros duplicados: 30633\n"
     ]
    }
   ],
   "source": [
    "# Columnas para identificar duplicados\n",
    "key_columns = [\"TransaccionProductoID\", \"ProductoID\", \"TipoTransaccionID\", \"ClienteID\", \"InvoiceID\", \"ProveedorID\", \"OrdenDeCompraID\", \"FechaTransaccion\", \"Cantidad\"]\n",
    "# Contar las ocurrencias de cada combinación de las columnas\n",
    "duplicates = movimientos.groupBy(key_columns).count()\n",
    "# Se filtrar aquellos registros que tienen más de una ocurrencia\n",
    "duplicates = duplicates.filter(col(\"count\") > 1)\n",
    "duplicates.show()\n",
    "# Total de duplicados\n",
    "total_duplicates = duplicates.count()\n",
    "print(f\"Total de registros duplicados: {total_duplicates}\")"
   ]
  },
  {
   "cell_type": "markdown",
   "id": "6b55a9c9-ef43-4a47-8af4-3b2fc3058dab",
   "metadata": {},
   "source": []
  },
  {
   "cell_type": "markdown",
   "id": "964c0d05-485d-4b1b-ac0a-61a8abfdc0be",
   "metadata": {},
   "source": [
    "### Consistencia"
   ]
  },
  {
   "cell_type": "markdown",
   "id": "8ac140a2-c207-44ee-abd2-5ecab9c2c68b",
   "metadata": {
    "toc-hr-collapsed": true
   },
   "source": [
    "#### Verificación consistencia estructural"
   ]
  },
  {
   "cell_type": "code",
   "execution_count": 24,
   "id": "98c2373a-7c3c-4dd3-af36-1d9d45caf13e",
   "metadata": {},
   "outputs": [
    {
     "name": "stdout",
     "output_type": "stream",
     "text": [
      "root\n",
      " |-- TransaccionProductoID: integer (nullable = true)\n",
      " |-- ProductoID: integer (nullable = true)\n",
      " |-- TipoTransaccionID: integer (nullable = true)\n",
      " |-- ClienteID: double (nullable = true)\n",
      " |-- InvoiceID: double (nullable = true)\n",
      " |-- ProveedorID: string (nullable = true)\n",
      " |-- OrdenDeCompraID: string (nullable = true)\n",
      " |-- FechaTransaccion: string (nullable = true)\n",
      " |-- Cantidad: double (nullable = true)\n",
      "\n",
      "+-------+-------------------+-------------------+------------------+\n",
      "|summary|        ProveedorID|    OrdenDeCompraID|  FechaTransaccion|\n",
      "+-------+-------------------+-------------------+------------------+\n",
      "|  count|             204292|             204292|            204292|\n",
      "|   mean|0.10440937481643922|0.19980713880132359|21.967673721927437|\n",
      "| stddev| 0.5498438749162375| 1.0553991369448272|7.4292114553489785|\n",
      "|    min|                  0|                  0|                11|\n",
      "|    25%|                  0|                  0|                11|\n",
      "|    50%|                  0|                  0|                27|\n",
      "|    75%|                  0|                  0|                27|\n",
      "|    max|                  3|                  6|                27|\n",
      "+-------+-------------------+-------------------+------------------+\n",
      "\n"
     ]
    }
   ],
   "source": [
    "# Tipos de datos de las columnas\n",
    "movimientos.printSchema()\n",
    "# Verificar la longitud de los valores en columnas de tipo string\n",
    "from pyspark.sql.functions import length\n",
    "string_columns = [field.name for field in movimientos.schema.fields if field.dataType == StringType()]\n",
    "movimientos.select([length(col(c)).alias(c) for c in string_columns]).summary().show()"
   ]
  },
  {
   "cell_type": "markdown",
   "id": "f48d4300-69c8-46c1-848e-e0c75334358b",
   "metadata": {},
   "source": []
  },
  {
   "cell_type": "markdown",
   "id": "afb21a25-b3c6-4c89-9981-bf25847edc34",
   "metadata": {
    "toc-hr-collapsed": true
   },
   "source": [
    "#### Verificación consistencia de contenido"
   ]
  },
  {
   "cell_type": "code",
   "execution_count": 42,
   "id": "edb0c2d2-e160-4256-bdb5-1f9e537b4ae0",
   "metadata": {},
   "outputs": [
    {
     "name": "stdout",
     "output_type": "stream",
     "text": [
      "Cantidad de registros con cantidad negativa inconsistente: 0\n"
     ]
    }
   ],
   "source": [
    "# Se define los tipos de transacción permitidos para cantidades negativas\n",
    "tipos_transaccion_permitidos = [2, 4, 6, 8, 10, 12, 13]\n",
    "# Filtrar registros con cantidad negativa que no corresponden a los tipos de transacción permitidos\n",
    "cantidad_negativa_inconsistente = movimientos.filter((col(\"Cantidad\") < 0) & (~col(\"TipoTransaccionID\").isin(tipos_transaccion_permitidos))).count()\n",
    "print(f\"Cantidad de registros con cantidad negativa inconsistente: {cantidad_negativa_inconsistente}\")"
   ]
  },
  {
   "cell_type": "markdown",
   "id": "6ff8ce08-6812-4718-a660-b0dd4a783804",
   "metadata": {},
   "source": []
  },
  {
   "cell_type": "markdown",
   "id": "e33145a1-b9e2-4808-8251-e34686c9ba4e",
   "metadata": {},
   "source": [
    "### Validez"
   ]
  },
  {
   "cell_type": "markdown",
   "id": "ce3bdd69-ab24-4615-b15a-c5f723fa71da",
   "metadata": {
    "toc-hr-collapsed": true
   },
   "source": [
    "#### Verificación valores en rangos específicos"
   ]
  },
  {
   "cell_type": "code",
   "execution_count": 29,
   "id": "ce15b55c-ea21-4571-8803-4ebefd95c913",
   "metadata": {},
   "outputs": [
    {
     "name": "stdout",
     "output_type": "stream",
     "text": [
      "Cantidad de registros con cantidades fuera del rango permitido: 0\n"
     ]
    }
   ],
   "source": [
    "# Cantidades dentro de los rangos esperados no más de 50 millones por transacción\n",
    "cantidades_invalidas = movimientos.filter((col(\"Cantidad\") < -50000000) | (col(\"Cantidad\") > 50000000)).count()\n",
    "print(f\"Cantidad de registros con cantidades fuera del rango permitido: {cantidades_invalidas}\")"
   ]
  },
  {
   "cell_type": "markdown",
   "id": "194005c4-b589-44db-9c04-65eed2c6d899",
   "metadata": {},
   "source": []
  },
  {
   "cell_type": "markdown",
   "id": "3028fe8f-1cec-4594-96c9-f92ab3b83e55",
   "metadata": {},
   "source": [
    "## Entendimiento de datos"
   ]
  },
  {
   "cell_type": "markdown",
   "id": "d613649a-f384-46f4-ba10-61ea1cb54100",
   "metadata": {
    "toc-hr-collapsed": true
   },
   "source": [
    "### Analizar la correlación lineal"
   ]
  },
  {
   "cell_type": "code",
   "execution_count": 35,
   "id": "bbff3f19-cc16-49e0-aaed-d04953d58804",
   "metadata": {},
   "outputs": [
    {
     "name": "stdout",
     "output_type": "stream",
     "text": [
      "Correlación entre TipoTransaccionID y Cantidad: 0.8336502987666313\n"
     ]
    }
   ],
   "source": [
    "# Calcular la correlación entre TipoTransaccionID y Cantidad\n",
    "correlacion = movimientos.select(corr(\"TipoTransaccionID\", \"Cantidad\")).collect()[0][0]\n",
    "print(f\"Correlación entre TipoTransaccionID y Cantidad: {correlacion}\")"
   ]
  },
  {
   "cell_type": "markdown",
   "id": "4576a97e-f751-483a-89b2-4ffbdb2d8391",
   "metadata": {},
   "source": []
  },
  {
   "cell_type": "markdown",
   "id": "262e82ae-0169-43e6-9586-1f68b26d1e42",
   "metadata": {
    "id": "kxj4KoVDPn3f"
   },
   "source": [
    "## Conclusiones/resultados"
   ]
  },
  {
   "cell_type": "markdown",
   "id": "c62a6c1c-76a5-4bcb-b955-b656ef5cc805",
   "metadata": {},
   "source": [
    "**Conclusiones generales:**\n",
    "\n",
    "El análisis de la tabla ....\n",
    "\n",
    "**Conclusiones de reglas de negocio:**\n",
    "\n",
    "- \n",
    "- \n",
    "- \n",
    "- \n",
    "- \n",
    "\n",
    "**Conclusiones de calidad:**\n",
    "\n",
    "- \n",
    "- \n",
    "- \n",
    "- \n",
    "\n",
    "**Sección de correlación**\n",
    "\n",
    "\n",
    "\n"
   ]
  },
  {
   "cell_type": "markdown",
   "id": "1186ee20-e4ad-481f-8b40-3a695f59e7f3",
   "metadata": {},
   "source": [
    "## Para la organización\n",
    "\n",
    "**Preguntas y aclaraciones**\n",
    "- \n",
    "- \n",
    "- \n",
    "- \n",
    "- \n",
    "- \n",
    "\n",
    "**Problemas de calidad y alternativas para la limpieza**\n",
    "\n",
    "- \n",
    "- \n",
    "- "
   ]
  },
  {
   "cell_type": "code",
   "execution_count": null,
   "id": "43734ae9-5b8f-4d09-a0e6-0878a94caa86",
   "metadata": {},
   "outputs": [],
   "source": []
  },
  {
   "cell_type": "code",
   "execution_count": null,
   "id": "bce40982-7e1b-4bfa-8117-7e2cd7f553c6",
   "metadata": {},
   "outputs": [],
   "source": []
  }
 ],
 "metadata": {
  "kernelspec": {
   "display_name": "Python 3 (ipykernel)",
   "language": "python",
   "name": "python3"
  },
  "language_info": {
   "codemirror_mode": {
    "name": "ipython",
    "version": 3
   },
   "file_extension": ".py",
   "mimetype": "text/x-python",
   "name": "python",
   "nbconvert_exporter": "python",
   "pygments_lexer": "ipython3",
   "version": "3.7.13"
  },
  "toc-showcode": false,
  "toc-showmarkdowntxt": false,
  "toc-showtags": false
 },
 "nbformat": 4,
 "nbformat_minor": 5
}
